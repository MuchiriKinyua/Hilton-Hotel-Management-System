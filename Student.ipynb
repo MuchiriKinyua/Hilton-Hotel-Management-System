{
 "cells": [
  {
   "cell_type": "markdown",
   "id": "b171c3e9-1c25-48dd-864d-1d460a015e99",
   "metadata": {},
   "source": [
    "# Title"
   ]
  },
  {
   "cell_type": "markdown",
   "id": "00afc4fe-9cb8-496b-b070-27c8d75a38a1",
   "metadata": {},
   "source": [
    "# Table of contents"
   ]
  },
  {
   "cell_type": "markdown",
   "id": "ecd53404-36a6-4dd7-b55d-ba48e2edfdc0",
   "metadata": {},
   "source": [
    "[1. Business Understanding](#1.-Business-Understanding) </br>\n",
    "[1.1 Business Description](#1.1-Business-Description) </br>\n",
    "[1.2 Problem Statement](#1.2-Problem-Statement) </br>\n",
    "[1.3 Main Objective](#1.3-Main-Objective) </br>\n",
    "[1.4 Specific Objectives](#1.4-Specific-Objectives) </br>\n",
    "[2. Importing Libraries And Warnings](#2.-Importing-Libraries-And-Warnings) </br>\n",
    "[3. Data Understanding](#3.-Data-Understanding) </br>\n",
    "[4. Data Preparation](#4.-Data-Preparation) </br>\n",
    "[5. EDA](#5.-EDA) </br>\n",
    "[6. Data Preprocessing](#6.-Data-Preprocessing) </br>\n",
    "[7. Data Modelling](#7.-Data-Modelling) </br>\n",
    "[8. Evaluation](#8.-Evaluation) </br>\n",
    "[9. Recommendations](#9.-Recommendations) </br>\n",
    "[10. Conclusions](#10.-Conclusions) </br>\n",
    "[11. Challenges](#11.-Challenges)"
   ]
  },
  {
   "cell_type": "markdown",
   "id": "3b5fe391-78cb-4539-9fc3-e2207b09abf4",
   "metadata": {},
   "source": [
    "# 1. Business Understanding"
   ]
  },
  {
   "cell_type": "markdown",
   "id": "c30f918b-4ee9-4e6d-bc48-1d252fe3e88d",
   "metadata": {},
   "source": [
    "## 1.1 Business Description"
   ]
  },
  {
   "cell_type": "markdown",
   "id": "a6ac09ce",
   "metadata": {},
   "source": [
    "Hotel booking entails the process through which guests are able to schedule dates and length of stay, room preference among other specifications in a hotel. Bookings can be done physically at the hotel premises, through an agent or online etc. Recently, City and Resort Hotels have been affected by high cancellation rates among other booking trends. As a result, this has led to low revenue generation in those facilities. Since the goal of every business entity is to make profit, the cancellation rates should be dealt with and maintained as low as possible. \n",
    "In this analysis we will address the factors which have highly contributed to high hotel cancellation rates and give recommendations to the hotel owners so that they can mitigate this risk better and earn more profit. The analysis will also be useful to the consumers of the hotel facilities and thus they will be in a position to know the ideal times of the year to book for the hotel rooms, the optimal stay length that offers them best rates etc.\n",
    "The aim of this project is to analyze the Hotels data and study cancellations and their underlying patterns in order to reduce them and secure revenue. \n"
   ]
  },
  {
   "cell_type": "markdown",
   "id": "07d306b3-f7b9-4a22-a788-da55739a91ad",
   "metadata": {},
   "source": [
    "## 1.2 Problem Statement"
   ]
  },
  {
   "cell_type": "markdown",
   "id": "520c2774-d6b1-46ed-ac2e-0927c5cfa5a4",
   "metadata": {},
   "source": [
    "## 1.3 Main Objective"
   ]
  },
  {
   "cell_type": "markdown",
   "id": "f3fe6ef5-bbfc-42f3-8fb5-fc1bc1eab6b2",
   "metadata": {},
   "source": [
    "## 1.4 Specific Objectives"
   ]
  },
  {
   "cell_type": "markdown",
   "id": "df812e05-f774-44fe-a8d3-fc9ea3eaf079",
   "metadata": {},
   "source": [
    "# 2. Importing Libraries And Warnings"
   ]
  },
  {
   "cell_type": "code",
   "execution_count": 1,
   "id": "b40a2446-1d80-4e58-852e-a4923c6c8eb3",
   "metadata": {},
   "outputs": [],
   "source": [
    "import numpy as np\n",
    "import pandas as pd\n",
    "import seaborn as sns\n",
    "import matplotlib.pyplot as plt"
   ]
  },
  {
   "cell_type": "markdown",
   "id": "5750995a-8d00-4f7a-a2cd-4e5e3bf75dc4",
   "metadata": {},
   "source": [
    "# 3. Data Understanding"
   ]
  },
  {
   "cell_type": "markdown",
   "id": "3c93bdde-8c21-4bf3-a968-a3530718c51d",
   "metadata": {},
   "source": [
    "hotel: Type of hotel (e.g., Resort Hotel, City Hotel). </br>\n",
    "is_canceled: Whether the booking was canceled (1 for canceled, 0 for not canceled).</br>\n",
    "lead_time: Number of days between booking and arrival.</br>\n",
    "arrival_date_year: Year of arrival.</br>\n",
    "arrival_date_month: Month of arrival.</br>\n",
    "arrival_date_week_number: Week number of arrival.</br>\n",
    "arrival_date_day_of_month: Day of the month of arrival.</br>\n",
    "stays_in_weekend_nights: Number of weekend nights (Saturday or Sunday) the guest stayed.</br>\n",
    "stays_in_week_nights: Number of weekday nights (Monday to Friday) the guest stayed.</br>\n",
    "adults, children, babies: Number of adults, children, and babies in the booking.</br>\n",
    "meal: Type of meal booked.</br>\n",
    "country: Country of origin of the guest.</br>\n",
    "market_segment: Market segment designation.</br>\n",
    "distribution_channel: Booking distribution channel.</br>\n",
    "is_repeated_guest: Whether the guest is a repeated guest (1 for repeated, 0 for not repeated).</br>\n",
    "previous_cancellations: Number of previous bookings that were canceled by the guest.</br>\n",
    "previous_bookings_not_canceled: Number of previous bookings that were not canceled by the guest.</br>\n",
    "reserved_room_type: Type of room reserved.</br>\n",
    "assigned_room_type: Type of room assigned.</br>\n",
    "booking_changes: Number of changes or modifications made to the booking.</br>\n",
    "deposit_type: Type of deposit made.</br>\n",
    "agent: ID of the travel agency that made the booking.</br>\n",
    "company: ID of the company associated with the booking.</br>\n",
    "days_in_waiting_list: Number of days the booking was in the waiting list.</br>\n",
    "customer_type: Type of booking customer.</br>\n",
    "adr: Average daily rate (an indicator of the rate paid for the room).</br>\n",
    "required_car_parking_spaces: Number of car parking spaces required.</br>\n",
    "total_of_special_requests: Total number of special requests made by the guest.</br>\n",
    "reservation_status: Status of the reservation (e.g., Check-Out, Canceled).</br>\n",
    "reservation_status_date: Date when the reservation status was last updated.</br>\n",
    "name: contains the names of the guests who made the hotel bookings.</br>\n",
    "email: contains the email addresses of guests.</br>\n",
    "phone-number: contains guest phone numbers.</br>\n",
    "credit_card: contains credit card information."
   ]
  },
  {
   "cell_type": "code",
   "execution_count": 2,
   "id": "c0103d9c-29ae-4ecf-bc64-016f4193d245",
   "metadata": {
    "scrolled": true
   },
   "outputs": [
    {
     "data": {
      "text/html": [
       "<div>\n",
       "<style scoped>\n",
       "    .dataframe tbody tr th:only-of-type {\n",
       "        vertical-align: middle;\n",
       "    }\n",
       "\n",
       "    .dataframe tbody tr th {\n",
       "        vertical-align: top;\n",
       "    }\n",
       "\n",
       "    .dataframe thead th {\n",
       "        text-align: right;\n",
       "    }\n",
       "</style>\n",
       "<table border=\"1\" class=\"dataframe\">\n",
       "  <thead>\n",
       "    <tr style=\"text-align: right;\">\n",
       "      <th></th>\n",
       "      <th>hotel</th>\n",
       "      <th>is_canceled</th>\n",
       "      <th>lead_time</th>\n",
       "      <th>arrival_date_year</th>\n",
       "      <th>arrival_date_month</th>\n",
       "      <th>arrival_date_week_number</th>\n",
       "      <th>arrival_date_day_of_month</th>\n",
       "      <th>stays_in_weekend_nights</th>\n",
       "      <th>stays_in_week_nights</th>\n",
       "      <th>adults</th>\n",
       "      <th>...</th>\n",
       "      <th>customer_type</th>\n",
       "      <th>adr</th>\n",
       "      <th>required_car_parking_spaces</th>\n",
       "      <th>total_of_special_requests</th>\n",
       "      <th>reservation_status</th>\n",
       "      <th>reservation_status_date</th>\n",
       "      <th>name</th>\n",
       "      <th>email</th>\n",
       "      <th>phone-number</th>\n",
       "      <th>credit_card</th>\n",
       "    </tr>\n",
       "  </thead>\n",
       "  <tbody>\n",
       "    <tr>\n",
       "      <th>119385</th>\n",
       "      <td>City Hotel</td>\n",
       "      <td>0</td>\n",
       "      <td>23</td>\n",
       "      <td>2017</td>\n",
       "      <td>August</td>\n",
       "      <td>35</td>\n",
       "      <td>30</td>\n",
       "      <td>2</td>\n",
       "      <td>5</td>\n",
       "      <td>2</td>\n",
       "      <td>...</td>\n",
       "      <td>Transient</td>\n",
       "      <td>96.14</td>\n",
       "      <td>0</td>\n",
       "      <td>0</td>\n",
       "      <td>Check-Out</td>\n",
       "      <td>2017-09-06</td>\n",
       "      <td>Claudia Johnson</td>\n",
       "      <td>Claudia.J@yahoo.com</td>\n",
       "      <td>403-092-5582</td>\n",
       "      <td>************8647</td>\n",
       "    </tr>\n",
       "    <tr>\n",
       "      <th>119386</th>\n",
       "      <td>City Hotel</td>\n",
       "      <td>0</td>\n",
       "      <td>102</td>\n",
       "      <td>2017</td>\n",
       "      <td>August</td>\n",
       "      <td>35</td>\n",
       "      <td>31</td>\n",
       "      <td>2</td>\n",
       "      <td>5</td>\n",
       "      <td>3</td>\n",
       "      <td>...</td>\n",
       "      <td>Transient</td>\n",
       "      <td>225.43</td>\n",
       "      <td>0</td>\n",
       "      <td>2</td>\n",
       "      <td>Check-Out</td>\n",
       "      <td>2017-09-07</td>\n",
       "      <td>Wesley Aguilar</td>\n",
       "      <td>WAguilar@xfinity.com</td>\n",
       "      <td>238-763-0612</td>\n",
       "      <td>************4333</td>\n",
       "    </tr>\n",
       "    <tr>\n",
       "      <th>119387</th>\n",
       "      <td>City Hotel</td>\n",
       "      <td>0</td>\n",
       "      <td>34</td>\n",
       "      <td>2017</td>\n",
       "      <td>August</td>\n",
       "      <td>35</td>\n",
       "      <td>31</td>\n",
       "      <td>2</td>\n",
       "      <td>5</td>\n",
       "      <td>2</td>\n",
       "      <td>...</td>\n",
       "      <td>Transient</td>\n",
       "      <td>157.71</td>\n",
       "      <td>0</td>\n",
       "      <td>4</td>\n",
       "      <td>Check-Out</td>\n",
       "      <td>2017-09-07</td>\n",
       "      <td>Mary Morales</td>\n",
       "      <td>Mary_Morales@hotmail.com</td>\n",
       "      <td>395-518-4100</td>\n",
       "      <td>************1821</td>\n",
       "    </tr>\n",
       "    <tr>\n",
       "      <th>119388</th>\n",
       "      <td>City Hotel</td>\n",
       "      <td>0</td>\n",
       "      <td>109</td>\n",
       "      <td>2017</td>\n",
       "      <td>August</td>\n",
       "      <td>35</td>\n",
       "      <td>31</td>\n",
       "      <td>2</td>\n",
       "      <td>5</td>\n",
       "      <td>2</td>\n",
       "      <td>...</td>\n",
       "      <td>Transient</td>\n",
       "      <td>104.40</td>\n",
       "      <td>0</td>\n",
       "      <td>0</td>\n",
       "      <td>Check-Out</td>\n",
       "      <td>2017-09-07</td>\n",
       "      <td>Caroline Conley MD</td>\n",
       "      <td>MD_Caroline@comcast.net</td>\n",
       "      <td>531-528-1017</td>\n",
       "      <td>************7860</td>\n",
       "    </tr>\n",
       "    <tr>\n",
       "      <th>119389</th>\n",
       "      <td>City Hotel</td>\n",
       "      <td>0</td>\n",
       "      <td>205</td>\n",
       "      <td>2017</td>\n",
       "      <td>August</td>\n",
       "      <td>35</td>\n",
       "      <td>29</td>\n",
       "      <td>2</td>\n",
       "      <td>7</td>\n",
       "      <td>2</td>\n",
       "      <td>...</td>\n",
       "      <td>Transient</td>\n",
       "      <td>151.20</td>\n",
       "      <td>0</td>\n",
       "      <td>2</td>\n",
       "      <td>Check-Out</td>\n",
       "      <td>2017-09-07</td>\n",
       "      <td>Ariana Michael</td>\n",
       "      <td>Ariana_M@xfinity.com</td>\n",
       "      <td>422-804-6403</td>\n",
       "      <td>************4482</td>\n",
       "    </tr>\n",
       "  </tbody>\n",
       "</table>\n",
       "<p>5 rows × 36 columns</p>\n",
       "</div>"
      ],
      "text/plain": [
       "             hotel  is_canceled  lead_time  arrival_date_year  \\\n",
       "119385  City Hotel            0         23               2017   \n",
       "119386  City Hotel            0        102               2017   \n",
       "119387  City Hotel            0         34               2017   \n",
       "119388  City Hotel            0        109               2017   \n",
       "119389  City Hotel            0        205               2017   \n",
       "\n",
       "       arrival_date_month  arrival_date_week_number  \\\n",
       "119385             August                        35   \n",
       "119386             August                        35   \n",
       "119387             August                        35   \n",
       "119388             August                        35   \n",
       "119389             August                        35   \n",
       "\n",
       "        arrival_date_day_of_month  stays_in_weekend_nights  \\\n",
       "119385                         30                        2   \n",
       "119386                         31                        2   \n",
       "119387                         31                        2   \n",
       "119388                         31                        2   \n",
       "119389                         29                        2   \n",
       "\n",
       "        stays_in_week_nights  adults  ...  customer_type     adr  \\\n",
       "119385                     5       2  ...      Transient   96.14   \n",
       "119386                     5       3  ...      Transient  225.43   \n",
       "119387                     5       2  ...      Transient  157.71   \n",
       "119388                     5       2  ...      Transient  104.40   \n",
       "119389                     7       2  ...      Transient  151.20   \n",
       "\n",
       "       required_car_parking_spaces total_of_special_requests  \\\n",
       "119385                           0                         0   \n",
       "119386                           0                         2   \n",
       "119387                           0                         4   \n",
       "119388                           0                         0   \n",
       "119389                           0                         2   \n",
       "\n",
       "       reservation_status reservation_status_date                name  \\\n",
       "119385          Check-Out              2017-09-06     Claudia Johnson   \n",
       "119386          Check-Out              2017-09-07      Wesley Aguilar   \n",
       "119387          Check-Out              2017-09-07        Mary Morales   \n",
       "119388          Check-Out              2017-09-07  Caroline Conley MD   \n",
       "119389          Check-Out              2017-09-07      Ariana Michael   \n",
       "\n",
       "                           email  phone-number       credit_card  \n",
       "119385       Claudia.J@yahoo.com  403-092-5582  ************8647  \n",
       "119386      WAguilar@xfinity.com  238-763-0612  ************4333  \n",
       "119387  Mary_Morales@hotmail.com  395-518-4100  ************1821  \n",
       "119388   MD_Caroline@comcast.net  531-528-1017  ************7860  \n",
       "119389      Ariana_M@xfinity.com  422-804-6403  ************4482  \n",
       "\n",
       "[5 rows x 36 columns]"
      ]
     },
     "execution_count": 2,
     "metadata": {},
     "output_type": "execute_result"
    }
   ],
   "source": [
    "# loading our dataset and assigning it to a variable hotel\n",
    "hotel = pd.read_csv(\"Data/hotel_booking.csv\")\n",
    "hotel.tail(5)"
   ]
  },
  {
   "cell_type": "code",
   "execution_count": 3,
   "id": "e6226ceb-9fb2-46ce-a53f-91e585fffc25",
   "metadata": {},
   "outputs": [
    {
     "name": "stdout",
     "output_type": "stream",
     "text": [
      "<class 'pandas.core.frame.DataFrame'>\n",
      "RangeIndex: 119390 entries, 0 to 119389\n",
      "Data columns (total 36 columns):\n",
      " #   Column                          Non-Null Count   Dtype  \n",
      "---  ------                          --------------   -----  \n",
      " 0   hotel                           119390 non-null  object \n",
      " 1   is_canceled                     119390 non-null  int64  \n",
      " 2   lead_time                       119390 non-null  int64  \n",
      " 3   arrival_date_year               119390 non-null  int64  \n",
      " 4   arrival_date_month              119390 non-null  object \n",
      " 5   arrival_date_week_number        119390 non-null  int64  \n",
      " 6   arrival_date_day_of_month       119390 non-null  int64  \n",
      " 7   stays_in_weekend_nights         119390 non-null  int64  \n",
      " 8   stays_in_week_nights            119390 non-null  int64  \n",
      " 9   adults                          119390 non-null  int64  \n",
      " 10  children                        119386 non-null  float64\n",
      " 11  babies                          119390 non-null  int64  \n",
      " 12  meal                            119390 non-null  object \n",
      " 13  country                         118902 non-null  object \n",
      " 14  market_segment                  119390 non-null  object \n",
      " 15  distribution_channel            119390 non-null  object \n",
      " 16  is_repeated_guest               119390 non-null  int64  \n",
      " 17  previous_cancellations          119390 non-null  int64  \n",
      " 18  previous_bookings_not_canceled  119390 non-null  int64  \n",
      " 19  reserved_room_type              119390 non-null  object \n",
      " 20  assigned_room_type              119390 non-null  object \n",
      " 21  booking_changes                 119390 non-null  int64  \n",
      " 22  deposit_type                    119390 non-null  object \n",
      " 23  agent                           103050 non-null  float64\n",
      " 24  company                         6797 non-null    float64\n",
      " 25  days_in_waiting_list            119390 non-null  int64  \n",
      " 26  customer_type                   119390 non-null  object \n",
      " 27  adr                             119390 non-null  float64\n",
      " 28  required_car_parking_spaces     119390 non-null  int64  \n",
      " 29  total_of_special_requests       119390 non-null  int64  \n",
      " 30  reservation_status              119390 non-null  object \n",
      " 31  reservation_status_date         119390 non-null  object \n",
      " 32  name                            119390 non-null  object \n",
      " 33  email                           119390 non-null  object \n",
      " 34  phone-number                    119390 non-null  object \n",
      " 35  credit_card                     119390 non-null  object \n",
      "dtypes: float64(4), int64(16), object(16)\n",
      "memory usage: 32.8+ MB\n"
     ]
    }
   ],
   "source": [
    "#Looking at each columns datatypes\n",
    "hotel.info()"
   ]
  },
  {
   "cell_type": "code",
   "execution_count": 4,
   "id": "07c63729-bda8-4226-8dbc-01c8f0f5b186",
   "metadata": {},
   "outputs": [
    {
     "data": {
      "text/html": [
       "<div>\n",
       "<style scoped>\n",
       "    .dataframe tbody tr th:only-of-type {\n",
       "        vertical-align: middle;\n",
       "    }\n",
       "\n",
       "    .dataframe tbody tr th {\n",
       "        vertical-align: top;\n",
       "    }\n",
       "\n",
       "    .dataframe thead th {\n",
       "        text-align: right;\n",
       "    }\n",
       "</style>\n",
       "<table border=\"1\" class=\"dataframe\">\n",
       "  <thead>\n",
       "    <tr style=\"text-align: right;\">\n",
       "      <th></th>\n",
       "      <th>is_canceled</th>\n",
       "      <th>lead_time</th>\n",
       "      <th>arrival_date_year</th>\n",
       "      <th>arrival_date_week_number</th>\n",
       "      <th>arrival_date_day_of_month</th>\n",
       "      <th>stays_in_weekend_nights</th>\n",
       "      <th>stays_in_week_nights</th>\n",
       "      <th>adults</th>\n",
       "      <th>children</th>\n",
       "      <th>babies</th>\n",
       "      <th>is_repeated_guest</th>\n",
       "      <th>previous_cancellations</th>\n",
       "      <th>previous_bookings_not_canceled</th>\n",
       "      <th>booking_changes</th>\n",
       "      <th>agent</th>\n",
       "      <th>company</th>\n",
       "      <th>days_in_waiting_list</th>\n",
       "      <th>adr</th>\n",
       "      <th>required_car_parking_spaces</th>\n",
       "      <th>total_of_special_requests</th>\n",
       "    </tr>\n",
       "  </thead>\n",
       "  <tbody>\n",
       "    <tr>\n",
       "      <th>count</th>\n",
       "      <td>119390.000000</td>\n",
       "      <td>119390.000000</td>\n",
       "      <td>119390.000000</td>\n",
       "      <td>119390.000000</td>\n",
       "      <td>119390.000000</td>\n",
       "      <td>119390.000000</td>\n",
       "      <td>119390.000000</td>\n",
       "      <td>119390.000000</td>\n",
       "      <td>119386.000000</td>\n",
       "      <td>119390.000000</td>\n",
       "      <td>119390.000000</td>\n",
       "      <td>119390.000000</td>\n",
       "      <td>119390.000000</td>\n",
       "      <td>119390.000000</td>\n",
       "      <td>103050.000000</td>\n",
       "      <td>6797.000000</td>\n",
       "      <td>119390.000000</td>\n",
       "      <td>119390.000000</td>\n",
       "      <td>119390.000000</td>\n",
       "      <td>119390.000000</td>\n",
       "    </tr>\n",
       "    <tr>\n",
       "      <th>mean</th>\n",
       "      <td>0.370416</td>\n",
       "      <td>104.011416</td>\n",
       "      <td>2016.156554</td>\n",
       "      <td>27.165173</td>\n",
       "      <td>15.798241</td>\n",
       "      <td>0.927599</td>\n",
       "      <td>2.500302</td>\n",
       "      <td>1.856403</td>\n",
       "      <td>0.103890</td>\n",
       "      <td>0.007949</td>\n",
       "      <td>0.031912</td>\n",
       "      <td>0.087118</td>\n",
       "      <td>0.137097</td>\n",
       "      <td>0.221124</td>\n",
       "      <td>86.693382</td>\n",
       "      <td>189.266735</td>\n",
       "      <td>2.321149</td>\n",
       "      <td>101.831122</td>\n",
       "      <td>0.062518</td>\n",
       "      <td>0.571363</td>\n",
       "    </tr>\n",
       "    <tr>\n",
       "      <th>std</th>\n",
       "      <td>0.482918</td>\n",
       "      <td>106.863097</td>\n",
       "      <td>0.707476</td>\n",
       "      <td>13.605138</td>\n",
       "      <td>8.780829</td>\n",
       "      <td>0.998613</td>\n",
       "      <td>1.908286</td>\n",
       "      <td>0.579261</td>\n",
       "      <td>0.398561</td>\n",
       "      <td>0.097436</td>\n",
       "      <td>0.175767</td>\n",
       "      <td>0.844336</td>\n",
       "      <td>1.497437</td>\n",
       "      <td>0.652306</td>\n",
       "      <td>110.774548</td>\n",
       "      <td>131.655015</td>\n",
       "      <td>17.594721</td>\n",
       "      <td>50.535790</td>\n",
       "      <td>0.245291</td>\n",
       "      <td>0.792798</td>\n",
       "    </tr>\n",
       "    <tr>\n",
       "      <th>min</th>\n",
       "      <td>0.000000</td>\n",
       "      <td>0.000000</td>\n",
       "      <td>2015.000000</td>\n",
       "      <td>1.000000</td>\n",
       "      <td>1.000000</td>\n",
       "      <td>0.000000</td>\n",
       "      <td>0.000000</td>\n",
       "      <td>0.000000</td>\n",
       "      <td>0.000000</td>\n",
       "      <td>0.000000</td>\n",
       "      <td>0.000000</td>\n",
       "      <td>0.000000</td>\n",
       "      <td>0.000000</td>\n",
       "      <td>0.000000</td>\n",
       "      <td>1.000000</td>\n",
       "      <td>6.000000</td>\n",
       "      <td>0.000000</td>\n",
       "      <td>-6.380000</td>\n",
       "      <td>0.000000</td>\n",
       "      <td>0.000000</td>\n",
       "    </tr>\n",
       "    <tr>\n",
       "      <th>25%</th>\n",
       "      <td>0.000000</td>\n",
       "      <td>18.000000</td>\n",
       "      <td>2016.000000</td>\n",
       "      <td>16.000000</td>\n",
       "      <td>8.000000</td>\n",
       "      <td>0.000000</td>\n",
       "      <td>1.000000</td>\n",
       "      <td>2.000000</td>\n",
       "      <td>0.000000</td>\n",
       "      <td>0.000000</td>\n",
       "      <td>0.000000</td>\n",
       "      <td>0.000000</td>\n",
       "      <td>0.000000</td>\n",
       "      <td>0.000000</td>\n",
       "      <td>9.000000</td>\n",
       "      <td>62.000000</td>\n",
       "      <td>0.000000</td>\n",
       "      <td>69.290000</td>\n",
       "      <td>0.000000</td>\n",
       "      <td>0.000000</td>\n",
       "    </tr>\n",
       "    <tr>\n",
       "      <th>50%</th>\n",
       "      <td>0.000000</td>\n",
       "      <td>69.000000</td>\n",
       "      <td>2016.000000</td>\n",
       "      <td>28.000000</td>\n",
       "      <td>16.000000</td>\n",
       "      <td>1.000000</td>\n",
       "      <td>2.000000</td>\n",
       "      <td>2.000000</td>\n",
       "      <td>0.000000</td>\n",
       "      <td>0.000000</td>\n",
       "      <td>0.000000</td>\n",
       "      <td>0.000000</td>\n",
       "      <td>0.000000</td>\n",
       "      <td>0.000000</td>\n",
       "      <td>14.000000</td>\n",
       "      <td>179.000000</td>\n",
       "      <td>0.000000</td>\n",
       "      <td>94.575000</td>\n",
       "      <td>0.000000</td>\n",
       "      <td>0.000000</td>\n",
       "    </tr>\n",
       "    <tr>\n",
       "      <th>75%</th>\n",
       "      <td>1.000000</td>\n",
       "      <td>160.000000</td>\n",
       "      <td>2017.000000</td>\n",
       "      <td>38.000000</td>\n",
       "      <td>23.000000</td>\n",
       "      <td>2.000000</td>\n",
       "      <td>3.000000</td>\n",
       "      <td>2.000000</td>\n",
       "      <td>0.000000</td>\n",
       "      <td>0.000000</td>\n",
       "      <td>0.000000</td>\n",
       "      <td>0.000000</td>\n",
       "      <td>0.000000</td>\n",
       "      <td>0.000000</td>\n",
       "      <td>229.000000</td>\n",
       "      <td>270.000000</td>\n",
       "      <td>0.000000</td>\n",
       "      <td>126.000000</td>\n",
       "      <td>0.000000</td>\n",
       "      <td>1.000000</td>\n",
       "    </tr>\n",
       "    <tr>\n",
       "      <th>max</th>\n",
       "      <td>1.000000</td>\n",
       "      <td>737.000000</td>\n",
       "      <td>2017.000000</td>\n",
       "      <td>53.000000</td>\n",
       "      <td>31.000000</td>\n",
       "      <td>19.000000</td>\n",
       "      <td>50.000000</td>\n",
       "      <td>55.000000</td>\n",
       "      <td>10.000000</td>\n",
       "      <td>10.000000</td>\n",
       "      <td>1.000000</td>\n",
       "      <td>26.000000</td>\n",
       "      <td>72.000000</td>\n",
       "      <td>21.000000</td>\n",
       "      <td>535.000000</td>\n",
       "      <td>543.000000</td>\n",
       "      <td>391.000000</td>\n",
       "      <td>5400.000000</td>\n",
       "      <td>8.000000</td>\n",
       "      <td>5.000000</td>\n",
       "    </tr>\n",
       "  </tbody>\n",
       "</table>\n",
       "</div>"
      ],
      "text/plain": [
       "         is_canceled      lead_time  arrival_date_year  \\\n",
       "count  119390.000000  119390.000000      119390.000000   \n",
       "mean        0.370416     104.011416        2016.156554   \n",
       "std         0.482918     106.863097           0.707476   \n",
       "min         0.000000       0.000000        2015.000000   \n",
       "25%         0.000000      18.000000        2016.000000   \n",
       "50%         0.000000      69.000000        2016.000000   \n",
       "75%         1.000000     160.000000        2017.000000   \n",
       "max         1.000000     737.000000        2017.000000   \n",
       "\n",
       "       arrival_date_week_number  arrival_date_day_of_month  \\\n",
       "count             119390.000000              119390.000000   \n",
       "mean                  27.165173                  15.798241   \n",
       "std                   13.605138                   8.780829   \n",
       "min                    1.000000                   1.000000   \n",
       "25%                   16.000000                   8.000000   \n",
       "50%                   28.000000                  16.000000   \n",
       "75%                   38.000000                  23.000000   \n",
       "max                   53.000000                  31.000000   \n",
       "\n",
       "       stays_in_weekend_nights  stays_in_week_nights         adults  \\\n",
       "count            119390.000000         119390.000000  119390.000000   \n",
       "mean                  0.927599              2.500302       1.856403   \n",
       "std                   0.998613              1.908286       0.579261   \n",
       "min                   0.000000              0.000000       0.000000   \n",
       "25%                   0.000000              1.000000       2.000000   \n",
       "50%                   1.000000              2.000000       2.000000   \n",
       "75%                   2.000000              3.000000       2.000000   \n",
       "max                  19.000000             50.000000      55.000000   \n",
       "\n",
       "            children         babies  is_repeated_guest  \\\n",
       "count  119386.000000  119390.000000      119390.000000   \n",
       "mean        0.103890       0.007949           0.031912   \n",
       "std         0.398561       0.097436           0.175767   \n",
       "min         0.000000       0.000000           0.000000   \n",
       "25%         0.000000       0.000000           0.000000   \n",
       "50%         0.000000       0.000000           0.000000   \n",
       "75%         0.000000       0.000000           0.000000   \n",
       "max        10.000000      10.000000           1.000000   \n",
       "\n",
       "       previous_cancellations  previous_bookings_not_canceled  \\\n",
       "count           119390.000000                   119390.000000   \n",
       "mean                 0.087118                        0.137097   \n",
       "std                  0.844336                        1.497437   \n",
       "min                  0.000000                        0.000000   \n",
       "25%                  0.000000                        0.000000   \n",
       "50%                  0.000000                        0.000000   \n",
       "75%                  0.000000                        0.000000   \n",
       "max                 26.000000                       72.000000   \n",
       "\n",
       "       booking_changes          agent      company  days_in_waiting_list  \\\n",
       "count    119390.000000  103050.000000  6797.000000         119390.000000   \n",
       "mean          0.221124      86.693382   189.266735              2.321149   \n",
       "std           0.652306     110.774548   131.655015             17.594721   \n",
       "min           0.000000       1.000000     6.000000              0.000000   \n",
       "25%           0.000000       9.000000    62.000000              0.000000   \n",
       "50%           0.000000      14.000000   179.000000              0.000000   \n",
       "75%           0.000000     229.000000   270.000000              0.000000   \n",
       "max          21.000000     535.000000   543.000000            391.000000   \n",
       "\n",
       "                 adr  required_car_parking_spaces  total_of_special_requests  \n",
       "count  119390.000000                119390.000000              119390.000000  \n",
       "mean      101.831122                     0.062518                   0.571363  \n",
       "std        50.535790                     0.245291                   0.792798  \n",
       "min        -6.380000                     0.000000                   0.000000  \n",
       "25%        69.290000                     0.000000                   0.000000  \n",
       "50%        94.575000                     0.000000                   0.000000  \n",
       "75%       126.000000                     0.000000                   1.000000  \n",
       "max      5400.000000                     8.000000                   5.000000  "
      ]
     },
     "execution_count": 4,
     "metadata": {},
     "output_type": "execute_result"
    }
   ],
   "source": [
    "#summary of statistics that has to do with the DataFrame\n",
    "hotel.describe()"
   ]
  },
  {
   "cell_type": "code",
   "execution_count": 5,
   "id": "3e07d90b-fb4e-4824-b705-0c5de3f32fe5",
   "metadata": {},
   "outputs": [
    {
     "data": {
      "text/plain": [
       "Index(['hotel', 'is_canceled', 'lead_time', 'arrival_date_year',\n",
       "       'arrival_date_month', 'arrival_date_week_number',\n",
       "       'arrival_date_day_of_month', 'stays_in_weekend_nights',\n",
       "       'stays_in_week_nights', 'adults', 'children', 'babies', 'meal',\n",
       "       'country', 'market_segment', 'distribution_channel',\n",
       "       'is_repeated_guest', 'previous_cancellations',\n",
       "       'previous_bookings_not_canceled', 'reserved_room_type',\n",
       "       'assigned_room_type', 'booking_changes', 'deposit_type', 'agent',\n",
       "       'company', 'days_in_waiting_list', 'customer_type', 'adr',\n",
       "       'required_car_parking_spaces', 'total_of_special_requests',\n",
       "       'reservation_status', 'reservation_status_date', 'name', 'email',\n",
       "       'phone-number', 'credit_card'],\n",
       "      dtype='object')"
      ]
     },
     "execution_count": 5,
     "metadata": {},
     "output_type": "execute_result"
    }
   ],
   "source": [
    "# checking the columns in our dataset\n",
    "hotel.columns"
   ]
  },
  {
   "cell_type": "code",
   "execution_count": 6,
   "id": "5b9d8e2c-06cb-41b3-91f1-b08998665e06",
   "metadata": {},
   "outputs": [
    {
     "data": {
      "text/plain": [
       "(119390, 36)"
      ]
     },
     "execution_count": 6,
     "metadata": {},
     "output_type": "execute_result"
    }
   ],
   "source": [
    "# checking the shape of our data\n",
    "hotel.shape"
   ]
  },
  {
   "cell_type": "markdown",
   "id": "ce77ee70-904b-4610-be86-e67686dd0a9a",
   "metadata": {},
   "source": [
    "# 4. Data Preparation"
   ]
  },
  {
   "cell_type": "markdown",
   "id": "583c8a79-6863-4fbf-bff9-e57569f2354b",
   "metadata": {},
   "source": [
    "# Missing Values"
   ]
  },
  {
   "cell_type": "code",
   "execution_count": 7,
   "id": "fc53bcbd-146f-4817-bab5-36198214a39a",
   "metadata": {},
   "outputs": [
    {
     "data": {
      "text/plain": [
       "hotel                                  0\n",
       "is_canceled                            0\n",
       "lead_time                              0\n",
       "arrival_date_year                      0\n",
       "arrival_date_month                     0\n",
       "arrival_date_week_number               0\n",
       "arrival_date_day_of_month              0\n",
       "stays_in_weekend_nights                0\n",
       "stays_in_week_nights                   0\n",
       "adults                                 0\n",
       "children                               4\n",
       "babies                                 0\n",
       "meal                                   0\n",
       "country                              488\n",
       "market_segment                         0\n",
       "distribution_channel                   0\n",
       "is_repeated_guest                      0\n",
       "previous_cancellations                 0\n",
       "previous_bookings_not_canceled         0\n",
       "reserved_room_type                     0\n",
       "assigned_room_type                     0\n",
       "booking_changes                        0\n",
       "deposit_type                           0\n",
       "agent                              16340\n",
       "company                           112593\n",
       "days_in_waiting_list                   0\n",
       "customer_type                          0\n",
       "adr                                    0\n",
       "required_car_parking_spaces            0\n",
       "total_of_special_requests              0\n",
       "reservation_status                     0\n",
       "reservation_status_date                0\n",
       "name                                   0\n",
       "email                                  0\n",
       "phone-number                           0\n",
       "credit_card                            0\n",
       "dtype: int64"
      ]
     },
     "execution_count": 7,
     "metadata": {},
     "output_type": "execute_result"
    }
   ],
   "source": [
    "#checking for missing values\n",
    "hotel.isna().sum()"
   ]
  },
  {
   "cell_type": "markdown",
   "id": "6549d0fe-afff-49cf-9d7e-a8f4a2be6e6c",
   "metadata": {},
   "source": [
    "## Handling country missing values"
   ]
  },
  {
   "cell_type": "code",
   "execution_count": 8,
   "id": "09f4a960-6fde-4ba5-a8d4-6204f820a3cd",
   "metadata": {},
   "outputs": [
    {
     "data": {
      "text/plain": [
       "array(['PRT', 'GBR', 'USA', 'ESP', 'IRL', 'FRA', nan, 'ROU', 'NOR', 'OMN',\n",
       "       'ARG', 'POL', 'DEU', 'BEL', 'CHE', 'CN', 'GRC', 'ITA', 'NLD',\n",
       "       'DNK', 'RUS', 'SWE', 'AUS', 'EST', 'CZE', 'BRA', 'FIN', 'MOZ',\n",
       "       'BWA', 'LUX', 'SVN', 'ALB', 'IND', 'CHN', 'MEX', 'MAR', 'UKR',\n",
       "       'SMR', 'LVA', 'PRI', 'SRB', 'CHL', 'AUT', 'BLR', 'LTU', 'TUR',\n",
       "       'ZAF', 'AGO', 'ISR', 'CYM', 'ZMB', 'CPV', 'ZWE', 'DZA', 'KOR',\n",
       "       'CRI', 'HUN', 'ARE', 'TUN', 'JAM', 'HRV', 'HKG', 'IRN', 'GEO',\n",
       "       'AND', 'GIB', 'URY', 'JEY', 'CAF', 'CYP', 'COL', 'GGY', 'KWT',\n",
       "       'NGA', 'MDV', 'VEN', 'SVK', 'FJI', 'KAZ', 'PAK', 'IDN', 'LBN',\n",
       "       'PHL', 'SEN', 'SYC', 'AZE', 'BHR', 'NZL', 'THA', 'DOM', 'MKD',\n",
       "       'MYS', 'ARM', 'JPN', 'LKA', 'CUB', 'CMR', 'BIH', 'MUS', 'COM',\n",
       "       'SUR', 'UGA', 'BGR', 'CIV', 'JOR', 'SYR', 'SGP', 'BDI', 'SAU',\n",
       "       'VNM', 'PLW', 'QAT', 'EGY', 'PER', 'MLT', 'MWI', 'ECU', 'MDG',\n",
       "       'ISL', 'UZB', 'NPL', 'BHS', 'MAC', 'TGO', 'TWN', 'DJI', 'STP',\n",
       "       'KNA', 'ETH', 'IRQ', 'HND', 'RWA', 'KHM', 'MCO', 'BGD', 'IMN',\n",
       "       'TJK', 'NIC', 'BEN', 'VGB', 'TZA', 'GAB', 'GHA', 'TMP', 'GLP',\n",
       "       'KEN', 'LIE', 'GNB', 'MNE', 'UMI', 'MYT', 'FRO', 'MMR', 'PAN',\n",
       "       'BFA', 'LBY', 'MLI', 'NAM', 'BOL', 'PRY', 'BRB', 'ABW', 'AIA',\n",
       "       'SLV', 'DMA', 'PYF', 'GUY', 'LCA', 'ATA', 'GTM', 'ASM', 'MRT',\n",
       "       'NCL', 'KIR', 'SDN', 'ATF', 'SLE', 'LAO'], dtype=object)"
      ]
     },
     "execution_count": 8,
     "metadata": {},
     "output_type": "execute_result"
    }
   ],
   "source": [
    "# looking at the missing values in the country column\n",
    "hotel[\"country\"].unique()"
   ]
  },
  {
   "cell_type": "code",
   "execution_count": 9,
   "id": "06c3ee29-ef6e-49b6-b92c-26a2292dab9b",
   "metadata": {},
   "outputs": [
    {
     "data": {
      "text/plain": [
       "488"
      ]
     },
     "execution_count": 9,
     "metadata": {},
     "output_type": "execute_result"
    }
   ],
   "source": [
    "#The sum of the missing values\n",
    "sum_nan = hotel[\"country\"].isna().sum()\n",
    "sum_nan"
   ]
  },
  {
   "cell_type": "code",
   "execution_count": 10,
   "id": "92102d90-270f-43d8-9406-03cb1518dc5d",
   "metadata": {},
   "outputs": [
    {
     "data": {
      "text/plain": [
       "118902"
      ]
     },
     "execution_count": 10,
     "metadata": {},
     "output_type": "execute_result"
    }
   ],
   "source": [
    "# Sum of all values in the country column\n",
    "sum_country = hotel[\"country\"].value_counts().sum()\n",
    "sum_country"
   ]
  },
  {
   "cell_type": "code",
   "execution_count": 11,
   "id": "22581207-d8ef-4daa-9a3a-b61b638f7253",
   "metadata": {},
   "outputs": [
    {
     "name": "stdout",
     "output_type": "stream",
     "text": [
      "0.4104\n"
     ]
    }
   ],
   "source": [
    "#Looking at the percentage of the missing values\n",
    "perc_nan = sum_nan / sum_country * 100\n",
    "print(round(perc_nan, 4))"
   ]
  },
  {
   "cell_type": "markdown",
   "id": "32903dc1-3bd8-40f0-86c3-8542fb214de3",
   "metadata": {},
   "source": [
    "Removing the country missing values beacuse the number of missing values which is 488 is insignificantly small."
   ]
  },
  {
   "cell_type": "code",
   "execution_count": 12,
   "id": "2d36525a-27d2-4110-ab51-3145d40cd8e5",
   "metadata": {},
   "outputs": [],
   "source": [
    "# dropping country nan values\n",
    "hotel.dropna(subset = [\"country\"], inplace = True)"
   ]
  },
  {
   "cell_type": "code",
   "execution_count": 13,
   "id": "17ed2f21-d0aa-48bd-b206-f1e8e3d7ec50",
   "metadata": {},
   "outputs": [
    {
     "data": {
      "text/plain": [
       "array(['PRT', 'GBR', 'USA', 'ESP', 'IRL', 'FRA', 'ROU', 'NOR', 'OMN',\n",
       "       'ARG', 'POL', 'DEU', 'BEL', 'CHE', 'CN', 'GRC', 'ITA', 'NLD',\n",
       "       'DNK', 'RUS', 'SWE', 'AUS', 'EST', 'CZE', 'BRA', 'FIN', 'MOZ',\n",
       "       'BWA', 'LUX', 'SVN', 'ALB', 'IND', 'CHN', 'MEX', 'MAR', 'UKR',\n",
       "       'SMR', 'LVA', 'PRI', 'SRB', 'CHL', 'AUT', 'BLR', 'LTU', 'TUR',\n",
       "       'ZAF', 'AGO', 'ISR', 'CYM', 'ZMB', 'CPV', 'ZWE', 'DZA', 'KOR',\n",
       "       'CRI', 'HUN', 'ARE', 'TUN', 'JAM', 'HRV', 'HKG', 'IRN', 'GEO',\n",
       "       'AND', 'GIB', 'URY', 'JEY', 'CAF', 'CYP', 'COL', 'GGY', 'KWT',\n",
       "       'NGA', 'MDV', 'VEN', 'SVK', 'FJI', 'KAZ', 'PAK', 'IDN', 'LBN',\n",
       "       'PHL', 'SEN', 'SYC', 'AZE', 'BHR', 'NZL', 'THA', 'DOM', 'MKD',\n",
       "       'MYS', 'ARM', 'JPN', 'LKA', 'CUB', 'CMR', 'BIH', 'MUS', 'COM',\n",
       "       'SUR', 'UGA', 'BGR', 'CIV', 'JOR', 'SYR', 'SGP', 'BDI', 'SAU',\n",
       "       'VNM', 'PLW', 'QAT', 'EGY', 'PER', 'MLT', 'MWI', 'ECU', 'MDG',\n",
       "       'ISL', 'UZB', 'NPL', 'BHS', 'MAC', 'TGO', 'TWN', 'DJI', 'STP',\n",
       "       'KNA', 'ETH', 'IRQ', 'HND', 'RWA', 'KHM', 'MCO', 'BGD', 'IMN',\n",
       "       'TJK', 'NIC', 'BEN', 'VGB', 'TZA', 'GAB', 'GHA', 'TMP', 'GLP',\n",
       "       'KEN', 'LIE', 'GNB', 'MNE', 'UMI', 'MYT', 'FRO', 'MMR', 'PAN',\n",
       "       'BFA', 'LBY', 'MLI', 'NAM', 'BOL', 'PRY', 'BRB', 'ABW', 'AIA',\n",
       "       'SLV', 'DMA', 'PYF', 'GUY', 'LCA', 'ATA', 'GTM', 'ASM', 'MRT',\n",
       "       'NCL', 'KIR', 'SDN', 'ATF', 'SLE', 'LAO'], dtype=object)"
      ]
     },
     "execution_count": 13,
     "metadata": {},
     "output_type": "execute_result"
    }
   ],
   "source": [
    "# confirming that the missing values have been removed\n",
    "hotel[\"country\"].unique()"
   ]
  },
  {
   "cell_type": "markdown",
   "id": "c606ea89-8472-4c05-b6e3-54e370366af4",
   "metadata": {},
   "source": [
    "## Handling agent missing values"
   ]
  },
  {
   "cell_type": "code",
   "execution_count": 14,
   "id": "0526282e-c2c2-4443-80b4-f2ce194e12a5",
   "metadata": {},
   "outputs": [
    {
     "data": {
      "text/plain": [
       "array([ nan, 304., 240., 303.,  15., 241.,   8., 250., 115.,   5., 175.,\n",
       "       134., 156., 243., 242.,   3., 105.,  40., 147., 306., 184.,  96.,\n",
       "         2., 127.,  95., 146.,   9., 177.,   6., 143., 244., 149., 167.,\n",
       "       300., 171., 305.,  67., 196., 152., 142., 261., 104.,  36.,  26.,\n",
       "        29., 258., 110.,  71., 181.,  88., 251., 275.,  69., 248., 208.,\n",
       "       256., 314., 126., 281., 273., 253., 185., 330., 334., 328., 326.,\n",
       "       321., 324., 313.,  38., 155.,  68., 335., 308., 332.,  94., 348.,\n",
       "       310., 339., 375.,  66., 327., 387., 298.,  91., 245., 385., 257.,\n",
       "       393., 168., 405., 249., 315.,  75., 128., 307.,  11., 436.,   1.,\n",
       "       201., 183., 223., 368., 336., 291., 464., 411., 481.,  10., 154.,\n",
       "       468., 410., 390., 440., 495., 492., 493., 434.,  57., 531., 420.,\n",
       "       483., 526., 472., 429.,  16.,  34., 252., 270.,  47., 114., 301.,\n",
       "       193., 182., 135., 350., 195., 352., 355., 159., 139., 363., 384.,\n",
       "       360., 331., 367.,  64.,  78., 406., 163., 414., 333., 427., 431.,\n",
       "       430., 426., 438., 433., 418., 441., 282., 432.,  72., 450., 180.,\n",
       "       454., 455.,  59., 451., 254., 358., 469., 165., 467., 510., 337.,\n",
       "       476., 502., 527., 479., 508., 535., 302., 497., 187.,  13.,   7.,\n",
       "        27.,  14.,  22.,  17.,  28.,  42.,  20.,  19.,  45.,  37.,  61.,\n",
       "        39.,  21.,  24.,  41.,  50.,  30.,  54.,  52.,  12.,  44.,  31.,\n",
       "        83.,  32.,  63.,  60.,  55.,  56.,  89.,  87., 118.,  86.,  85.,\n",
       "       210., 214., 129., 179., 138., 174., 170., 153.,  93., 151., 119.,\n",
       "        35., 173.,  58.,  53., 133.,  79., 235., 192., 191., 236., 162.,\n",
       "       215., 157., 287., 132., 234.,  98.,  77., 103., 107., 262., 220.,\n",
       "       121., 205., 378.,  23., 296., 290., 229.,  33., 286., 276., 425.,\n",
       "       484., 323., 403., 219., 394., 509., 111., 423.,   4.,  70.,  82.,\n",
       "        81.,  74.,  92.,  99.,  90., 112., 117., 106., 148., 158., 144.,\n",
       "       211., 213., 216., 232., 150., 267., 227., 247., 278., 280., 285.,\n",
       "       289., 269., 295., 265., 288., 122., 294., 325., 341., 344., 346.,\n",
       "       359., 283., 364., 370., 371.,  25., 141., 391., 397., 416., 404.,\n",
       "       299., 197.,  73., 354., 444., 408., 461., 388., 453., 459., 474.,\n",
       "       475., 480., 449.])"
      ]
     },
     "execution_count": 14,
     "metadata": {},
     "output_type": "execute_result"
    }
   ],
   "source": [
    "# looking at the missing values in the agent column\n",
    "hotel[\"agent\"].unique()"
   ]
  },
  {
   "cell_type": "code",
   "execution_count": 15,
   "id": "e43afb67-98b3-4b5f-aeee-baa42c1354f2",
   "metadata": {},
   "outputs": [
    {
     "data": {
      "text/plain": [
       "array([  0., 304., 240., 303.,  15., 241.,   8., 250., 115.,   5., 175.,\n",
       "       134., 156., 243., 242.,   3., 105.,  40., 147., 306., 184.,  96.,\n",
       "         2., 127.,  95., 146.,   9., 177.,   6., 143., 244., 149., 167.,\n",
       "       300., 171., 305.,  67., 196., 152., 142., 261., 104.,  36.,  26.,\n",
       "        29., 258., 110.,  71., 181.,  88., 251., 275.,  69., 248., 208.,\n",
       "       256., 314., 126., 281., 273., 253., 185., 330., 334., 328., 326.,\n",
       "       321., 324., 313.,  38., 155.,  68., 335., 308., 332.,  94., 348.,\n",
       "       310., 339., 375.,  66., 327., 387., 298.,  91., 245., 385., 257.,\n",
       "       393., 168., 405., 249., 315.,  75., 128., 307.,  11., 436.,   1.,\n",
       "       201., 183., 223., 368., 336., 291., 464., 411., 481.,  10., 154.,\n",
       "       468., 410., 390., 440., 495., 492., 493., 434.,  57., 531., 420.,\n",
       "       483., 526., 472., 429.,  16.,  34., 252., 270.,  47., 114., 301.,\n",
       "       193., 182., 135., 350., 195., 352., 355., 159., 139., 363., 384.,\n",
       "       360., 331., 367.,  64.,  78., 406., 163., 414., 333., 427., 431.,\n",
       "       430., 426., 438., 433., 418., 441., 282., 432.,  72., 450., 180.,\n",
       "       454., 455.,  59., 451., 254., 358., 469., 165., 467., 510., 337.,\n",
       "       476., 502., 527., 479., 508., 535., 302., 497., 187.,  13.,   7.,\n",
       "        27.,  14.,  22.,  17.,  28.,  42.,  20.,  19.,  45.,  37.,  61.,\n",
       "        39.,  21.,  24.,  41.,  50.,  30.,  54.,  52.,  12.,  44.,  31.,\n",
       "        83.,  32.,  63.,  60.,  55.,  56.,  89.,  87., 118.,  86.,  85.,\n",
       "       210., 214., 129., 179., 138., 174., 170., 153.,  93., 151., 119.,\n",
       "        35., 173.,  58.,  53., 133.,  79., 235., 192., 191., 236., 162.,\n",
       "       215., 157., 287., 132., 234.,  98.,  77., 103., 107., 262., 220.,\n",
       "       121., 205., 378.,  23., 296., 290., 229.,  33., 286., 276., 425.,\n",
       "       484., 323., 403., 219., 394., 509., 111., 423.,   4.,  70.,  82.,\n",
       "        81.,  74.,  92.,  99.,  90., 112., 117., 106., 148., 158., 144.,\n",
       "       211., 213., 216., 232., 150., 267., 227., 247., 278., 280., 285.,\n",
       "       289., 269., 295., 265., 288., 122., 294., 325., 341., 344., 346.,\n",
       "       359., 283., 364., 370., 371.,  25., 141., 391., 397., 416., 404.,\n",
       "       299., 197.,  73., 354., 444., 408., 461., 388., 453., 459., 474.,\n",
       "       475., 480., 449.])"
      ]
     },
     "execution_count": 15,
     "metadata": {},
     "output_type": "execute_result"
    }
   ],
   "source": [
    "#Filling the missing values with 0 as a unique ID\n",
    "hotel[\"agent\"].fillna(0, inplace=True)\n",
    "\n",
    "#confirming that the agent nan values have been replaced with 0\n",
    "hotel[\"agent\"].unique()"
   ]
  },
  {
   "cell_type": "markdown",
   "id": "8e38bc2d-303b-4bfe-aa4e-841051d339fe",
   "metadata": {},
   "source": [
    "The nan values have been replaced with 0. 0 represents the clients that did not use an agent"
   ]
  },
  {
   "cell_type": "markdown",
   "id": "cd045d15-496e-43fc-9d96-958a74fb8133",
   "metadata": {},
   "source": [
    "## Handling company missing values"
   ]
  },
  {
   "cell_type": "code",
   "execution_count": 16,
   "id": "37eac3bf-2152-4349-94c6-b022d776dcfc",
   "metadata": {},
   "outputs": [
    {
     "data": {
      "text/plain": [
       "array([ nan, 110., 113., 270., 178., 240., 154., 144., 307., 268.,  59.,\n",
       "       204., 312., 318.,  94., 174., 274., 195., 223., 317., 281., 118.,\n",
       "        53., 286.,  12.,  47., 324., 342., 373., 371.,  86.,  82., 218.,\n",
       "        88.,  31., 397., 392., 405., 331., 367.,  20.,  83., 416.,  51.,\n",
       "       395., 102.,  34.,  84., 360., 394., 382., 461., 478., 112., 486.,\n",
       "       421.,   9., 308., 135., 224., 504., 269., 356., 498., 390., 513.,\n",
       "       203., 263., 477., 521., 169., 515., 445., 337., 251., 428., 292.,\n",
       "       388., 130., 250., 355., 254., 543., 531., 528., 120.,  81., 116.,\n",
       "       530., 103.,  62.,  39.,  16.,  61.,  92., 501., 291., 290., 192.,\n",
       "        43., 465., 287., 297., 207., 437., 165., 329., 272.,  28.,  77.,\n",
       "       482., 200.,  42., 338., 108.,  72., 246., 319., 146., 159., 380.,\n",
       "       323., 511., 407., 325., 278.,  80., 403., 399.,  14., 137., 343.,\n",
       "       346., 347., 349., 289., 351., 353.,  54.,  99., 358., 361., 362.,\n",
       "       366., 372., 365., 277., 109., 377., 379.,  22., 378., 330., 364.,\n",
       "       401., 232., 255., 384., 167., 212., 514., 391., 400., 376., 402.,\n",
       "       396., 302., 398., 225.,   6., 370., 369., 409., 168., 104., 408.,\n",
       "       413., 148.,  10., 333., 419., 415., 424., 425., 423., 422., 435.,\n",
       "       439., 442., 282., 448., 443., 454., 444.,  52., 459., 458., 456.,\n",
       "       460., 447., 470., 466., 484., 184., 485.,  32., 487., 491., 490.,\n",
       "       494., 193., 516., 496., 499.,  29.,  78., 520., 507., 506., 512.,\n",
       "       126.,  64., 242., 518., 523., 539., 534., 436., 525., 541.,  40.,\n",
       "       455., 410.,  45.,  38.,  49.,  48.,  67.,  68.,  65.,  91.,  37.,\n",
       "         8., 179., 209., 219., 221., 227., 153., 186., 253., 202., 216.,\n",
       "       275., 233., 280., 309., 321.,  93., 316.,  85., 107., 350., 334.,\n",
       "       348., 150.,  73., 385., 418., 197., 450., 452., 115.,  46.,  76.,\n",
       "        96., 100., 105., 101., 122.,  11., 139., 142., 127., 143., 140.,\n",
       "       149., 163., 160., 180., 238., 183., 222., 185., 217., 215., 213.,\n",
       "       237., 230., 234.,  35., 245., 158., 258., 259., 260., 411., 257.,\n",
       "       271.,  18., 106., 210., 273.,  71., 284., 301., 305., 293., 264.,\n",
       "       311., 304., 313., 288., 320., 314., 332., 341., 352., 243., 383.,\n",
       "       368., 393., 132., 220., 412., 420., 426., 417., 429., 433., 446.,\n",
       "       357., 479., 483., 489., 229., 481., 497., 451., 492.])"
      ]
     },
     "execution_count": 16,
     "metadata": {},
     "output_type": "execute_result"
    }
   ],
   "source": [
    "#The sum of the missing values\n",
    "hotel[\"company\"].unique()"
   ]
  },
  {
   "cell_type": "code",
   "execution_count": 17,
   "id": "ef7e2d1a-f802-4294-8850-47fc9819e1b0",
   "metadata": {},
   "outputs": [
    {
     "data": {
      "text/plain": [
       "6623"
      ]
     },
     "execution_count": 17,
     "metadata": {},
     "output_type": "execute_result"
    }
   ],
   "source": [
    "# Sum of all non-missing values in the company column\n",
    "sum_company = (~hotel[\"company\"].isna()).sum()\n",
    "sum_company"
   ]
  },
  {
   "cell_type": "code",
   "execution_count": 18,
   "id": "211a6874-5cfa-4f6e-8f1c-e943c6f52602",
   "metadata": {
    "scrolled": true
   },
   "outputs": [
    {
     "data": {
      "text/plain": [
       "112279"
      ]
     },
     "execution_count": 18,
     "metadata": {},
     "output_type": "execute_result"
    }
   ],
   "source": [
    "#The sum of the missing values\n",
    "sum_nan = hotel[\"company\"].isna().sum()\n",
    "sum_nan"
   ]
  },
  {
   "cell_type": "code",
   "execution_count": 19,
   "id": "1edba78c-042d-4d58-acf0-9571ce368dd5",
   "metadata": {},
   "outputs": [
    {
     "data": {
      "text/plain": [
       "118902"
      ]
     },
     "execution_count": 19,
     "metadata": {},
     "output_type": "execute_result"
    }
   ],
   "source": [
    "# Sum of all values in the company column\n",
    "total_company= sum_nan + sum_company\n",
    "total_company"
   ]
  },
  {
   "cell_type": "code",
   "execution_count": 20,
   "id": "01e3e9d4-e492-468c-bfef-39a25444dfc7",
   "metadata": {},
   "outputs": [
    {
     "name": "stdout",
     "output_type": "stream",
     "text": [
      "94.4299\n"
     ]
    }
   ],
   "source": [
    "#Looking at the percentage of the missing values\n",
    "perc_nan = sum_nan / total_company * 100\n",
    "print(round(perc_nan, 4))"
   ]
  },
  {
   "cell_type": "code",
   "execution_count": 21,
   "id": "67af0602-70dd-469f-801b-efc1b135792b",
   "metadata": {},
   "outputs": [
    {
     "data": {
      "text/plain": [
       "(118902, 35)"
      ]
     },
     "execution_count": 21,
     "metadata": {},
     "output_type": "execute_result"
    }
   ],
   "source": [
    "#Dropping the company column \n",
    "hotel.drop(\"company\", axis=1, inplace=True)\n",
    "hotel.shape"
   ]
  },
  {
   "cell_type": "markdown",
   "id": "58cbf3b1-1d7e-41db-9b25-943b5e63e784",
   "metadata": {},
   "source": [
    "We have dropped the company column because it has 94% of the missing values in the column\n",
    "\n",
    "We can see that our data now has 35 columns and 118,902 rows after the column company has been dropped"
   ]
  },
  {
   "cell_type": "code",
   "execution_count": 22,
   "id": "67b33926-db1f-45cb-8faf-0568ca5a5d07",
   "metadata": {},
   "outputs": [
    {
     "data": {
      "text/plain": [
       "hotel                             0\n",
       "is_canceled                       0\n",
       "lead_time                         0\n",
       "arrival_date_year                 0\n",
       "arrival_date_month                0\n",
       "arrival_date_week_number          0\n",
       "arrival_date_day_of_month         0\n",
       "stays_in_weekend_nights           0\n",
       "stays_in_week_nights              0\n",
       "adults                            0\n",
       "children                          4\n",
       "babies                            0\n",
       "meal                              0\n",
       "country                           0\n",
       "market_segment                    0\n",
       "distribution_channel              0\n",
       "is_repeated_guest                 0\n",
       "previous_cancellations            0\n",
       "previous_bookings_not_canceled    0\n",
       "reserved_room_type                0\n",
       "assigned_room_type                0\n",
       "booking_changes                   0\n",
       "deposit_type                      0\n",
       "agent                             0\n",
       "days_in_waiting_list              0\n",
       "customer_type                     0\n",
       "adr                               0\n",
       "required_car_parking_spaces       0\n",
       "total_of_special_requests         0\n",
       "reservation_status                0\n",
       "reservation_status_date           0\n",
       "name                              0\n",
       "email                             0\n",
       "phone-number                      0\n",
       "credit_card                       0\n",
       "dtype: int64"
      ]
     },
     "execution_count": 22,
     "metadata": {},
     "output_type": "execute_result"
    }
   ],
   "source": [
    "# Checking if there any missing values left\n",
    "hotel.isna().sum()"
   ]
  },
  {
   "cell_type": "markdown",
   "id": "ea09131e-0c64-459c-9b1b-5e40428fbefd",
   "metadata": {},
   "source": [
    "## Duplicates"
   ]
  },
  {
   "cell_type": "code",
   "execution_count": 23,
   "id": "05c23fbe-8071-4d13-a63c-282d4be9c301",
   "metadata": {},
   "outputs": [
    {
     "data": {
      "text/plain": [
       "0"
      ]
     },
     "execution_count": 23,
     "metadata": {},
     "output_type": "execute_result"
    }
   ],
   "source": [
    "#Looking for duplicates in the dataset\n",
    "hotel.duplicated().sum()"
   ]
  },
  {
   "cell_type": "markdown",
   "id": "22e78b24-405d-4ae5-abb9-34cf4cc92cd7",
   "metadata": {},
   "source": [
    "We have 0 duplicates in our dataset"
   ]
  },
  {
   "cell_type": "markdown",
   "id": "cfec1773-c472-41a3-a668-84ce5d7c2965",
   "metadata": {},
   "source": [
    "## Placeholders"
   ]
  },
  {
   "cell_type": "code",
   "execution_count": 24,
   "id": "b54b3f5d-bceb-41c4-80bc-bd739765c036",
   "metadata": {},
   "outputs": [
    {
     "name": "stdout",
     "output_type": "stream",
     "text": [
      "We have found place holders, '/' in column 'market_segment' \n",
      "We have found place holders, '/' in column 'distribution_channel' \n",
      "We have found place holders, '-' in column 'customer_type' \n",
      "We have found place holders, '-' in column 'reservation_status' \n",
      "We have found place holders, '-' in column 'reservation_status_date' \n",
      "We have found place holders, '@' in column 'email' \n",
      "We have found place holders, '_' in column 'email' \n",
      "We have found place holders, '-' in column 'phone-number' \n",
      "We have found place holders, '\\*' in column 'credit_card' \n"
     ]
    }
   ],
   "source": [
    "# checking for placeholders\n",
    "place_holder = ['\\\\#',',','/','-','@','\\\\*','_']\n",
    "\n",
    "# for loop to loop through the columns checking for any placeholder\n",
    "for placeholder in hotel.columns:\n",
    "    if hotel[placeholder].dtype == 'object':\n",
    "        for hold in place_holder:\n",
    "            if hotel[placeholder].str.contains(hold).any():\n",
    "                print(f\"We have found place holders, '{hold}' in column '{placeholder}' \")"
   ]
  },
  {
   "cell_type": "code",
   "execution_count": 25,
   "id": "6b8d1e4b-b048-4b33-837b-73fc10084bbb",
   "metadata": {},
   "outputs": [],
   "source": [
    "# removing placeholders that have been gotten\n",
    "rem_place_holders = {'market_segment':'/',\n",
    "                     'distribution_channel':'/',\n",
    "                     'customer_type':'-',\n",
    "                     'reservation_status': '-',\n",
    "                     'reservation_status_date':'-',\n",
    "                     'email':'@',\n",
    "                     'email':'_',\n",
    "                     'phone-number':'-',\n",
    "                     'credit_card':'\\\\*' }\n",
    "for placeholder, hold in rem_place_holders.items():\n",
    "    hotel[placeholder] = hotel[placeholder].str.replace(hold,'', regex = True)"
   ]
  },
  {
   "cell_type": "code",
   "execution_count": 26,
   "id": "7f210056-9cd1-441c-b7b4-ab420ad607ca",
   "metadata": {},
   "outputs": [
    {
     "name": "stdout",
     "output_type": "stream",
     "text": [
      "We have found place holders, '@' in column 'email' \n"
     ]
    }
   ],
   "source": [
    "for placeholder in hotel.columns:\n",
    "    if hotel[placeholder].dtype == 'object':\n",
    "        for hold in place_holder:\n",
    "            if hotel[placeholder].str.contains(hold).any():\n",
    "                print(f\"We have found place holders, '{hold}' in column '{placeholder}' \")"
   ]
  },
  {
   "cell_type": "code",
   "execution_count": 27,
   "id": "2d2c5977-e983-4b0c-bc51-16e70147dfce",
   "metadata": {},
   "outputs": [
    {
     "data": {
      "text/plain": [
       "0         Ernest.Barnes31outlook.com\n",
       "1               AndreaBaker94aol.com\n",
       "2           RebeccaParkercomcast.net\n",
       "3                    LauraMgmail.com\n",
       "4                  LHinesverizon.com\n",
       "                     ...            \n",
       "119385            Claudia.Jyahoo.com\n",
       "119386           WAguilarxfinity.com\n",
       "119387        MaryMoraleshotmail.com\n",
       "119388         MDCarolinecomcast.net\n",
       "119389            ArianaMxfinity.com\n",
       "Name: email, Length: 118902, dtype: object"
      ]
     },
     "execution_count": 27,
     "metadata": {},
     "output_type": "execute_result"
    }
   ],
   "source": [
    "# removing @ from email\n",
    "hotel['email']= hotel['email'].str.replace('@','')\n",
    "hotel['email']"
   ]
  },
  {
   "cell_type": "markdown",
   "id": "a2a518ca-7929-40b3-ad88-fcad6f9bc822",
   "metadata": {},
   "source": [
    "## Removing whitespace"
   ]
  },
  {
   "cell_type": "code",
   "execution_count": 28,
   "id": "f6f28814-b591-4381-af03-d4ca0d73dd08",
   "metadata": {},
   "outputs": [
    {
     "name": "stdout",
     "output_type": "stream",
     "text": [
      "Columns with whitespace: []\n"
     ]
    }
   ],
   "source": [
    "hotel_whitespace = [col for col in hotel.columns if col.strip() != col]\n",
    "print(\"Columns with whitespace:\", hotel_whitespace)"
   ]
  },
  {
   "cell_type": "markdown",
   "id": "5f37d0f8-6378-4cf8-916f-1ba7e8750972",
   "metadata": {},
   "source": [
    "## Outliers"
   ]
  },
  {
   "cell_type": "code",
   "execution_count": 29,
   "id": "6184646a-fd3a-4952-b3dd-75b14536bcd3",
   "metadata": {},
   "outputs": [
    {
     "data": {
      "text/plain": [
       "0           0.00\n",
       "1           0.00\n",
       "2          75.00\n",
       "3          75.00\n",
       "4          98.00\n",
       "           ...  \n",
       "119385     96.14\n",
       "119386    225.43\n",
       "119387    157.71\n",
       "119388    104.40\n",
       "119389    151.20\n",
       "Name: adr, Length: 118902, dtype: float64"
      ]
     },
     "execution_count": 29,
     "metadata": {},
     "output_type": "execute_result"
    }
   ],
   "source": [
    "hotel['adr']"
   ]
  },
  {
   "cell_type": "code",
   "execution_count": 30,
   "id": "114b6076-8063-4572-8ad1-cbf8a16a18d6",
   "metadata": {},
   "outputs": [],
   "source": [
    "# since children has 4 missing values we impute the median since it is least affected by outliers\n",
    "hotel['children'].fillna(value= hotel['children'].median(), inplace=True )"
   ]
  },
  {
   "cell_type": "code",
   "execution_count": 31,
   "id": "60c1e911-0b16-4106-a34c-2f885746b407",
   "metadata": {},
   "outputs": [
    {
     "data": {
      "image/png": "[encoded data removed]",
      "text/plain": [
       "<Figure size 640x480 with 1 Axes>"
      ]
     },
     "metadata": {},
     "output_type": "display_data"
    }
   ],
   "source": [
    "# Creating a loop for creating a boxplot for each column\n",
    "\n",
    "sns.boxplot(x = hotel['adr'])\n",
    "plt.show()"
   ]
  },
  {
   "cell_type": "code",
   "execution_count": 32,
   "id": "e0166381-5eb1-49d4-998d-910bbb6f26f0",
   "metadata": {},
   "outputs": [
    {
     "data": {
      "image/png": "[encoded data removed]",
      "text/plain": [
       "<Figure size 640x480 with 1 Axes>"
      ]
     },
     "metadata": {},
     "output_type": "display_data"
    }
   ],
   "source": [
    "sns.boxplot(x = hotel['lead_time'])\n",
    "plt.show()"
   ]
  },
  {
   "cell_type": "markdown",
   "id": "e26b3cb0-d4c3-4948-970d-32463c17fd4b",
   "metadata": {},
   "source": [
    "Removing the outliers may affect the distribution of our dataset, affecting further data analysis relevant to predict hotel cancelation."
   ]
  },
  {
   "cell_type": "markdown",
   "id": "b5c46192-0406-43af-a3a6-ce18be6854ed",
   "metadata": {},
   "source": [
    "# 5. EDA"
   ]
  },
  {
   "cell_type": "markdown",
   "id": "9ee2b67b-8375-4190-a851-b74a50baf393",
   "metadata": {},
   "source": [
    "# 6. Data Preprocessing"
   ]
  },
  {
   "cell_type": "markdown",
   "id": "92b8b2b6",
   "metadata": {},
   "source": [
    "###### Feature Engineering"
   ]
  },
  {
   "cell_type": "code",
   "execution_count": 33,
   "id": "bc464ab2",
   "metadata": {},
   "outputs": [
    {
     "name": "stderr",
     "output_type": "stream",
     "text": [
      "C:\\Users\\admin\\AppData\\Local\\Temp\\ipykernel_18456\\3038480313.py:2: FutureWarning: The default value of numeric_only in DataFrame.corr is deprecated. In a future version, it will default to False. Select only valid columns or specify the value of numeric_only to silence this warning.\n",
      "  correlation_matrix = hotel.corr()\n"
     ]
    },
    {
     "data": {
      "image/png": "[encoded data removed]",
      "text/plain": [
       "<Figure size 1000x800 with 2 Axes>"
      ]
     },
     "metadata": {},
     "output_type": "display_data"
    }
   ],
   "source": [
    "# Calculate the correlation matrix\n",
    "correlation_matrix = hotel.corr()\n",
    "\n",
    "# Create a heatmap\n",
    "plt.figure(figsize=(10, 8))\n",
    "sns.heatmap(correlation_matrix, annot=True, cmap=\"coolwarm\", fmt=\".2f\", linewidths=0.5)\n",
    "plt.title(\"Correlation Heatmap of Hotels DataFrame\")\n",
    "plt.show()"
   ]
  },
  {
   "cell_type": "markdown",
   "id": "c7665c39",
   "metadata": {},
   "source": [
    "We deleted the following columns: name, email, phone-number and credit_card since they are not useful in supporting our objectives. "
   ]
  },
  {
   "cell_type": "markdown",
   "id": "758d6d28",
   "metadata": {},
   "source": [
    "A correlation coefficient of 0.54 indicates a moderate positive correlation between arrival_date_year and arrival_date_week_number. This can lead to unstable coefficient estimates. We will only use arrival_date_week_number which can help to improve the model's stability and interpretability.\n",
    "\n",
    "Also drop name, email, phone-number and credit-card columns to reduce the dimensionality and computational complexity.Also, they may not be relevant for analysis and could pose privacy concerns."
   ]
  },
  {
   "cell_type": "code",
   "execution_count": 35,
   "id": "62ad2777",
   "metadata": {},
   "outputs": [
    {
     "data": {
      "text/plain": [
       "array([27, 28, 29, 30, 31, 32, 33, 34, 35, 36, 37, 38, 39, 40, 41, 42, 43,\n",
       "       44, 45, 46, 47, 48, 49, 50, 51, 52, 53,  1,  2,  3,  4,  5,  6,  7,\n",
       "        8,  9, 10, 11, 12, 13, 14, 15, 16, 17, 18, 19, 20, 21, 22, 23, 24,\n",
       "       25, 26], dtype=int64)"
      ]
     },
     "execution_count": 35,
     "metadata": {},
     "output_type": "execute_result"
    }
   ],
   "source": [
    "hotel[\"arrival_date_week_number\"].unique()"
   ]
  },
  {
   "cell_type": "code",
   "execution_count": 36,
   "id": "a1a48ded",
   "metadata": {},
   "outputs": [],
   "source": [
    "drop_column=[\"name\",\"email\",\"phone-number\", \"credit_card\"]\n"
   ]
  },
  {
   "cell_type": "code",
   "execution_count": 37,
   "id": "0412f533",
   "metadata": {},
   "outputs": [],
   "source": [
    "hotel.drop(drop_column, axis=1, inplace=True)"
   ]
  },
  {
   "cell_type": "code",
   "execution_count": 38,
   "id": "578f8c10",
   "metadata": {},
   "outputs": [],
   "source": [
    "#Create a feature that represents the total number of people\n",
    "hotel['total_guests'] = hotel['adults'] + hotel['children'] + hotel['babies']\n",
    "hotel.drop(['adults', 'children', 'babies'], axis=1, inplace=True)"
   ]
  },
  {
   "cell_type": "code",
   "execution_count": 39,
   "id": "4cae9e3a",
   "metadata": {
    "scrolled": true
   },
   "outputs": [
    {
     "data": {
      "text/plain": [
       "0    58.864443\n",
       "1    27.858236\n",
       "2    10.868614\n",
       "3     2.091638\n",
       "4     0.285109\n",
       "5     0.031959\n",
       "Name: total_of_special_requests, dtype: float64"
      ]
     },
     "execution_count": 39,
     "metadata": {},
     "output_type": "execute_result"
    }
   ],
   "source": [
    "(hotel['total_of_special_requests'].value_counts()/hotel['total_of_special_requests'].value_counts().sum())*100"
   ]
  },
  {
   "cell_type": "markdown",
   "id": "9dd09972",
   "metadata": {},
   "source": [
    "Since the number of rows without special requests is more than 50% of the dataset, creating a binary feature indicating whether any special requests were made by the guest will reduce computational complexity while preserving the essential information regarding guest preferences and additional services, thus streamlining subsequent analyses and model development."
   ]
  },
  {
   "cell_type": "code",
   "execution_count": 40,
   "id": "49ef6002",
   "metadata": {},
   "outputs": [],
   "source": [
    "#Create a binary feature indicating whether any special requests were made by the guest \n",
    "hotel['has_special_requests'] = (hotel['total_of_special_requests'] > 0).astype(int)\n",
    "\n",
    "# Drop the 'total_of_special_requests' column\n",
    "hotel.drop(['total_of_special_requests'], axis=1, inplace=True)"
   ]
  },
  {
   "cell_type": "code",
   "execution_count": 41,
   "id": "1036c845",
   "metadata": {},
   "outputs": [
    {
     "data": {
      "text/plain": [
       "1        737\n",
       "4182     709\n",
       "65237    629\n",
       "65254    629\n",
       "65231    629\n",
       "        ... \n",
       "94024      0\n",
       "90808      0\n",
       "39609      0\n",
       "79612      0\n",
       "70263      0\n",
       "Name: lead_time, Length: 118902, dtype: int64"
      ]
     },
     "execution_count": 41,
     "metadata": {},
     "output_type": "execute_result"
    }
   ],
   "source": [
    "hotel['lead_time'].sort_values(ascending = False)"
   ]
  },
  {
   "cell_type": "code",
   "execution_count": 42,
   "id": "82dbe348",
   "metadata": {},
   "outputs": [
    {
     "data": {
      "image/png": "[encoded data removed]",
      "text/plain": [
       "<Figure size 1000x600 with 1 Axes>"
      ]
     },
     "metadata": {},
     "output_type": "display_data"
    }
   ],
   "source": [
    "plt.figure(figsize=(10, 6))\n",
    "\n",
    "# Create the histogram\n",
    "plt.hist(hotel['lead_time'], bins=30, color='skyblue', edgecolor='black')\n",
    "\n",
    "# Add labels and title\n",
    "plt.xlabel('Lead Time')\n",
    "plt.ylabel('Frequency')\n",
    "plt.title('Lead Time Histogram')\n",
    "\n",
    "# Show the histogram\n",
    "plt.show()"
   ]
  },
  {
   "cell_type": "markdown",
   "id": "4961d664",
   "metadata": {},
   "source": [
    "The histogram reveals a positively skewed distribution of lead times, indicating that a significant portion of bookings are characterized by shorter lead times, while comparatively fewer involve longer lead times. To effectively represent this distribution in the hotel dataset, wider bins have been strategically applied towards the right end, accommodating the variations in lead times more accurately."
   ]
  },
  {
   "cell_type": "code",
   "execution_count": 43,
   "id": "1d125848",
   "metadata": {
    "scrolled": true
   },
   "outputs": [
    {
     "data": {
      "text/plain": [
       "0-30 days       32094\n",
       "31-90 days      29516\n",
       "91-180 days     26413\n",
       "181-365 days    21508\n",
       "365+ days        3148\n",
       "Name: lead_time_category, dtype: int64"
      ]
     },
     "execution_count": 43,
     "metadata": {},
     "output_type": "execute_result"
    }
   ],
   "source": [
    "#Use wider bins for longer lead times since the data is positively skewed.\n",
    "bin_edges = [0, 30, 90, 180, 365, float('inf')]\n",
    "bin_labels = ['0-30 days', '31-90 days', '91-180 days', '181-365 days', '365+ days']\n",
    "\n",
    "#Create a new column 'lead_time_category'\n",
    "hotel['lead_time_category'] = pd.cut(hotel['lead_time'], bins=bin_edges, labels=bin_labels)\n",
    "hotel.drop(['lead_time'], axis=1, inplace=True)\n",
    "\n",
    "hotel['lead_time_category'].value_counts()"
   ]
  },
  {
   "cell_type": "markdown",
   "id": "86df5f9d",
   "metadata": {},
   "source": [
    "It's evident that a majority of bookings occur relatively close to the arrival date (0-30 days), but a significant number of guests also plan their stays with lead times extending beyond three months. A smaller percentage plan well in advance with lead times exceeding 365 days."
   ]
  },
  {
   "cell_type": "code",
   "execution_count": 44,
   "id": "64d2fefc",
   "metadata": {},
   "outputs": [
    {
     "data": {
      "text/plain": [
       "array(['C', 'A', 'D', 'E', 'G', 'F', 'I', 'B', 'H', 'L', 'K', 'P'],\n",
       "      dtype=object)"
      ]
     },
     "execution_count": 44,
     "metadata": {},
     "output_type": "execute_result"
    }
   ],
   "source": [
    "#hotel[\"reserved_room_type\"].unique()\n",
    "hotel[\"assigned_room_type\"].unique()"
   ]
  },
  {
   "cell_type": "code",
   "execution_count": 45,
   "id": "47215ea7",
   "metadata": {},
   "outputs": [],
   "source": [
    "# Create a new binary column 'reserved_is_assigned' based on the comparison\n",
    "hotel['reserved_is_assigned'] = (hotel['assigned_room_type'] == hotel['reserved_room_type']).astype(int)\n",
    "hotel.drop(['assigned_room_type', \"reserved_room_type\"], axis=1, inplace=True)"
   ]
  },
  {
   "cell_type": "code",
   "execution_count": 46,
   "id": "1fe48c54",
   "metadata": {},
   "outputs": [
    {
     "data": {
      "text/plain": [
       "1    104203\n",
       "0     14699\n",
       "Name: reserved_is_assigned, dtype: int64"
      ]
     },
     "execution_count": 46,
     "metadata": {},
     "output_type": "execute_result"
    }
   ],
   "source": [
    "hotel['reserved_is_assigned'].value_counts()"
   ]
  },
  {
   "cell_type": "markdown",
   "id": "593c9e48",
   "metadata": {},
   "source": [
    "This reserved_is_assigned column serves as a valuable indicator of whether guests receive the specific room type they initially reserved, which can be useful for analyzing guest satisfaction and booking accuracy within the hotel dataset."
   ]
  },
  {
   "cell_type": "code",
   "execution_count": 47,
   "id": "e39e9f30",
   "metadata": {},
   "outputs": [],
   "source": [
    "#Combine the 'arrival_date_year', 'arrival_date_month', and 'arrival_date_day_of_month' columns into a single datetime column\n",
    "hotel['arrival_date'] = hotel['arrival_date_year'].astype(str) + \"-\" + hotel['arrival_date_month'] + \"-\" + hotel['arrival_date_day_of_month'].astype(str)\n",
    "\n",
    "# Convert the combined column to datetime format\n",
    "hotel['arrival_date'] = pd.to_datetime(hotel['arrival_date'], format=\"%Y-%B-%d\")\n",
    "\n",
    "# Format the datetime column as \"%Y-%m-%d\"\n",
    "hotel['arrival_date'] = hotel['arrival_date'].dt.strftime(\"%Y-%m-%d\")\n",
    "hotel.drop(['arrival_date_year', \"arrival_date_month\", \"arrival_date_day_of_month\"], axis=1, inplace=True)"
   ]
  },
  {
   "cell_type": "markdown",
   "id": "78c721f9",
   "metadata": {},
   "source": [
    "Combine the 'arrival_date_year,' 'arrival_date_month,' and 'arrival_date_day_of_month' columns into a single column and then convert the resultant column to the standard \"%Y-%m-%d\" format"
   ]
  },
  {
   "cell_type": "code",
   "execution_count": 48,
   "id": "1b682e85",
   "metadata": {},
   "outputs": [],
   "source": [
    "#Create a binary feature indicating whether an agent was involved in the booking.\n",
    "hotel['agent_involved'] = hotel['agent'].notna().astype(int)\n",
    "hotel.drop(['agent'], axis=1, inplace=True)"
   ]
  },
  {
   "cell_type": "code",
   "execution_count": 49,
   "id": "f7f99222",
   "metadata": {},
   "outputs": [
    {
     "data": {
      "text/html": [
       "<div>\n",
       "<style scoped>\n",
       "    .dataframe tbody tr th:only-of-type {\n",
       "        vertical-align: middle;\n",
       "    }\n",
       "\n",
       "    .dataframe tbody tr th {\n",
       "        vertical-align: top;\n",
       "    }\n",
       "\n",
       "    .dataframe thead th {\n",
       "        text-align: right;\n",
       "    }\n",
       "</style>\n",
       "<table border=\"1\" class=\"dataframe\">\n",
       "  <thead>\n",
       "    <tr style=\"text-align: right;\">\n",
       "      <th></th>\n",
       "      <th>hotel</th>\n",
       "      <th>is_canceled</th>\n",
       "      <th>arrival_date_week_number</th>\n",
       "      <th>stays_in_weekend_nights</th>\n",
       "      <th>stays_in_week_nights</th>\n",
       "      <th>meal</th>\n",
       "      <th>country</th>\n",
       "      <th>market_segment</th>\n",
       "      <th>distribution_channel</th>\n",
       "      <th>is_repeated_guest</th>\n",
       "      <th>...</th>\n",
       "      <th>adr</th>\n",
       "      <th>required_car_parking_spaces</th>\n",
       "      <th>reservation_status</th>\n",
       "      <th>reservation_status_date</th>\n",
       "      <th>total_guests</th>\n",
       "      <th>has_special_requests</th>\n",
       "      <th>lead_time_category</th>\n",
       "      <th>reserved_is_assigned</th>\n",
       "      <th>arrival_date</th>\n",
       "      <th>agent_involved</th>\n",
       "    </tr>\n",
       "  </thead>\n",
       "  <tbody>\n",
       "    <tr>\n",
       "      <th>0</th>\n",
       "      <td>Resort Hotel</td>\n",
       "      <td>0</td>\n",
       "      <td>27</td>\n",
       "      <td>0</td>\n",
       "      <td>0</td>\n",
       "      <td>BB</td>\n",
       "      <td>PRT</td>\n",
       "      <td>Direct</td>\n",
       "      <td>Direct</td>\n",
       "      <td>0</td>\n",
       "      <td>...</td>\n",
       "      <td>0.0</td>\n",
       "      <td>0</td>\n",
       "      <td>CheckOut</td>\n",
       "      <td>20150701</td>\n",
       "      <td>2.0</td>\n",
       "      <td>0</td>\n",
       "      <td>181-365 days</td>\n",
       "      <td>1</td>\n",
       "      <td>2015-07-01</td>\n",
       "      <td>1</td>\n",
       "    </tr>\n",
       "    <tr>\n",
       "      <th>1</th>\n",
       "      <td>Resort Hotel</td>\n",
       "      <td>0</td>\n",
       "      <td>27</td>\n",
       "      <td>0</td>\n",
       "      <td>0</td>\n",
       "      <td>BB</td>\n",
       "      <td>PRT</td>\n",
       "      <td>Direct</td>\n",
       "      <td>Direct</td>\n",
       "      <td>0</td>\n",
       "      <td>...</td>\n",
       "      <td>0.0</td>\n",
       "      <td>0</td>\n",
       "      <td>CheckOut</td>\n",
       "      <td>20150701</td>\n",
       "      <td>2.0</td>\n",
       "      <td>0</td>\n",
       "      <td>365+ days</td>\n",
       "      <td>1</td>\n",
       "      <td>2015-07-01</td>\n",
       "      <td>1</td>\n",
       "    </tr>\n",
       "    <tr>\n",
       "      <th>2</th>\n",
       "      <td>Resort Hotel</td>\n",
       "      <td>0</td>\n",
       "      <td>27</td>\n",
       "      <td>0</td>\n",
       "      <td>1</td>\n",
       "      <td>BB</td>\n",
       "      <td>GBR</td>\n",
       "      <td>Direct</td>\n",
       "      <td>Direct</td>\n",
       "      <td>0</td>\n",
       "      <td>...</td>\n",
       "      <td>75.0</td>\n",
       "      <td>0</td>\n",
       "      <td>CheckOut</td>\n",
       "      <td>20150702</td>\n",
       "      <td>1.0</td>\n",
       "      <td>0</td>\n",
       "      <td>0-30 days</td>\n",
       "      <td>0</td>\n",
       "      <td>2015-07-01</td>\n",
       "      <td>1</td>\n",
       "    </tr>\n",
       "    <tr>\n",
       "      <th>3</th>\n",
       "      <td>Resort Hotel</td>\n",
       "      <td>0</td>\n",
       "      <td>27</td>\n",
       "      <td>0</td>\n",
       "      <td>1</td>\n",
       "      <td>BB</td>\n",
       "      <td>GBR</td>\n",
       "      <td>Corporate</td>\n",
       "      <td>Corporate</td>\n",
       "      <td>0</td>\n",
       "      <td>...</td>\n",
       "      <td>75.0</td>\n",
       "      <td>0</td>\n",
       "      <td>CheckOut</td>\n",
       "      <td>20150702</td>\n",
       "      <td>1.0</td>\n",
       "      <td>0</td>\n",
       "      <td>0-30 days</td>\n",
       "      <td>1</td>\n",
       "      <td>2015-07-01</td>\n",
       "      <td>1</td>\n",
       "    </tr>\n",
       "    <tr>\n",
       "      <th>4</th>\n",
       "      <td>Resort Hotel</td>\n",
       "      <td>0</td>\n",
       "      <td>27</td>\n",
       "      <td>0</td>\n",
       "      <td>2</td>\n",
       "      <td>BB</td>\n",
       "      <td>GBR</td>\n",
       "      <td>Online TA</td>\n",
       "      <td>TATO</td>\n",
       "      <td>0</td>\n",
       "      <td>...</td>\n",
       "      <td>98.0</td>\n",
       "      <td>0</td>\n",
       "      <td>CheckOut</td>\n",
       "      <td>20150703</td>\n",
       "      <td>2.0</td>\n",
       "      <td>1</td>\n",
       "      <td>0-30 days</td>\n",
       "      <td>1</td>\n",
       "      <td>2015-07-01</td>\n",
       "      <td>1</td>\n",
       "    </tr>\n",
       "  </tbody>\n",
       "</table>\n",
       "<p>5 rows × 26 columns</p>\n",
       "</div>"
      ],
      "text/plain": [
       "          hotel  is_canceled  arrival_date_week_number  \\\n",
       "0  Resort Hotel            0                        27   \n",
       "1  Resort Hotel            0                        27   \n",
       "2  Resort Hotel            0                        27   \n",
       "3  Resort Hotel            0                        27   \n",
       "4  Resort Hotel            0                        27   \n",
       "\n",
       "   stays_in_weekend_nights  stays_in_week_nights meal country market_segment  \\\n",
       "0                        0                     0   BB     PRT         Direct   \n",
       "1                        0                     0   BB     PRT         Direct   \n",
       "2                        0                     1   BB     GBR         Direct   \n",
       "3                        0                     1   BB     GBR      Corporate   \n",
       "4                        0                     2   BB     GBR      Online TA   \n",
       "\n",
       "  distribution_channel  is_repeated_guest  ...   adr  \\\n",
       "0               Direct                  0  ...   0.0   \n",
       "1               Direct                  0  ...   0.0   \n",
       "2               Direct                  0  ...  75.0   \n",
       "3            Corporate                  0  ...  75.0   \n",
       "4                 TATO                  0  ...  98.0   \n",
       "\n",
       "   required_car_parking_spaces  reservation_status reservation_status_date  \\\n",
       "0                            0            CheckOut                20150701   \n",
       "1                            0            CheckOut                20150701   \n",
       "2                            0            CheckOut                20150702   \n",
       "3                            0            CheckOut                20150702   \n",
       "4                            0            CheckOut                20150703   \n",
       "\n",
       "   total_guests has_special_requests  lead_time_category  \\\n",
       "0           2.0                    0        181-365 days   \n",
       "1           2.0                    0           365+ days   \n",
       "2           1.0                    0           0-30 days   \n",
       "3           1.0                    0           0-30 days   \n",
       "4           2.0                    1           0-30 days   \n",
       "\n",
       "   reserved_is_assigned arrival_date agent_involved  \n",
       "0                     1   2015-07-01              1  \n",
       "1                     1   2015-07-01              1  \n",
       "2                     0   2015-07-01              1  \n",
       "3                     1   2015-07-01              1  \n",
       "4                     1   2015-07-01              1  \n",
       "\n",
       "[5 rows x 26 columns]"
      ]
     },
     "execution_count": 49,
     "metadata": {},
     "output_type": "execute_result"
    }
   ],
   "source": [
    "hotel.head()\n"
   ]
  },
  {
   "cell_type": "markdown",
   "id": "7e48651f",
   "metadata": {},
   "source": [
    "###### Preprocessing"
   ]
  },
  {
   "cell_type": "code",
   "execution_count": 50,
   "id": "7678d86a",
   "metadata": {},
   "outputs": [
    {
     "name": "stdout",
     "output_type": "stream",
     "text": [
      "<class 'pandas.core.frame.DataFrame'>\n",
      "Int64Index: 118902 entries, 0 to 119389\n",
      "Data columns (total 26 columns):\n",
      " #   Column                          Non-Null Count   Dtype   \n",
      "---  ------                          --------------   -----   \n",
      " 0   hotel                           118902 non-null  object  \n",
      " 1   is_canceled                     118902 non-null  int64   \n",
      " 2   arrival_date_week_number        118902 non-null  int64   \n",
      " 3   stays_in_weekend_nights         118902 non-null  int64   \n",
      " 4   stays_in_week_nights            118902 non-null  int64   \n",
      " 5   meal                            118902 non-null  object  \n",
      " 6   country                         118902 non-null  object  \n",
      " 7   market_segment                  118902 non-null  object  \n",
      " 8   distribution_channel            118902 non-null  object  \n",
      " 9   is_repeated_guest               118902 non-null  int64   \n",
      " 10  previous_cancellations          118902 non-null  int64   \n",
      " 11  previous_bookings_not_canceled  118902 non-null  int64   \n",
      " 12  booking_changes                 118902 non-null  int64   \n",
      " 13  deposit_type                    118902 non-null  object  \n",
      " 14  days_in_waiting_list            118902 non-null  int64   \n",
      " 15  customer_type                   118902 non-null  object  \n",
      " 16  adr                             118902 non-null  float64 \n",
      " 17  required_car_parking_spaces     118902 non-null  int64   \n",
      " 18  reservation_status              118902 non-null  object  \n",
      " 19  reservation_status_date         118902 non-null  object  \n",
      " 20  total_guests                    118902 non-null  float64 \n",
      " 21  has_special_requests            118902 non-null  int32   \n",
      " 22  lead_time_category              112679 non-null  category\n",
      " 23  reserved_is_assigned            118902 non-null  int32   \n",
      " 24  arrival_date                    118902 non-null  object  \n",
      " 25  agent_involved                  118902 non-null  int32   \n",
      "dtypes: category(1), float64(2), int32(3), int64(10), object(10)\n",
      "memory usage: 22.3+ MB\n"
     ]
    }
   ],
   "source": [
    "hotel.info()"
   ]
  },
  {
   "cell_type": "code",
   "execution_count": 51,
   "id": "69579084",
   "metadata": {},
   "outputs": [],
   "source": [
    "#drop datetime columns\n",
    "columns = [\"reservation_status_date\", \"arrival_date\"]\n",
    "hotel.drop(columns, axis=1, inplace=True)"
   ]
  },
  {
   "cell_type": "code",
   "execution_count": 52,
   "id": "c4e054be",
   "metadata": {},
   "outputs": [],
   "source": [
    "# Moving the \"hotel\" column of the hotel DataFrame to index 1\n",
    "hotel_column = hotel['hotel']\n",
    "\n",
    "# Drop the 'hotel' column from the DataFrame\n",
    "hotel.drop(columns='hotel', inplace=True)\n",
    "\n",
    "# Reinsert the 'hotel' column at index 1\n",
    "hotel.insert(1, 'hotel', hotel_column)\n",
    "\n",
    "# Use a lambda function to keep only the first names of the hotel column\n",
    "hotel['hotel'] = hotel['hotel'].apply(lambda x: x.split()[0])"
   ]
  },
  {
   "cell_type": "code",
   "execution_count": 53,
   "id": "d7938817",
   "metadata": {},
   "outputs": [],
   "source": [
    "categorical_columns = [\"hotel\",\"meal\", \"country\", \"market_segment\", \n",
    "                       \"distribution_channel\", \"deposit_type\", \"customer_type\", \"reservation_status\",\n",
    "                      \"lead_time_category\"]"
   ]
  },
  {
   "cell_type": "code",
   "execution_count": 54,
   "id": "d6e14730",
   "metadata": {},
   "outputs": [],
   "source": [
    "hotel_encoded = pd.get_dummies(hotel, columns=categorical_columns, drop_first=True)"
   ]
  },
  {
   "cell_type": "code",
   "execution_count": 59,
   "id": "9c09586b",
   "metadata": {},
   "outputs": [],
   "source": [
    "from sklearn.preprocessing import StandardScaler\n",
    "from sklearn.model_selection import train_test_split\n",
    "    # Scaling and splitting data into training and testing sets\n",
    "X = hotel_encoded.drop(columns=['is_canceled'])  # Features (excluding 'is_canceled')\n",
    "y = hotel_encoded['is_canceled']  # Target variable\n",
    "\n",
    "# Scale the features using StandardScaler\n",
    "scaler = StandardScaler()\n",
    "X_scaled = scaler.fit_transform(X)\n",
    "\n",
    "# Split the data into training and testing sets.\n",
    "X_train, X_test, y_train, y_test = train_test_split(X_scaled, y, test_size=0.2, random_state=42)"
   ]
  },
  {
   "cell_type": "code",
   "execution_count": 60,
   "id": "01ae05fb",
   "metadata": {},
   "outputs": [
    {
     "data": {
      "text/html": [
       "<div>\n",
       "<style scoped>\n",
       "    .dataframe tbody tr th:only-of-type {\n",
       "        vertical-align: middle;\n",
       "    }\n",
       "\n",
       "    .dataframe tbody tr th {\n",
       "        vertical-align: top;\n",
       "    }\n",
       "\n",
       "    .dataframe thead th {\n",
       "        text-align: right;\n",
       "    }\n",
       "</style>\n",
       "<table border=\"1\" class=\"dataframe\">\n",
       "  <thead>\n",
       "    <tr style=\"text-align: right;\">\n",
       "      <th></th>\n",
       "      <th>is_canceled</th>\n",
       "      <th>arrival_date_week_number</th>\n",
       "      <th>stays_in_weekend_nights</th>\n",
       "      <th>stays_in_week_nights</th>\n",
       "      <th>is_repeated_guest</th>\n",
       "      <th>previous_cancellations</th>\n",
       "      <th>previous_bookings_not_canceled</th>\n",
       "      <th>booking_changes</th>\n",
       "      <th>days_in_waiting_list</th>\n",
       "      <th>adr</th>\n",
       "      <th>...</th>\n",
       "      <th>deposit_type_Refundable</th>\n",
       "      <th>customer_type_Group</th>\n",
       "      <th>customer_type_Transient</th>\n",
       "      <th>customer_type_TransientParty</th>\n",
       "      <th>reservation_status_CheckOut</th>\n",
       "      <th>reservation_status_NoShow</th>\n",
       "      <th>lead_time_category_31-90 days</th>\n",
       "      <th>lead_time_category_91-180 days</th>\n",
       "      <th>lead_time_category_181-365 days</th>\n",
       "      <th>lead_time_category_365+ days</th>\n",
       "    </tr>\n",
       "  </thead>\n",
       "  <tbody>\n",
       "    <tr>\n",
       "      <th>0</th>\n",
       "      <td>0</td>\n",
       "      <td>27</td>\n",
       "      <td>0</td>\n",
       "      <td>0</td>\n",
       "      <td>0</td>\n",
       "      <td>0</td>\n",
       "      <td>0</td>\n",
       "      <td>3</td>\n",
       "      <td>0</td>\n",
       "      <td>0.0</td>\n",
       "      <td>...</td>\n",
       "      <td>0</td>\n",
       "      <td>0</td>\n",
       "      <td>1</td>\n",
       "      <td>0</td>\n",
       "      <td>1</td>\n",
       "      <td>0</td>\n",
       "      <td>0</td>\n",
       "      <td>0</td>\n",
       "      <td>1</td>\n",
       "      <td>0</td>\n",
       "    </tr>\n",
       "    <tr>\n",
       "      <th>1</th>\n",
       "      <td>0</td>\n",
       "      <td>27</td>\n",
       "      <td>0</td>\n",
       "      <td>0</td>\n",
       "      <td>0</td>\n",
       "      <td>0</td>\n",
       "      <td>0</td>\n",
       "      <td>4</td>\n",
       "      <td>0</td>\n",
       "      <td>0.0</td>\n",
       "      <td>...</td>\n",
       "      <td>0</td>\n",
       "      <td>0</td>\n",
       "      <td>1</td>\n",
       "      <td>0</td>\n",
       "      <td>1</td>\n",
       "      <td>0</td>\n",
       "      <td>0</td>\n",
       "      <td>0</td>\n",
       "      <td>0</td>\n",
       "      <td>1</td>\n",
       "    </tr>\n",
       "    <tr>\n",
       "      <th>2</th>\n",
       "      <td>0</td>\n",
       "      <td>27</td>\n",
       "      <td>0</td>\n",
       "      <td>1</td>\n",
       "      <td>0</td>\n",
       "      <td>0</td>\n",
       "      <td>0</td>\n",
       "      <td>0</td>\n",
       "      <td>0</td>\n",
       "      <td>75.0</td>\n",
       "      <td>...</td>\n",
       "      <td>0</td>\n",
       "      <td>0</td>\n",
       "      <td>1</td>\n",
       "      <td>0</td>\n",
       "      <td>1</td>\n",
       "      <td>0</td>\n",
       "      <td>0</td>\n",
       "      <td>0</td>\n",
       "      <td>0</td>\n",
       "      <td>0</td>\n",
       "    </tr>\n",
       "    <tr>\n",
       "      <th>3</th>\n",
       "      <td>0</td>\n",
       "      <td>27</td>\n",
       "      <td>0</td>\n",
       "      <td>1</td>\n",
       "      <td>0</td>\n",
       "      <td>0</td>\n",
       "      <td>0</td>\n",
       "      <td>0</td>\n",
       "      <td>0</td>\n",
       "      <td>75.0</td>\n",
       "      <td>...</td>\n",
       "      <td>0</td>\n",
       "      <td>0</td>\n",
       "      <td>1</td>\n",
       "      <td>0</td>\n",
       "      <td>1</td>\n",
       "      <td>0</td>\n",
       "      <td>0</td>\n",
       "      <td>0</td>\n",
       "      <td>0</td>\n",
       "      <td>0</td>\n",
       "    </tr>\n",
       "    <tr>\n",
       "      <th>4</th>\n",
       "      <td>0</td>\n",
       "      <td>27</td>\n",
       "      <td>0</td>\n",
       "      <td>2</td>\n",
       "      <td>0</td>\n",
       "      <td>0</td>\n",
       "      <td>0</td>\n",
       "      <td>0</td>\n",
       "      <td>0</td>\n",
       "      <td>98.0</td>\n",
       "      <td>...</td>\n",
       "      <td>0</td>\n",
       "      <td>0</td>\n",
       "      <td>1</td>\n",
       "      <td>0</td>\n",
       "      <td>1</td>\n",
       "      <td>0</td>\n",
       "      <td>0</td>\n",
       "      <td>0</td>\n",
       "      <td>0</td>\n",
       "      <td>0</td>\n",
       "    </tr>\n",
       "  </tbody>\n",
       "</table>\n",
       "<p>5 rows × 218 columns</p>\n",
       "</div>"
      ],
      "text/plain": [
       "   is_canceled  arrival_date_week_number  stays_in_weekend_nights  \\\n",
       "0            0                        27                        0   \n",
       "1            0                        27                        0   \n",
       "2            0                        27                        0   \n",
       "3            0                        27                        0   \n",
       "4            0                        27                        0   \n",
       "\n",
       "   stays_in_week_nights  is_repeated_guest  previous_cancellations  \\\n",
       "0                     0                  0                       0   \n",
       "1                     0                  0                       0   \n",
       "2                     1                  0                       0   \n",
       "3                     1                  0                       0   \n",
       "4                     2                  0                       0   \n",
       "\n",
       "   previous_bookings_not_canceled  booking_changes  days_in_waiting_list  \\\n",
       "0                               0                3                     0   \n",
       "1                               0                4                     0   \n",
       "2                               0                0                     0   \n",
       "3                               0                0                     0   \n",
       "4                               0                0                     0   \n",
       "\n",
       "    adr  ...  deposit_type_Refundable  customer_type_Group  \\\n",
       "0   0.0  ...                        0                    0   \n",
       "1   0.0  ...                        0                    0   \n",
       "2  75.0  ...                        0                    0   \n",
       "3  75.0  ...                        0                    0   \n",
       "4  98.0  ...                        0                    0   \n",
       "\n",
       "   customer_type_Transient  customer_type_TransientParty  \\\n",
       "0                        1                             0   \n",
       "1                        1                             0   \n",
       "2                        1                             0   \n",
       "3                        1                             0   \n",
       "4                        1                             0   \n",
       "\n",
       "   reservation_status_CheckOut  reservation_status_NoShow  \\\n",
       "0                            1                          0   \n",
       "1                            1                          0   \n",
       "2                            1                          0   \n",
       "3                            1                          0   \n",
       "4                            1                          0   \n",
       "\n",
       "   lead_time_category_31-90 days  lead_time_category_91-180 days  \\\n",
       "0                              0                               0   \n",
       "1                              0                               0   \n",
       "2                              0                               0   \n",
       "3                              0                               0   \n",
       "4                              0                               0   \n",
       "\n",
       "   lead_time_category_181-365 days  lead_time_category_365+ days  \n",
       "0                                1                             0  \n",
       "1                                0                             1  \n",
       "2                                0                             0  \n",
       "3                                0                             0  \n",
       "4                                0                             0  \n",
       "\n",
       "[5 rows x 218 columns]"
      ]
     },
     "execution_count": 60,
     "metadata": {},
     "output_type": "execute_result"
    }
   ],
   "source": [
    "hotel_encoded.head()"
   ]
  },
  {
   "cell_type": "markdown",
   "id": "d0c1ea5c-1152-41bb-808e-6b78734ccf9d",
   "metadata": {},
   "source": [
    "# 7. Data Modelling"
   ]
  },
  {
   "cell_type": "markdown",
   "id": "da3ce54e-f4a1-4549-9370-8463ed7ae52c",
   "metadata": {},
   "source": [
    "# 8. Evaluation"
   ]
  },
  {
   "cell_type": "markdown",
   "id": "93179589-e32c-4055-b2ec-6b20b38acbe1",
   "metadata": {},
   "source": [
    "# 9. Recommendations"
   ]
  },
  {
   "cell_type": "markdown",
   "id": "8521682a-d92e-444a-bd7e-6024b025a0e1",
   "metadata": {},
   "source": [
    "# 10. Conclusions"
   ]
  },
  {
   "cell_type": "markdown",
   "id": "4eeff961-be6a-4dc6-9a56-57cb06f9de5b",
   "metadata": {},
   "source": [
    "# 11. Challenges"
   ]
  },
  {
   "cell_type": "code",
   "execution_count": null,
   "id": "50ffc513",
   "metadata": {},
   "outputs": [],
   "source": []
  }
 ],
 "metadata": {
  "kernelspec": {
   "display_name": "Python (learn-env)",
   "language": "python",
   "name": "learn-env"
  },
  "language_info": {
   "codemirror_mode": {
    "name": "ipython",
    "version": 3
   },
   "file_extension": ".py",
   "mimetype": "text/x-python",
   "name": "python",
   "nbconvert_exporter": "python",
   "pygments_lexer": "ipython3",
   "version": "3.10.9"
  }
 },
 "nbformat": 4,
 "nbformat_minor": 5
}
