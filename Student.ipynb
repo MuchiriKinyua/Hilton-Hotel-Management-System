{
 "cells": [
  {
   "cell_type": "markdown",
   "id": "b171c3e9-1c25-48dd-864d-1d460a015e99",
   "metadata": {},
   "source": [
    "# HOTEL BOOKING AND CANCELLATION SYSTEM"
   ]
  },
  {
   "cell_type": "markdown",
   "id": "00afc4fe-9cb8-496b-b070-27c8d75a38a1",
   "metadata": {},
   "source": [
    "# Table of contents"
   ]
  },
  {
   "cell_type": "markdown",
   "id": "ecd53404-36a6-4dd7-b55d-ba48e2edfdc0",
   "metadata": {},
   "source": [
    "[1. Business Understanding](#1.-Business-Understanding) </br>\n",
    "[1.1 Business Description](#1.1-Business-Description) </br>\n",
    "[1.2 Problem Statement](#1.2-Problem-Statement) </br>\n",
    "[1.3 Main Objective](#1.3-Main-Objective) </br>\n",
    "[1.4 Specific Objectives](#1.4-Specific-Objectives) </br>\n",
    "[2. Importing Libraries And Warnings](#2.-Importing-Libraries-And-Warnings) </br>\n",
    "[3. Data Understanding](#3.-Data-Understanding) </br>\n",
    "[4. Data Preparation](#4.-Data-Preparation) </br>\n",
    "[5. EDA](#5.-EDA) </br>\n",
    "[6. Data Preprocessing](#6.-Data-Preprocessing) </br>\n",
    "[7. Data Modelling](#7.-Data-Modelling) </br>\n",
    "[8. Evaluation](#8.-Evaluation) </br>\n",
    "[9. Recommendations](#9.-Recommendations) </br>\n",
    "[10. Conclusions](#10.-Conclusions) </br>\n",
    "[11. Challenges](#11.-Challenges)"
   ]
  },
  {
   "cell_type": "markdown",
   "id": "3b5fe391-78cb-4539-9fc3-e2207b09abf4",
   "metadata": {},
   "source": [
    "# 1. Business Understanding"
   ]
  },
  {
   "cell_type": "markdown",
   "id": "c30f918b-4ee9-4e6d-bc48-1d252fe3e88d",
   "metadata": {},
   "source": [
    "## 1.1 Business Description"
   ]
  },
  {
   "cell_type": "markdown",
   "id": "31e75647-ae2b-4eda-94b5-0bb90098c4d6",
   "metadata": {},
   "source": [
    "Hotel booking entails the process through which guests are able to schedule dates and length of stay, room preference among other specifications in a hotel. Bookings can be done physically at the hotel premises, through an agent or online etc. Recently, City and Resort Hotels have been affected by high cancellation rates among other booking trends. As a result, this has led to low revenue generation in those facilities. Since the goal of every business entity is to make profit, the cancellation rates should be dealt with and maintained as low as possible. \n",
    "In this analysis we will address the factors which have highly contributed to high hotel cancellation rates and give recommendations to the hotel owners so that they can mitigate this risk better and earn more profit. The analysis will also be useful to the consumers of the hotel facilities and thus they will be in a position to know the ideal times of the year to book for the hotel rooms, the optimal stay length that offers them best rates etc.\n",
    "The aim of this project is to analyze the Hotels data and study cancellations and their underlying patterns in order to reduce them and secure revenue. \n"
   ]
  },
  {
   "cell_type": "markdown",
   "id": "07d306b3-f7b9-4a22-a788-da55739a91ad",
   "metadata": {},
   "source": [
    "## 1.2 Problem Statement"
   ]
  },
  {
   "cell_type": "markdown",
   "id": "9bd7be27-1a5c-49ae-ab7e-b7c0af22f0b7",
   "metadata": {},
   "source": [
    "The hotel industry is a vital component of the global tourism sector, serving millions of travelers each year. However, this dynamic and competitive industry faces numerous challenges that demand innovative solutions and strategic interventions. \n",
    "Hotel bookings have seen a substantial shift towards online reservations over the years, largely due to factors like the convenience offered by online platforms, the wide range of options available, and increased flexibility. Today, there are multiple methods for making hotel reservations. These include using booking agencies or directly contacting the hotels. </br>\n",
    "Our goal is to develop a predictive model capable of accurately identifying and forecasting hotel bookings and cancellations. This will be achieved through a comprehensive analysis of booking history, where we will consider factors such as: number of cancellations after reservation, number of reservations not canceled, travel agency used to make reservations, number of stays, market segmentation, whether corporate or travel agent, number of days in the waiting list , the average daily rate of the reservations, total number of special requests received, reservation status and arrival date.\n",
    "This predictive model will provide valuable insights into the analysis, helping us identify the seasonal trends and factors contributing to booking cancellations, such as waiting time, to ensure a more stable revenue stream. Furthermore, we shall explore opportunities for customizing loyalty programs based on customer preferences and behaviors, ultimately increasing repeat bookings.\n"
   ]
  },
  {
   "cell_type": "markdown",
   "id": "520c2774-d6b1-46ed-ac2e-0927c5cfa5a4",
   "metadata": {},
   "source": [
    "## 1.3 Main Objective"
   ]
  },
  {
   "cell_type": "markdown",
   "id": "7343338b-228e-403f-ac89-47b83869a93d",
   "metadata": {},
   "source": [
    "The model to be able to predict the hotel bookings and cancellations."
   ]
  },
  {
   "cell_type": "markdown",
   "id": "f3fe6ef5-bbfc-42f3-8fb5-fc1bc1eab6b2",
   "metadata": {},
   "source": [
    "## 1.4 Specific Objectives"
   ]
  },
  {
   "cell_type": "markdown",
   "id": "5b9f85c1-7daa-4e24-a71e-41ef0db8ac2e",
   "metadata": {},
   "source": [
    "1.Utilize exploratory data analysis (EDA) techniques to uncover trends and patterns in hotel bookings schedules, such as variations in checkout  and arrival times.This involves a nuanced exploration of individual variables through univariate analysis, understanding relationships between pairs in bivariate analysis and unraveling intricate interactions in multivariate analysis. </br>\n",
    "2. Identify key variables and factors contributing to the clients cancellations at the hotel. </br>\n",
    "3. Generate insights into which hotels are consistently being booked and having the most cancellations in terms of  various factors such as service and quality reliability. The ultimate aim is to enhance resource allocation, optimize booking strategies and improve guest experience. </br>\n",
    "4. Identify factors influencing repeat bookings and develop strategies to improve customer retention. </br>\n",
    "5. Evaluate the performance of booking agents to identify their impact on bookings and cancellations by customers."
   ]
  },
  {
   "cell_type": "markdown",
   "id": "75e4e87c-bd40-403e-a553-d47472d910c5",
   "metadata": {},
   "source": [
    "## 1.5 Research Questions"
   ]
  },
  {
   "cell_type": "markdown",
   "id": "c3248882-8b96-4c76-9d79-6cdfb571165a",
   "metadata": {},
   "source": [
    "What are the variables that affect hotel reservation  cancellation? </br>\n",
    "Where are the majority booking ? online or offline? </br>\n",
    "How can we assist the hotel in making their pricing and promotional decisions? </br>\n",
    "Why are most reservations made by agents offline? </br>\n",
    "Which distribution channels and market segments show the highest booking success rate? </br>\n",
    "How can booking strategies be optimized to minimize cancellations and maximize revenue? </br>\n",
    "What personalized services can be introduced to enhance guest experience? </br>\n",
    "What strategies can be implemented to improve collaboration with high-performing partners? </br>\n",
    "What are the key preferences and behaviors of repeated guests?"
   ]
  },
  {
   "cell_type": "markdown",
   "id": "5750995a-8d00-4f7a-a2cd-4e5e3bf75dc4",
   "metadata": {},
   "source": [
    "# 2. Data Description"
   ]
  },
  {
   "cell_type": "markdown",
   "id": "36cc5eb6-5722-44b4-8548-d78aab675709",
   "metadata": {},
   "source": [
    "Data Source: https://www.kaggle.com/datasets/sraddhanjalibarik/hotel-booking-data-set"
   ]
  },
  {
   "cell_type": "markdown",
   "id": "3c93bdde-8c21-4bf3-a968-a3530718c51d",
   "metadata": {},
   "source": [
    "hotel: Type of hotel (e.g., Resort Hotel, City Hotel). </br>\n",
    "is_canceled: Whether the booking was canceled (1 for canceled, 0 for not canceled).</br>\n",
    "lead_time: Number of days between booking and arrival.</br>\n",
    "arrival_date_year: Year of arrival.</br>\n",
    "arrival_date_month: Month of arrival.</br>\n",
    "arrival_date_week_number: Week number of arrival.</br>\n",
    "arrival_date_day_of_month: Day of the month of arrival.</br>\n",
    "stays_in_weekend_nights: Number of weekend nights (Saturday or Sunday) the guest stayed.</br>\n",
    "stays_in_week_nights: Number of weekday nights (Monday to Friday) the guest stayed.</br>\n",
    "adults, children, babies: Number of adults, children, and babies in the booking.</br>\n",
    "meal: Type of meal booked.</br>\n",
    "country: Country of origin of the guest.</br>\n",
    "market_segment: Market segment designation.</br>\n",
    "distribution_channel: Booking distribution channel.</br>\n",
    "is_repeated_guest: Whether the guest is a repeated guest (1 for repeated, 0 for not repeated).</br>\n",
    "previous_cancellations: Number of previous bookings that were canceled by the guest.</br>\n",
    "previous_bookings_not_canceled: Number of previous bookings that were not canceled by the guest.</br>\n",
    "reserved_room_type: Type of room reserved.</br>\n",
    "assigned_room_type: Type of room assigned.</br>\n",
    "booking_changes: Number of changes or modifications made to the booking.</br>\n",
    "deposit_type: Type of deposit made.</br>\n",
    "agent: ID of the travel agency that made the booking.</br>\n",
    "company: ID of the company associated with the booking.</br>\n",
    "days_in_waiting_list: Number of days the booking was in the waiting list.</br>\n",
    "customer_type: Type of booking customer.</br>\n",
    "adr: Average daily rate (an indicator of the rate paid for the room).</br>\n",
    "required_car_parking_spaces: Number of car parking spaces required.</br>\n",
    "total_of_special_requests: Total number of special requests made by the guest.</br>\n",
    "reservation_status: Status of the reservation (e.g., Check-Out, Canceled).</br>\n",
    "reservation_status_date: Date when the reservation status was last updated.</br>\n",
    "name: contains the names of the guests who made the hotel bookings.</br>\n",
    "email: contains the email addresses of guests.</br>\n",
    "phone-number: contains guest phone numbers.</br>\n",
    "credit_card: contains credit card information."
   ]
  },
  {
   "cell_type": "markdown",
   "id": "4fe3ab36-d038-4d4a-801c-435f38090a8d",
   "metadata": {},
   "source": [
    "# 3. Importing Libraries And Warnings"
   ]
  },
  {
   "cell_type": "code",
   "execution_count": 1,
   "id": "6b146c45-4417-461e-958e-00008db08408",
   "metadata": {},
   "outputs": [],
   "source": [
    "import numpy as np\n",
    "import pandas as pd\n",
    "import seaborn as sns\n",
    "import matplotlib.pyplot as plt"
   ]
  },
  {
   "cell_type": "markdown",
   "id": "6265ea90-6710-40ec-ab25-c4b00f996c0f",
   "metadata": {},
   "source": [
    "# 4. Data Preparation"
   ]
  },
  {
   "cell_type": "code",
   "execution_count": 2,
   "id": "c0103d9c-29ae-4ecf-bc64-016f4193d245",
   "metadata": {},
   "outputs": [
    {
     "data": {
      "text/html": [
       "<div>\n",
       "<style scoped>\n",
       "    .dataframe tbody tr th:only-of-type {\n",
       "        vertical-align: middle;\n",
       "    }\n",
       "\n",
       "    .dataframe tbody tr th {\n",
       "        vertical-align: top;\n",
       "    }\n",
       "\n",
       "    .dataframe thead th {\n",
       "        text-align: right;\n",
       "    }\n",
       "</style>\n",
       "<table border=\"1\" class=\"dataframe\">\n",
       "  <thead>\n",
       "    <tr style=\"text-align: right;\">\n",
       "      <th></th>\n",
       "      <th>hotel</th>\n",
       "      <th>is_canceled</th>\n",
       "      <th>lead_time</th>\n",
       "      <th>arrival_date_year</th>\n",
       "      <th>arrival_date_month</th>\n",
       "      <th>arrival_date_week_number</th>\n",
       "      <th>arrival_date_day_of_month</th>\n",
       "      <th>stays_in_weekend_nights</th>\n",
       "      <th>stays_in_week_nights</th>\n",
       "      <th>adults</th>\n",
       "      <th>...</th>\n",
       "      <th>customer_type</th>\n",
       "      <th>adr</th>\n",
       "      <th>required_car_parking_spaces</th>\n",
       "      <th>total_of_special_requests</th>\n",
       "      <th>reservation_status</th>\n",
       "      <th>reservation_status_date</th>\n",
       "      <th>name</th>\n",
       "      <th>email</th>\n",
       "      <th>phone-number</th>\n",
       "      <th>credit_card</th>\n",
       "    </tr>\n",
       "  </thead>\n",
       "  <tbody>\n",
       "    <tr>\n",
       "      <th>0</th>\n",
       "      <td>Resort Hotel</td>\n",
       "      <td>0</td>\n",
       "      <td>342</td>\n",
       "      <td>2015</td>\n",
       "      <td>July</td>\n",
       "      <td>27</td>\n",
       "      <td>1</td>\n",
       "      <td>0</td>\n",
       "      <td>0</td>\n",
       "      <td>2</td>\n",
       "      <td>...</td>\n",
       "      <td>Transient</td>\n",
       "      <td>0.00</td>\n",
       "      <td>0</td>\n",
       "      <td>0</td>\n",
       "      <td>Check-Out</td>\n",
       "      <td>2015-07-01</td>\n",
       "      <td>Ernest Barnes</td>\n",
       "      <td>Ernest.Barnes31@outlook.com</td>\n",
       "      <td>669-792-1661</td>\n",
       "      <td>************4322</td>\n",
       "    </tr>\n",
       "    <tr>\n",
       "      <th>1</th>\n",
       "      <td>Resort Hotel</td>\n",
       "      <td>0</td>\n",
       "      <td>737</td>\n",
       "      <td>2015</td>\n",
       "      <td>July</td>\n",
       "      <td>27</td>\n",
       "      <td>1</td>\n",
       "      <td>0</td>\n",
       "      <td>0</td>\n",
       "      <td>2</td>\n",
       "      <td>...</td>\n",
       "      <td>Transient</td>\n",
       "      <td>0.00</td>\n",
       "      <td>0</td>\n",
       "      <td>0</td>\n",
       "      <td>Check-Out</td>\n",
       "      <td>2015-07-01</td>\n",
       "      <td>Andrea Baker</td>\n",
       "      <td>Andrea_Baker94@aol.com</td>\n",
       "      <td>858-637-6955</td>\n",
       "      <td>************9157</td>\n",
       "    </tr>\n",
       "    <tr>\n",
       "      <th>2</th>\n",
       "      <td>Resort Hotel</td>\n",
       "      <td>0</td>\n",
       "      <td>7</td>\n",
       "      <td>2015</td>\n",
       "      <td>July</td>\n",
       "      <td>27</td>\n",
       "      <td>1</td>\n",
       "      <td>0</td>\n",
       "      <td>1</td>\n",
       "      <td>1</td>\n",
       "      <td>...</td>\n",
       "      <td>Transient</td>\n",
       "      <td>75.00</td>\n",
       "      <td>0</td>\n",
       "      <td>0</td>\n",
       "      <td>Check-Out</td>\n",
       "      <td>2015-07-02</td>\n",
       "      <td>Rebecca Parker</td>\n",
       "      <td>Rebecca_Parker@comcast.net</td>\n",
       "      <td>652-885-2745</td>\n",
       "      <td>************3734</td>\n",
       "    </tr>\n",
       "    <tr>\n",
       "      <th>3</th>\n",
       "      <td>Resort Hotel</td>\n",
       "      <td>0</td>\n",
       "      <td>13</td>\n",
       "      <td>2015</td>\n",
       "      <td>July</td>\n",
       "      <td>27</td>\n",
       "      <td>1</td>\n",
       "      <td>0</td>\n",
       "      <td>1</td>\n",
       "      <td>1</td>\n",
       "      <td>...</td>\n",
       "      <td>Transient</td>\n",
       "      <td>75.00</td>\n",
       "      <td>0</td>\n",
       "      <td>0</td>\n",
       "      <td>Check-Out</td>\n",
       "      <td>2015-07-02</td>\n",
       "      <td>Laura Murray</td>\n",
       "      <td>Laura_M@gmail.com</td>\n",
       "      <td>364-656-8427</td>\n",
       "      <td>************5677</td>\n",
       "    </tr>\n",
       "    <tr>\n",
       "      <th>4</th>\n",
       "      <td>Resort Hotel</td>\n",
       "      <td>0</td>\n",
       "      <td>14</td>\n",
       "      <td>2015</td>\n",
       "      <td>July</td>\n",
       "      <td>27</td>\n",
       "      <td>1</td>\n",
       "      <td>0</td>\n",
       "      <td>2</td>\n",
       "      <td>2</td>\n",
       "      <td>...</td>\n",
       "      <td>Transient</td>\n",
       "      <td>98.00</td>\n",
       "      <td>0</td>\n",
       "      <td>1</td>\n",
       "      <td>Check-Out</td>\n",
       "      <td>2015-07-03</td>\n",
       "      <td>Linda Hines</td>\n",
       "      <td>LHines@verizon.com</td>\n",
       "      <td>713-226-5883</td>\n",
       "      <td>************5498</td>\n",
       "    </tr>\n",
       "    <tr>\n",
       "      <th>...</th>\n",
       "      <td>...</td>\n",
       "      <td>...</td>\n",
       "      <td>...</td>\n",
       "      <td>...</td>\n",
       "      <td>...</td>\n",
       "      <td>...</td>\n",
       "      <td>...</td>\n",
       "      <td>...</td>\n",
       "      <td>...</td>\n",
       "      <td>...</td>\n",
       "      <td>...</td>\n",
       "      <td>...</td>\n",
       "      <td>...</td>\n",
       "      <td>...</td>\n",
       "      <td>...</td>\n",
       "      <td>...</td>\n",
       "      <td>...</td>\n",
       "      <td>...</td>\n",
       "      <td>...</td>\n",
       "      <td>...</td>\n",
       "      <td>...</td>\n",
       "    </tr>\n",
       "    <tr>\n",
       "      <th>119385</th>\n",
       "      <td>City Hotel</td>\n",
       "      <td>0</td>\n",
       "      <td>23</td>\n",
       "      <td>2017</td>\n",
       "      <td>August</td>\n",
       "      <td>35</td>\n",
       "      <td>30</td>\n",
       "      <td>2</td>\n",
       "      <td>5</td>\n",
       "      <td>2</td>\n",
       "      <td>...</td>\n",
       "      <td>Transient</td>\n",
       "      <td>96.14</td>\n",
       "      <td>0</td>\n",
       "      <td>0</td>\n",
       "      <td>Check-Out</td>\n",
       "      <td>2017-09-06</td>\n",
       "      <td>Claudia Johnson</td>\n",
       "      <td>Claudia.J@yahoo.com</td>\n",
       "      <td>403-092-5582</td>\n",
       "      <td>************8647</td>\n",
       "    </tr>\n",
       "    <tr>\n",
       "      <th>119386</th>\n",
       "      <td>City Hotel</td>\n",
       "      <td>0</td>\n",
       "      <td>102</td>\n",
       "      <td>2017</td>\n",
       "      <td>August</td>\n",
       "      <td>35</td>\n",
       "      <td>31</td>\n",
       "      <td>2</td>\n",
       "      <td>5</td>\n",
       "      <td>3</td>\n",
       "      <td>...</td>\n",
       "      <td>Transient</td>\n",
       "      <td>225.43</td>\n",
       "      <td>0</td>\n",
       "      <td>2</td>\n",
       "      <td>Check-Out</td>\n",
       "      <td>2017-09-07</td>\n",
       "      <td>Wesley Aguilar</td>\n",
       "      <td>WAguilar@xfinity.com</td>\n",
       "      <td>238-763-0612</td>\n",
       "      <td>************4333</td>\n",
       "    </tr>\n",
       "    <tr>\n",
       "      <th>119387</th>\n",
       "      <td>City Hotel</td>\n",
       "      <td>0</td>\n",
       "      <td>34</td>\n",
       "      <td>2017</td>\n",
       "      <td>August</td>\n",
       "      <td>35</td>\n",
       "      <td>31</td>\n",
       "      <td>2</td>\n",
       "      <td>5</td>\n",
       "      <td>2</td>\n",
       "      <td>...</td>\n",
       "      <td>Transient</td>\n",
       "      <td>157.71</td>\n",
       "      <td>0</td>\n",
       "      <td>4</td>\n",
       "      <td>Check-Out</td>\n",
       "      <td>2017-09-07</td>\n",
       "      <td>Mary Morales</td>\n",
       "      <td>Mary_Morales@hotmail.com</td>\n",
       "      <td>395-518-4100</td>\n",
       "      <td>************1821</td>\n",
       "    </tr>\n",
       "    <tr>\n",
       "      <th>119388</th>\n",
       "      <td>City Hotel</td>\n",
       "      <td>0</td>\n",
       "      <td>109</td>\n",
       "      <td>2017</td>\n",
       "      <td>August</td>\n",
       "      <td>35</td>\n",
       "      <td>31</td>\n",
       "      <td>2</td>\n",
       "      <td>5</td>\n",
       "      <td>2</td>\n",
       "      <td>...</td>\n",
       "      <td>Transient</td>\n",
       "      <td>104.40</td>\n",
       "      <td>0</td>\n",
       "      <td>0</td>\n",
       "      <td>Check-Out</td>\n",
       "      <td>2017-09-07</td>\n",
       "      <td>Caroline Conley MD</td>\n",
       "      <td>MD_Caroline@comcast.net</td>\n",
       "      <td>531-528-1017</td>\n",
       "      <td>************7860</td>\n",
       "    </tr>\n",
       "    <tr>\n",
       "      <th>119389</th>\n",
       "      <td>City Hotel</td>\n",
       "      <td>0</td>\n",
       "      <td>205</td>\n",
       "      <td>2017</td>\n",
       "      <td>August</td>\n",
       "      <td>35</td>\n",
       "      <td>29</td>\n",
       "      <td>2</td>\n",
       "      <td>7</td>\n",
       "      <td>2</td>\n",
       "      <td>...</td>\n",
       "      <td>Transient</td>\n",
       "      <td>151.20</td>\n",
       "      <td>0</td>\n",
       "      <td>2</td>\n",
       "      <td>Check-Out</td>\n",
       "      <td>2017-09-07</td>\n",
       "      <td>Ariana Michael</td>\n",
       "      <td>Ariana_M@xfinity.com</td>\n",
       "      <td>422-804-6403</td>\n",
       "      <td>************4482</td>\n",
       "    </tr>\n",
       "  </tbody>\n",
       "</table>\n",
       "<p>119390 rows × 36 columns</p>\n",
       "</div>"
      ],
      "text/plain": [
       "               hotel  is_canceled  lead_time  arrival_date_year  \\\n",
       "0       Resort Hotel            0        342               2015   \n",
       "1       Resort Hotel            0        737               2015   \n",
       "2       Resort Hotel            0          7               2015   \n",
       "3       Resort Hotel            0         13               2015   \n",
       "4       Resort Hotel            0         14               2015   \n",
       "...              ...          ...        ...                ...   \n",
       "119385    City Hotel            0         23               2017   \n",
       "119386    City Hotel            0        102               2017   \n",
       "119387    City Hotel            0         34               2017   \n",
       "119388    City Hotel            0        109               2017   \n",
       "119389    City Hotel            0        205               2017   \n",
       "\n",
       "       arrival_date_month  arrival_date_week_number  \\\n",
       "0                    July                        27   \n",
       "1                    July                        27   \n",
       "2                    July                        27   \n",
       "3                    July                        27   \n",
       "4                    July                        27   \n",
       "...                   ...                       ...   \n",
       "119385             August                        35   \n",
       "119386             August                        35   \n",
       "119387             August                        35   \n",
       "119388             August                        35   \n",
       "119389             August                        35   \n",
       "\n",
       "        arrival_date_day_of_month  stays_in_weekend_nights  \\\n",
       "0                               1                        0   \n",
       "1                               1                        0   \n",
       "2                               1                        0   \n",
       "3                               1                        0   \n",
       "4                               1                        0   \n",
       "...                           ...                      ...   \n",
       "119385                         30                        2   \n",
       "119386                         31                        2   \n",
       "119387                         31                        2   \n",
       "119388                         31                        2   \n",
       "119389                         29                        2   \n",
       "\n",
       "        stays_in_week_nights  adults  ...  customer_type     adr  \\\n",
       "0                          0       2  ...      Transient    0.00   \n",
       "1                          0       2  ...      Transient    0.00   \n",
       "2                          1       1  ...      Transient   75.00   \n",
       "3                          1       1  ...      Transient   75.00   \n",
       "4                          2       2  ...      Transient   98.00   \n",
       "...                      ...     ...  ...            ...     ...   \n",
       "119385                     5       2  ...      Transient   96.14   \n",
       "119386                     5       3  ...      Transient  225.43   \n",
       "119387                     5       2  ...      Transient  157.71   \n",
       "119388                     5       2  ...      Transient  104.40   \n",
       "119389                     7       2  ...      Transient  151.20   \n",
       "\n",
       "       required_car_parking_spaces total_of_special_requests  \\\n",
       "0                                0                         0   \n",
       "1                                0                         0   \n",
       "2                                0                         0   \n",
       "3                                0                         0   \n",
       "4                                0                         1   \n",
       "...                            ...                       ...   \n",
       "119385                           0                         0   \n",
       "119386                           0                         2   \n",
       "119387                           0                         4   \n",
       "119388                           0                         0   \n",
       "119389                           0                         2   \n",
       "\n",
       "       reservation_status reservation_status_date                name  \\\n",
       "0               Check-Out              2015-07-01       Ernest Barnes   \n",
       "1               Check-Out              2015-07-01        Andrea Baker   \n",
       "2               Check-Out              2015-07-02      Rebecca Parker   \n",
       "3               Check-Out              2015-07-02        Laura Murray   \n",
       "4               Check-Out              2015-07-03         Linda Hines   \n",
       "...                   ...                     ...                 ...   \n",
       "119385          Check-Out              2017-09-06     Claudia Johnson   \n",
       "119386          Check-Out              2017-09-07      Wesley Aguilar   \n",
       "119387          Check-Out              2017-09-07        Mary Morales   \n",
       "119388          Check-Out              2017-09-07  Caroline Conley MD   \n",
       "119389          Check-Out              2017-09-07      Ariana Michael   \n",
       "\n",
       "                              email  phone-number       credit_card  \n",
       "0       Ernest.Barnes31@outlook.com  669-792-1661  ************4322  \n",
       "1            Andrea_Baker94@aol.com  858-637-6955  ************9157  \n",
       "2        Rebecca_Parker@comcast.net  652-885-2745  ************3734  \n",
       "3                 Laura_M@gmail.com  364-656-8427  ************5677  \n",
       "4                LHines@verizon.com  713-226-5883  ************5498  \n",
       "...                             ...           ...               ...  \n",
       "119385          Claudia.J@yahoo.com  403-092-5582  ************8647  \n",
       "119386         WAguilar@xfinity.com  238-763-0612  ************4333  \n",
       "119387     Mary_Morales@hotmail.com  395-518-4100  ************1821  \n",
       "119388      MD_Caroline@comcast.net  531-528-1017  ************7860  \n",
       "119389         Ariana_M@xfinity.com  422-804-6403  ************4482  \n",
       "\n",
       "[119390 rows x 36 columns]"
      ]
     },
     "execution_count": 2,
     "metadata": {},
     "output_type": "execute_result"
    }
   ],
   "source": [
    "# loading our dataset and assigning it to a variable hotel\n",
    "hotel = pd.read_csv(\"Data/hotel_booking.csv\")\n",
    "hotel"
   ]
  },
  {
   "cell_type": "code",
   "execution_count": 3,
   "id": "e6226ceb-9fb2-46ce-a53f-91e585fffc25",
   "metadata": {},
   "outputs": [
    {
     "name": "stdout",
     "output_type": "stream",
     "text": [
      "<class 'pandas.core.frame.DataFrame'>\n",
      "RangeIndex: 119390 entries, 0 to 119389\n",
      "Data columns (total 36 columns):\n",
      " #   Column                          Non-Null Count   Dtype  \n",
      "---  ------                          --------------   -----  \n",
      " 0   hotel                           119390 non-null  object \n",
      " 1   is_canceled                     119390 non-null  int64  \n",
      " 2   lead_time                       119390 non-null  int64  \n",
      " 3   arrival_date_year               119390 non-null  int64  \n",
      " 4   arrival_date_month              119390 non-null  object \n",
      " 5   arrival_date_week_number        119390 non-null  int64  \n",
      " 6   arrival_date_day_of_month       119390 non-null  int64  \n",
      " 7   stays_in_weekend_nights         119390 non-null  int64  \n",
      " 8   stays_in_week_nights            119390 non-null  int64  \n",
      " 9   adults                          119390 non-null  int64  \n",
      " 10  children                        119386 non-null  float64\n",
      " 11  babies                          119390 non-null  int64  \n",
      " 12  meal                            119390 non-null  object \n",
      " 13  country                         118902 non-null  object \n",
      " 14  market_segment                  119390 non-null  object \n",
      " 15  distribution_channel            119390 non-null  object \n",
      " 16  is_repeated_guest               119390 non-null  int64  \n",
      " 17  previous_cancellations          119390 non-null  int64  \n",
      " 18  previous_bookings_not_canceled  119390 non-null  int64  \n",
      " 19  reserved_room_type              119390 non-null  object \n",
      " 20  assigned_room_type              119390 non-null  object \n",
      " 21  booking_changes                 119390 non-null  int64  \n",
      " 22  deposit_type                    119390 non-null  object \n",
      " 23  agent                           103050 non-null  float64\n",
      " 24  company                         6797 non-null    float64\n",
      " 25  days_in_waiting_list            119390 non-null  int64  \n",
      " 26  customer_type                   119390 non-null  object \n",
      " 27  adr                             119390 non-null  float64\n",
      " 28  required_car_parking_spaces     119390 non-null  int64  \n",
      " 29  total_of_special_requests       119390 non-null  int64  \n",
      " 30  reservation_status              119390 non-null  object \n",
      " 31  reservation_status_date         119390 non-null  object \n",
      " 32  name                            119390 non-null  object \n",
      " 33  email                           119390 non-null  object \n",
      " 34  phone-number                    119390 non-null  object \n",
      " 35  credit_card                     119390 non-null  object \n",
      "dtypes: float64(4), int64(16), object(16)\n",
      "memory usage: 32.8+ MB\n"
     ]
    }
   ],
   "source": [
    "#Looking at each columns datatypes\n",
    "hotel.info()"
   ]
  },
  {
   "cell_type": "code",
   "execution_count": 4,
   "id": "07c63729-bda8-4226-8dbc-01c8f0f5b186",
   "metadata": {},
   "outputs": [
    {
     "data": {
      "text/html": [
       "<div>\n",
       "<style scoped>\n",
       "    .dataframe tbody tr th:only-of-type {\n",
       "        vertical-align: middle;\n",
       "    }\n",
       "\n",
       "    .dataframe tbody tr th {\n",
       "        vertical-align: top;\n",
       "    }\n",
       "\n",
       "    .dataframe thead th {\n",
       "        text-align: right;\n",
       "    }\n",
       "</style>\n",
       "<table border=\"1\" class=\"dataframe\">\n",
       "  <thead>\n",
       "    <tr style=\"text-align: right;\">\n",
       "      <th></th>\n",
       "      <th>is_canceled</th>\n",
       "      <th>lead_time</th>\n",
       "      <th>arrival_date_year</th>\n",
       "      <th>arrival_date_week_number</th>\n",
       "      <th>arrival_date_day_of_month</th>\n",
       "      <th>stays_in_weekend_nights</th>\n",
       "      <th>stays_in_week_nights</th>\n",
       "      <th>adults</th>\n",
       "      <th>children</th>\n",
       "      <th>babies</th>\n",
       "      <th>is_repeated_guest</th>\n",
       "      <th>previous_cancellations</th>\n",
       "      <th>previous_bookings_not_canceled</th>\n",
       "      <th>booking_changes</th>\n",
       "      <th>agent</th>\n",
       "      <th>company</th>\n",
       "      <th>days_in_waiting_list</th>\n",
       "      <th>adr</th>\n",
       "      <th>required_car_parking_spaces</th>\n",
       "      <th>total_of_special_requests</th>\n",
       "    </tr>\n",
       "  </thead>\n",
       "  <tbody>\n",
       "    <tr>\n",
       "      <th>count</th>\n",
       "      <td>119390.000000</td>\n",
       "      <td>119390.000000</td>\n",
       "      <td>119390.000000</td>\n",
       "      <td>119390.000000</td>\n",
       "      <td>119390.000000</td>\n",
       "      <td>119390.000000</td>\n",
       "      <td>119390.000000</td>\n",
       "      <td>119390.000000</td>\n",
       "      <td>119386.000000</td>\n",
       "      <td>119390.000000</td>\n",
       "      <td>119390.000000</td>\n",
       "      <td>119390.000000</td>\n",
       "      <td>119390.000000</td>\n",
       "      <td>119390.000000</td>\n",
       "      <td>103050.000000</td>\n",
       "      <td>6797.000000</td>\n",
       "      <td>119390.000000</td>\n",
       "      <td>119390.000000</td>\n",
       "      <td>119390.000000</td>\n",
       "      <td>119390.000000</td>\n",
       "    </tr>\n",
       "    <tr>\n",
       "      <th>mean</th>\n",
       "      <td>0.370416</td>\n",
       "      <td>104.011416</td>\n",
       "      <td>2016.156554</td>\n",
       "      <td>27.165173</td>\n",
       "      <td>15.798241</td>\n",
       "      <td>0.927599</td>\n",
       "      <td>2.500302</td>\n",
       "      <td>1.856403</td>\n",
       "      <td>0.103890</td>\n",
       "      <td>0.007949</td>\n",
       "      <td>0.031912</td>\n",
       "      <td>0.087118</td>\n",
       "      <td>0.137097</td>\n",
       "      <td>0.221124</td>\n",
       "      <td>86.693382</td>\n",
       "      <td>189.266735</td>\n",
       "      <td>2.321149</td>\n",
       "      <td>101.831122</td>\n",
       "      <td>0.062518</td>\n",
       "      <td>0.571363</td>\n",
       "    </tr>\n",
       "    <tr>\n",
       "      <th>std</th>\n",
       "      <td>0.482918</td>\n",
       "      <td>106.863097</td>\n",
       "      <td>0.707476</td>\n",
       "      <td>13.605138</td>\n",
       "      <td>8.780829</td>\n",
       "      <td>0.998613</td>\n",
       "      <td>1.908286</td>\n",
       "      <td>0.579261</td>\n",
       "      <td>0.398561</td>\n",
       "      <td>0.097436</td>\n",
       "      <td>0.175767</td>\n",
       "      <td>0.844336</td>\n",
       "      <td>1.497437</td>\n",
       "      <td>0.652306</td>\n",
       "      <td>110.774548</td>\n",
       "      <td>131.655015</td>\n",
       "      <td>17.594721</td>\n",
       "      <td>50.535790</td>\n",
       "      <td>0.245291</td>\n",
       "      <td>0.792798</td>\n",
       "    </tr>\n",
       "    <tr>\n",
       "      <th>min</th>\n",
       "      <td>0.000000</td>\n",
       "      <td>0.000000</td>\n",
       "      <td>2015.000000</td>\n",
       "      <td>1.000000</td>\n",
       "      <td>1.000000</td>\n",
       "      <td>0.000000</td>\n",
       "      <td>0.000000</td>\n",
       "      <td>0.000000</td>\n",
       "      <td>0.000000</td>\n",
       "      <td>0.000000</td>\n",
       "      <td>0.000000</td>\n",
       "      <td>0.000000</td>\n",
       "      <td>0.000000</td>\n",
       "      <td>0.000000</td>\n",
       "      <td>1.000000</td>\n",
       "      <td>6.000000</td>\n",
       "      <td>0.000000</td>\n",
       "      <td>-6.380000</td>\n",
       "      <td>0.000000</td>\n",
       "      <td>0.000000</td>\n",
       "    </tr>\n",
       "    <tr>\n",
       "      <th>25%</th>\n",
       "      <td>0.000000</td>\n",
       "      <td>18.000000</td>\n",
       "      <td>2016.000000</td>\n",
       "      <td>16.000000</td>\n",
       "      <td>8.000000</td>\n",
       "      <td>0.000000</td>\n",
       "      <td>1.000000</td>\n",
       "      <td>2.000000</td>\n",
       "      <td>0.000000</td>\n",
       "      <td>0.000000</td>\n",
       "      <td>0.000000</td>\n",
       "      <td>0.000000</td>\n",
       "      <td>0.000000</td>\n",
       "      <td>0.000000</td>\n",
       "      <td>9.000000</td>\n",
       "      <td>62.000000</td>\n",
       "      <td>0.000000</td>\n",
       "      <td>69.290000</td>\n",
       "      <td>0.000000</td>\n",
       "      <td>0.000000</td>\n",
       "    </tr>\n",
       "    <tr>\n",
       "      <th>50%</th>\n",
       "      <td>0.000000</td>\n",
       "      <td>69.000000</td>\n",
       "      <td>2016.000000</td>\n",
       "      <td>28.000000</td>\n",
       "      <td>16.000000</td>\n",
       "      <td>1.000000</td>\n",
       "      <td>2.000000</td>\n",
       "      <td>2.000000</td>\n",
       "      <td>0.000000</td>\n",
       "      <td>0.000000</td>\n",
       "      <td>0.000000</td>\n",
       "      <td>0.000000</td>\n",
       "      <td>0.000000</td>\n",
       "      <td>0.000000</td>\n",
       "      <td>14.000000</td>\n",
       "      <td>179.000000</td>\n",
       "      <td>0.000000</td>\n",
       "      <td>94.575000</td>\n",
       "      <td>0.000000</td>\n",
       "      <td>0.000000</td>\n",
       "    </tr>\n",
       "    <tr>\n",
       "      <th>75%</th>\n",
       "      <td>1.000000</td>\n",
       "      <td>160.000000</td>\n",
       "      <td>2017.000000</td>\n",
       "      <td>38.000000</td>\n",
       "      <td>23.000000</td>\n",
       "      <td>2.000000</td>\n",
       "      <td>3.000000</td>\n",
       "      <td>2.000000</td>\n",
       "      <td>0.000000</td>\n",
       "      <td>0.000000</td>\n",
       "      <td>0.000000</td>\n",
       "      <td>0.000000</td>\n",
       "      <td>0.000000</td>\n",
       "      <td>0.000000</td>\n",
       "      <td>229.000000</td>\n",
       "      <td>270.000000</td>\n",
       "      <td>0.000000</td>\n",
       "      <td>126.000000</td>\n",
       "      <td>0.000000</td>\n",
       "      <td>1.000000</td>\n",
       "    </tr>\n",
       "    <tr>\n",
       "      <th>max</th>\n",
       "      <td>1.000000</td>\n",
       "      <td>737.000000</td>\n",
       "      <td>2017.000000</td>\n",
       "      <td>53.000000</td>\n",
       "      <td>31.000000</td>\n",
       "      <td>19.000000</td>\n",
       "      <td>50.000000</td>\n",
       "      <td>55.000000</td>\n",
       "      <td>10.000000</td>\n",
       "      <td>10.000000</td>\n",
       "      <td>1.000000</td>\n",
       "      <td>26.000000</td>\n",
       "      <td>72.000000</td>\n",
       "      <td>21.000000</td>\n",
       "      <td>535.000000</td>\n",
       "      <td>543.000000</td>\n",
       "      <td>391.000000</td>\n",
       "      <td>5400.000000</td>\n",
       "      <td>8.000000</td>\n",
       "      <td>5.000000</td>\n",
       "    </tr>\n",
       "  </tbody>\n",
       "</table>\n",
       "</div>"
      ],
      "text/plain": [
       "         is_canceled      lead_time  arrival_date_year  \\\n",
       "count  119390.000000  119390.000000      119390.000000   \n",
       "mean        0.370416     104.011416        2016.156554   \n",
       "std         0.482918     106.863097           0.707476   \n",
       "min         0.000000       0.000000        2015.000000   \n",
       "25%         0.000000      18.000000        2016.000000   \n",
       "50%         0.000000      69.000000        2016.000000   \n",
       "75%         1.000000     160.000000        2017.000000   \n",
       "max         1.000000     737.000000        2017.000000   \n",
       "\n",
       "       arrival_date_week_number  arrival_date_day_of_month  \\\n",
       "count             119390.000000              119390.000000   \n",
       "mean                  27.165173                  15.798241   \n",
       "std                   13.605138                   8.780829   \n",
       "min                    1.000000                   1.000000   \n",
       "25%                   16.000000                   8.000000   \n",
       "50%                   28.000000                  16.000000   \n",
       "75%                   38.000000                  23.000000   \n",
       "max                   53.000000                  31.000000   \n",
       "\n",
       "       stays_in_weekend_nights  stays_in_week_nights         adults  \\\n",
       "count            119390.000000         119390.000000  119390.000000   \n",
       "mean                  0.927599              2.500302       1.856403   \n",
       "std                   0.998613              1.908286       0.579261   \n",
       "min                   0.000000              0.000000       0.000000   \n",
       "25%                   0.000000              1.000000       2.000000   \n",
       "50%                   1.000000              2.000000       2.000000   \n",
       "75%                   2.000000              3.000000       2.000000   \n",
       "max                  19.000000             50.000000      55.000000   \n",
       "\n",
       "            children         babies  is_repeated_guest  \\\n",
       "count  119386.000000  119390.000000      119390.000000   \n",
       "mean        0.103890       0.007949           0.031912   \n",
       "std         0.398561       0.097436           0.175767   \n",
       "min         0.000000       0.000000           0.000000   \n",
       "25%         0.000000       0.000000           0.000000   \n",
       "50%         0.000000       0.000000           0.000000   \n",
       "75%         0.000000       0.000000           0.000000   \n",
       "max        10.000000      10.000000           1.000000   \n",
       "\n",
       "       previous_cancellations  previous_bookings_not_canceled  \\\n",
       "count           119390.000000                   119390.000000   \n",
       "mean                 0.087118                        0.137097   \n",
       "std                  0.844336                        1.497437   \n",
       "min                  0.000000                        0.000000   \n",
       "25%                  0.000000                        0.000000   \n",
       "50%                  0.000000                        0.000000   \n",
       "75%                  0.000000                        0.000000   \n",
       "max                 26.000000                       72.000000   \n",
       "\n",
       "       booking_changes          agent      company  days_in_waiting_list  \\\n",
       "count    119390.000000  103050.000000  6797.000000         119390.000000   \n",
       "mean          0.221124      86.693382   189.266735              2.321149   \n",
       "std           0.652306     110.774548   131.655015             17.594721   \n",
       "min           0.000000       1.000000     6.000000              0.000000   \n",
       "25%           0.000000       9.000000    62.000000              0.000000   \n",
       "50%           0.000000      14.000000   179.000000              0.000000   \n",
       "75%           0.000000     229.000000   270.000000              0.000000   \n",
       "max          21.000000     535.000000   543.000000            391.000000   \n",
       "\n",
       "                 adr  required_car_parking_spaces  total_of_special_requests  \n",
       "count  119390.000000                119390.000000              119390.000000  \n",
       "mean      101.831122                     0.062518                   0.571363  \n",
       "std        50.535790                     0.245291                   0.792798  \n",
       "min        -6.380000                     0.000000                   0.000000  \n",
       "25%        69.290000                     0.000000                   0.000000  \n",
       "50%        94.575000                     0.000000                   0.000000  \n",
       "75%       126.000000                     0.000000                   1.000000  \n",
       "max      5400.000000                     8.000000                   5.000000  "
      ]
     },
     "execution_count": 4,
     "metadata": {},
     "output_type": "execute_result"
    }
   ],
   "source": [
    "#summary of statistics that has to do with the DataFrame\n",
    "hotel.describe()"
   ]
  },
  {
   "cell_type": "code",
   "execution_count": 5,
   "id": "3e07d90b-fb4e-4824-b705-0c5de3f32fe5",
   "metadata": {},
   "outputs": [
    {
     "data": {
      "text/plain": [
       "Index(['hotel', 'is_canceled', 'lead_time', 'arrival_date_year',\n",
       "       'arrival_date_month', 'arrival_date_week_number',\n",
       "       'arrival_date_day_of_month', 'stays_in_weekend_nights',\n",
       "       'stays_in_week_nights', 'adults', 'children', 'babies', 'meal',\n",
       "       'country', 'market_segment', 'distribution_channel',\n",
       "       'is_repeated_guest', 'previous_cancellations',\n",
       "       'previous_bookings_not_canceled', 'reserved_room_type',\n",
       "       'assigned_room_type', 'booking_changes', 'deposit_type', 'agent',\n",
       "       'company', 'days_in_waiting_list', 'customer_type', 'adr',\n",
       "       'required_car_parking_spaces', 'total_of_special_requests',\n",
       "       'reservation_status', 'reservation_status_date', 'name', 'email',\n",
       "       'phone-number', 'credit_card'],\n",
       "      dtype='object')"
      ]
     },
     "execution_count": 5,
     "metadata": {},
     "output_type": "execute_result"
    }
   ],
   "source": [
    "# checking the columns in our dataset\n",
    "hotel.columns"
   ]
  },
  {
   "cell_type": "code",
   "execution_count": 6,
   "id": "5b9d8e2c-06cb-41b3-91f1-b08998665e06",
   "metadata": {},
   "outputs": [
    {
     "data": {
      "text/plain": [
       "(119390, 36)"
      ]
     },
     "execution_count": 6,
     "metadata": {},
     "output_type": "execute_result"
    }
   ],
   "source": [
    "# checking the shape of our data\n",
    "hotel.shape"
   ]
  },
  {
   "cell_type": "code",
   "execution_count": 7,
   "id": "4b361497-d902-4002-88c4-f461a9139c21",
   "metadata": {},
   "outputs": [
    {
     "data": {
      "text/plain": [
       "array(['Transient', 'Contract', 'Transient-Party', 'Group'], dtype=object)"
      ]
     },
     "execution_count": 7,
     "metadata": {},
     "output_type": "execute_result"
    }
   ],
   "source": [
    "hotel[\"customer_type\"].unique()"
   ]
  },
  {
   "cell_type": "markdown",
   "id": "ce77ee70-904b-4610-be86-e67686dd0a9a",
   "metadata": {},
   "source": [
    "# 4. Data Preparation"
   ]
  },
  {
   "cell_type": "markdown",
   "id": "583c8a79-6863-4fbf-bff9-e57569f2354b",
   "metadata": {},
   "source": [
    "# Missing Values"
   ]
  },
  {
   "cell_type": "code",
   "execution_count": 8,
   "id": "fc53bcbd-146f-4817-bab5-36198214a39a",
   "metadata": {},
   "outputs": [
    {
     "data": {
      "text/plain": [
       "hotel                                  0\n",
       "is_canceled                            0\n",
       "lead_time                              0\n",
       "arrival_date_year                      0\n",
       "arrival_date_month                     0\n",
       "arrival_date_week_number               0\n",
       "arrival_date_day_of_month              0\n",
       "stays_in_weekend_nights                0\n",
       "stays_in_week_nights                   0\n",
       "adults                                 0\n",
       "children                               4\n",
       "babies                                 0\n",
       "meal                                   0\n",
       "country                              488\n",
       "market_segment                         0\n",
       "distribution_channel                   0\n",
       "is_repeated_guest                      0\n",
       "previous_cancellations                 0\n",
       "previous_bookings_not_canceled         0\n",
       "reserved_room_type                     0\n",
       "assigned_room_type                     0\n",
       "booking_changes                        0\n",
       "deposit_type                           0\n",
       "agent                              16340\n",
       "company                           112593\n",
       "days_in_waiting_list                   0\n",
       "customer_type                          0\n",
       "adr                                    0\n",
       "required_car_parking_spaces            0\n",
       "total_of_special_requests              0\n",
       "reservation_status                     0\n",
       "reservation_status_date                0\n",
       "name                                   0\n",
       "email                                  0\n",
       "phone-number                           0\n",
       "credit_card                            0\n",
       "dtype: int64"
      ]
     },
     "execution_count": 8,
     "metadata": {},
     "output_type": "execute_result"
    }
   ],
   "source": [
    "#checking for missing values\n",
    "hotel.isna().sum()"
   ]
  },
  {
   "cell_type": "markdown",
   "id": "6549d0fe-afff-49cf-9d7e-a8f4a2be6e6c",
   "metadata": {},
   "source": [
    "## Handling country missing values"
   ]
  },
  {
   "cell_type": "code",
   "execution_count": 9,
   "id": "09f4a960-6fde-4ba5-a8d4-6204f820a3cd",
   "metadata": {},
   "outputs": [
    {
     "data": {
      "text/plain": [
       "array(['PRT', 'GBR', 'USA', 'ESP', 'IRL', 'FRA', nan, 'ROU', 'NOR', 'OMN',\n",
       "       'ARG', 'POL', 'DEU', 'BEL', 'CHE', 'CN', 'GRC', 'ITA', 'NLD',\n",
       "       'DNK', 'RUS', 'SWE', 'AUS', 'EST', 'CZE', 'BRA', 'FIN', 'MOZ',\n",
       "       'BWA', 'LUX', 'SVN', 'ALB', 'IND', 'CHN', 'MEX', 'MAR', 'UKR',\n",
       "       'SMR', 'LVA', 'PRI', 'SRB', 'CHL', 'AUT', 'BLR', 'LTU', 'TUR',\n",
       "       'ZAF', 'AGO', 'ISR', 'CYM', 'ZMB', 'CPV', 'ZWE', 'DZA', 'KOR',\n",
       "       'CRI', 'HUN', 'ARE', 'TUN', 'JAM', 'HRV', 'HKG', 'IRN', 'GEO',\n",
       "       'AND', 'GIB', 'URY', 'JEY', 'CAF', 'CYP', 'COL', 'GGY', 'KWT',\n",
       "       'NGA', 'MDV', 'VEN', 'SVK', 'FJI', 'KAZ', 'PAK', 'IDN', 'LBN',\n",
       "       'PHL', 'SEN', 'SYC', 'AZE', 'BHR', 'NZL', 'THA', 'DOM', 'MKD',\n",
       "       'MYS', 'ARM', 'JPN', 'LKA', 'CUB', 'CMR', 'BIH', 'MUS', 'COM',\n",
       "       'SUR', 'UGA', 'BGR', 'CIV', 'JOR', 'SYR', 'SGP', 'BDI', 'SAU',\n",
       "       'VNM', 'PLW', 'QAT', 'EGY', 'PER', 'MLT', 'MWI', 'ECU', 'MDG',\n",
       "       'ISL', 'UZB', 'NPL', 'BHS', 'MAC', 'TGO', 'TWN', 'DJI', 'STP',\n",
       "       'KNA', 'ETH', 'IRQ', 'HND', 'RWA', 'KHM', 'MCO', 'BGD', 'IMN',\n",
       "       'TJK', 'NIC', 'BEN', 'VGB', 'TZA', 'GAB', 'GHA', 'TMP', 'GLP',\n",
       "       'KEN', 'LIE', 'GNB', 'MNE', 'UMI', 'MYT', 'FRO', 'MMR', 'PAN',\n",
       "       'BFA', 'LBY', 'MLI', 'NAM', 'BOL', 'PRY', 'BRB', 'ABW', 'AIA',\n",
       "       'SLV', 'DMA', 'PYF', 'GUY', 'LCA', 'ATA', 'GTM', 'ASM', 'MRT',\n",
       "       'NCL', 'KIR', 'SDN', 'ATF', 'SLE', 'LAO'], dtype=object)"
      ]
     },
     "execution_count": 9,
     "metadata": {},
     "output_type": "execute_result"
    }
   ],
   "source": [
    "# looking at the missing values in the country column\n",
    "hotel[\"country\"].unique()"
   ]
  },
  {
   "cell_type": "code",
   "execution_count": 10,
   "id": "06c3ee29-ef6e-49b6-b92c-26a2292dab9b",
   "metadata": {},
   "outputs": [
    {
     "data": {
      "text/plain": [
       "488"
      ]
     },
     "execution_count": 10,
     "metadata": {},
     "output_type": "execute_result"
    }
   ],
   "source": [
    "#The sum of the missing values\n",
    "sum_nan = hotel[\"country\"].isna().sum()\n",
    "sum_nan"
   ]
  },
  {
   "cell_type": "code",
   "execution_count": 11,
   "id": "92102d90-270f-43d8-9406-03cb1518dc5d",
   "metadata": {},
   "outputs": [
    {
     "data": {
      "text/plain": [
       "118902"
      ]
     },
     "execution_count": 11,
     "metadata": {},
     "output_type": "execute_result"
    }
   ],
   "source": [
    "# Sum of all values in the country column\n",
    "sum_country = hotel[\"country\"].value_counts().sum()\n",
    "sum_country"
   ]
  },
  {
   "cell_type": "code",
   "execution_count": 12,
   "id": "22581207-d8ef-4daa-9a3a-b61b638f7253",
   "metadata": {},
   "outputs": [
    {
     "name": "stdout",
     "output_type": "stream",
     "text": [
      "0.4104\n"
     ]
    }
   ],
   "source": [
    "#Looking at the percentage of the missing values\n",
    "perc_nan = sum_nan / sum_country * 100\n",
    "print(round(perc_nan, 4))"
   ]
  },
  {
   "cell_type": "markdown",
   "id": "32903dc1-3bd8-40f0-86c3-8542fb214de3",
   "metadata": {},
   "source": [
    "Removing the country missing values beacuse the number of missing values which is 488 is insignificantly small."
   ]
  },
  {
   "cell_type": "code",
   "execution_count": 13,
   "id": "2d36525a-27d2-4110-ab51-3145d40cd8e5",
   "metadata": {},
   "outputs": [],
   "source": [
    "# dropping country nan values\n",
    "hotel.dropna(subset = [\"country\"], inplace = True)"
   ]
  },
  {
   "cell_type": "code",
   "execution_count": 14,
   "id": "17ed2f21-d0aa-48bd-b206-f1e8e3d7ec50",
   "metadata": {},
   "outputs": [
    {
     "data": {
      "text/plain": [
       "array(['PRT', 'GBR', 'USA', 'ESP', 'IRL', 'FRA', 'ROU', 'NOR', 'OMN',\n",
       "       'ARG', 'POL', 'DEU', 'BEL', 'CHE', 'CN', 'GRC', 'ITA', 'NLD',\n",
       "       'DNK', 'RUS', 'SWE', 'AUS', 'EST', 'CZE', 'BRA', 'FIN', 'MOZ',\n",
       "       'BWA', 'LUX', 'SVN', 'ALB', 'IND', 'CHN', 'MEX', 'MAR', 'UKR',\n",
       "       'SMR', 'LVA', 'PRI', 'SRB', 'CHL', 'AUT', 'BLR', 'LTU', 'TUR',\n",
       "       'ZAF', 'AGO', 'ISR', 'CYM', 'ZMB', 'CPV', 'ZWE', 'DZA', 'KOR',\n",
       "       'CRI', 'HUN', 'ARE', 'TUN', 'JAM', 'HRV', 'HKG', 'IRN', 'GEO',\n",
       "       'AND', 'GIB', 'URY', 'JEY', 'CAF', 'CYP', 'COL', 'GGY', 'KWT',\n",
       "       'NGA', 'MDV', 'VEN', 'SVK', 'FJI', 'KAZ', 'PAK', 'IDN', 'LBN',\n",
       "       'PHL', 'SEN', 'SYC', 'AZE', 'BHR', 'NZL', 'THA', 'DOM', 'MKD',\n",
       "       'MYS', 'ARM', 'JPN', 'LKA', 'CUB', 'CMR', 'BIH', 'MUS', 'COM',\n",
       "       'SUR', 'UGA', 'BGR', 'CIV', 'JOR', 'SYR', 'SGP', 'BDI', 'SAU',\n",
       "       'VNM', 'PLW', 'QAT', 'EGY', 'PER', 'MLT', 'MWI', 'ECU', 'MDG',\n",
       "       'ISL', 'UZB', 'NPL', 'BHS', 'MAC', 'TGO', 'TWN', 'DJI', 'STP',\n",
       "       'KNA', 'ETH', 'IRQ', 'HND', 'RWA', 'KHM', 'MCO', 'BGD', 'IMN',\n",
       "       'TJK', 'NIC', 'BEN', 'VGB', 'TZA', 'GAB', 'GHA', 'TMP', 'GLP',\n",
       "       'KEN', 'LIE', 'GNB', 'MNE', 'UMI', 'MYT', 'FRO', 'MMR', 'PAN',\n",
       "       'BFA', 'LBY', 'MLI', 'NAM', 'BOL', 'PRY', 'BRB', 'ABW', 'AIA',\n",
       "       'SLV', 'DMA', 'PYF', 'GUY', 'LCA', 'ATA', 'GTM', 'ASM', 'MRT',\n",
       "       'NCL', 'KIR', 'SDN', 'ATF', 'SLE', 'LAO'], dtype=object)"
      ]
     },
     "execution_count": 14,
     "metadata": {},
     "output_type": "execute_result"
    }
   ],
   "source": [
    "# confirming that the missing values have been removed\n",
    "hotel[\"country\"].unique()"
   ]
  },
  {
   "cell_type": "markdown",
   "id": "c606ea89-8472-4c05-b6e3-54e370366af4",
   "metadata": {},
   "source": [
    "## Handling agent missing values"
   ]
  },
  {
   "cell_type": "code",
   "execution_count": 15,
   "id": "0526282e-c2c2-4443-80b4-f2ce194e12a5",
   "metadata": {},
   "outputs": [
    {
     "data": {
      "text/plain": [
       "array([ nan, 304., 240., 303.,  15., 241.,   8., 250., 115.,   5., 175.,\n",
       "       134., 156., 243., 242.,   3., 105.,  40., 147., 306., 184.,  96.,\n",
       "         2., 127.,  95., 146.,   9., 177.,   6., 143., 244., 149., 167.,\n",
       "       300., 171., 305.,  67., 196., 152., 142., 261., 104.,  36.,  26.,\n",
       "        29., 258., 110.,  71., 181.,  88., 251., 275.,  69., 248., 208.,\n",
       "       256., 314., 126., 281., 273., 253., 185., 330., 334., 328., 326.,\n",
       "       321., 324., 313.,  38., 155.,  68., 335., 308., 332.,  94., 348.,\n",
       "       310., 339., 375.,  66., 327., 387., 298.,  91., 245., 385., 257.,\n",
       "       393., 168., 405., 249., 315.,  75., 128., 307.,  11., 436.,   1.,\n",
       "       201., 183., 223., 368., 336., 291., 464., 411., 481.,  10., 154.,\n",
       "       468., 410., 390., 440., 495., 492., 493., 434.,  57., 531., 420.,\n",
       "       483., 526., 472., 429.,  16.,  34., 252., 270.,  47., 114., 301.,\n",
       "       193., 182., 135., 350., 195., 352., 355., 159., 139., 363., 384.,\n",
       "       360., 331., 367.,  64.,  78., 406., 163., 414., 333., 427., 431.,\n",
       "       430., 426., 438., 433., 418., 441., 282., 432.,  72., 450., 180.,\n",
       "       454., 455.,  59., 451., 254., 358., 469., 165., 467., 510., 337.,\n",
       "       476., 502., 527., 479., 508., 535., 302., 497., 187.,  13.,   7.,\n",
       "        27.,  14.,  22.,  17.,  28.,  42.,  20.,  19.,  45.,  37.,  61.,\n",
       "        39.,  21.,  24.,  41.,  50.,  30.,  54.,  52.,  12.,  44.,  31.,\n",
       "        83.,  32.,  63.,  60.,  55.,  56.,  89.,  87., 118.,  86.,  85.,\n",
       "       210., 214., 129., 179., 138., 174., 170., 153.,  93., 151., 119.,\n",
       "        35., 173.,  58.,  53., 133.,  79., 235., 192., 191., 236., 162.,\n",
       "       215., 157., 287., 132., 234.,  98.,  77., 103., 107., 262., 220.,\n",
       "       121., 205., 378.,  23., 296., 290., 229.,  33., 286., 276., 425.,\n",
       "       484., 323., 403., 219., 394., 509., 111., 423.,   4.,  70.,  82.,\n",
       "        81.,  74.,  92.,  99.,  90., 112., 117., 106., 148., 158., 144.,\n",
       "       211., 213., 216., 232., 150., 267., 227., 247., 278., 280., 285.,\n",
       "       289., 269., 295., 265., 288., 122., 294., 325., 341., 344., 346.,\n",
       "       359., 283., 364., 370., 371.,  25., 141., 391., 397., 416., 404.,\n",
       "       299., 197.,  73., 354., 444., 408., 461., 388., 453., 459., 474.,\n",
       "       475., 480., 449.])"
      ]
     },
     "execution_count": 15,
     "metadata": {},
     "output_type": "execute_result"
    }
   ],
   "source": [
    "# looking at the missing values in the agent column\n",
    "hotel[\"agent\"].unique()"
   ]
  },
  {
   "cell_type": "code",
   "execution_count": 16,
   "id": "e43afb67-98b3-4b5f-aeee-baa42c1354f2",
   "metadata": {},
   "outputs": [
    {
     "data": {
      "text/plain": [
       "array([  0., 304., 240., 303.,  15., 241.,   8., 250., 115.,   5., 175.,\n",
       "       134., 156., 243., 242.,   3., 105.,  40., 147., 306., 184.,  96.,\n",
       "         2., 127.,  95., 146.,   9., 177.,   6., 143., 244., 149., 167.,\n",
       "       300., 171., 305.,  67., 196., 152., 142., 261., 104.,  36.,  26.,\n",
       "        29., 258., 110.,  71., 181.,  88., 251., 275.,  69., 248., 208.,\n",
       "       256., 314., 126., 281., 273., 253., 185., 330., 334., 328., 326.,\n",
       "       321., 324., 313.,  38., 155.,  68., 335., 308., 332.,  94., 348.,\n",
       "       310., 339., 375.,  66., 327., 387., 298.,  91., 245., 385., 257.,\n",
       "       393., 168., 405., 249., 315.,  75., 128., 307.,  11., 436.,   1.,\n",
       "       201., 183., 223., 368., 336., 291., 464., 411., 481.,  10., 154.,\n",
       "       468., 410., 390., 440., 495., 492., 493., 434.,  57., 531., 420.,\n",
       "       483., 526., 472., 429.,  16.,  34., 252., 270.,  47., 114., 301.,\n",
       "       193., 182., 135., 350., 195., 352., 355., 159., 139., 363., 384.,\n",
       "       360., 331., 367.,  64.,  78., 406., 163., 414., 333., 427., 431.,\n",
       "       430., 426., 438., 433., 418., 441., 282., 432.,  72., 450., 180.,\n",
       "       454., 455.,  59., 451., 254., 358., 469., 165., 467., 510., 337.,\n",
       "       476., 502., 527., 479., 508., 535., 302., 497., 187.,  13.,   7.,\n",
       "        27.,  14.,  22.,  17.,  28.,  42.,  20.,  19.,  45.,  37.,  61.,\n",
       "        39.,  21.,  24.,  41.,  50.,  30.,  54.,  52.,  12.,  44.,  31.,\n",
       "        83.,  32.,  63.,  60.,  55.,  56.,  89.,  87., 118.,  86.,  85.,\n",
       "       210., 214., 129., 179., 138., 174., 170., 153.,  93., 151., 119.,\n",
       "        35., 173.,  58.,  53., 133.,  79., 235., 192., 191., 236., 162.,\n",
       "       215., 157., 287., 132., 234.,  98.,  77., 103., 107., 262., 220.,\n",
       "       121., 205., 378.,  23., 296., 290., 229.,  33., 286., 276., 425.,\n",
       "       484., 323., 403., 219., 394., 509., 111., 423.,   4.,  70.,  82.,\n",
       "        81.,  74.,  92.,  99.,  90., 112., 117., 106., 148., 158., 144.,\n",
       "       211., 213., 216., 232., 150., 267., 227., 247., 278., 280., 285.,\n",
       "       289., 269., 295., 265., 288., 122., 294., 325., 341., 344., 346.,\n",
       "       359., 283., 364., 370., 371.,  25., 141., 391., 397., 416., 404.,\n",
       "       299., 197.,  73., 354., 444., 408., 461., 388., 453., 459., 474.,\n",
       "       475., 480., 449.])"
      ]
     },
     "execution_count": 16,
     "metadata": {},
     "output_type": "execute_result"
    }
   ],
   "source": [
    "#Filling the missing values with 0 as a unique ID\n",
    "hotel[\"agent\"].fillna(0, inplace=True)\n",
    "\n",
    "#confirming that the agent nan values have been replaced with 0\n",
    "hotel[\"agent\"].unique()"
   ]
  },
  {
   "cell_type": "markdown",
   "id": "8e38bc2d-303b-4bfe-aa4e-841051d339fe",
   "metadata": {},
   "source": [
    "The nan values have been replaced with 0. 0 represents the clients that did not use an agent"
   ]
  },
  {
   "cell_type": "markdown",
   "id": "cd045d15-496e-43fc-9d96-958a74fb8133",
   "metadata": {},
   "source": [
    "## Handling company missing values"
   ]
  },
  {
   "cell_type": "code",
   "execution_count": 17,
   "id": "37eac3bf-2152-4349-94c6-b022d776dcfc",
   "metadata": {},
   "outputs": [
    {
     "data": {
      "text/plain": [
       "array([ nan, 110., 113., 270., 178., 240., 154., 144., 307., 268.,  59.,\n",
       "       204., 312., 318.,  94., 174., 274., 195., 223., 317., 281., 118.,\n",
       "        53., 286.,  12.,  47., 324., 342., 373., 371.,  86.,  82., 218.,\n",
       "        88.,  31., 397., 392., 405., 331., 367.,  20.,  83., 416.,  51.,\n",
       "       395., 102.,  34.,  84., 360., 394., 382., 461., 478., 112., 486.,\n",
       "       421.,   9., 308., 135., 224., 504., 269., 356., 498., 390., 513.,\n",
       "       203., 263., 477., 521., 169., 515., 445., 337., 251., 428., 292.,\n",
       "       388., 130., 250., 355., 254., 543., 531., 528., 120.,  81., 116.,\n",
       "       530., 103.,  62.,  39.,  16.,  61.,  92., 501., 291., 290., 192.,\n",
       "        43., 465., 287., 297., 207., 437., 165., 329., 272.,  28.,  77.,\n",
       "       482., 200.,  42., 338., 108.,  72., 246., 319., 146., 159., 380.,\n",
       "       323., 511., 407., 325., 278.,  80., 403., 399.,  14., 137., 343.,\n",
       "       346., 347., 349., 289., 351., 353.,  54.,  99., 358., 361., 362.,\n",
       "       366., 372., 365., 277., 109., 377., 379.,  22., 378., 330., 364.,\n",
       "       401., 232., 255., 384., 167., 212., 514., 391., 400., 376., 402.,\n",
       "       396., 302., 398., 225.,   6., 370., 369., 409., 168., 104., 408.,\n",
       "       413., 148.,  10., 333., 419., 415., 424., 425., 423., 422., 435.,\n",
       "       439., 442., 282., 448., 443., 454., 444.,  52., 459., 458., 456.,\n",
       "       460., 447., 470., 466., 484., 184., 485.,  32., 487., 491., 490.,\n",
       "       494., 193., 516., 496., 499.,  29.,  78., 520., 507., 506., 512.,\n",
       "       126.,  64., 242., 518., 523., 539., 534., 436., 525., 541.,  40.,\n",
       "       455., 410.,  45.,  38.,  49.,  48.,  67.,  68.,  65.,  91.,  37.,\n",
       "         8., 179., 209., 219., 221., 227., 153., 186., 253., 202., 216.,\n",
       "       275., 233., 280., 309., 321.,  93., 316.,  85., 107., 350., 334.,\n",
       "       348., 150.,  73., 385., 418., 197., 450., 452., 115.,  46.,  76.,\n",
       "        96., 100., 105., 101., 122.,  11., 139., 142., 127., 143., 140.,\n",
       "       149., 163., 160., 180., 238., 183., 222., 185., 217., 215., 213.,\n",
       "       237., 230., 234.,  35., 245., 158., 258., 259., 260., 411., 257.,\n",
       "       271.,  18., 106., 210., 273.,  71., 284., 301., 305., 293., 264.,\n",
       "       311., 304., 313., 288., 320., 314., 332., 341., 352., 243., 383.,\n",
       "       368., 393., 132., 220., 412., 420., 426., 417., 429., 433., 446.,\n",
       "       357., 479., 483., 489., 229., 481., 497., 451., 492.])"
      ]
     },
     "execution_count": 17,
     "metadata": {},
     "output_type": "execute_result"
    }
   ],
   "source": [
    "#The sum of the missing values\n",
    "hotel[\"company\"].unique()"
   ]
  },
  {
   "cell_type": "code",
   "execution_count": 18,
   "id": "ef7e2d1a-f802-4294-8850-47fc9819e1b0",
   "metadata": {},
   "outputs": [
    {
     "data": {
      "text/plain": [
       "6623"
      ]
     },
     "execution_count": 18,
     "metadata": {},
     "output_type": "execute_result"
    }
   ],
   "source": [
    "# Sum of all non-missing values in the company column\n",
    "sum_company = (~hotel[\"company\"].isna()).sum()\n",
    "sum_company"
   ]
  },
  {
   "cell_type": "code",
   "execution_count": 19,
   "id": "211a6874-5cfa-4f6e-8f1c-e943c6f52602",
   "metadata": {
    "scrolled": true
   },
   "outputs": [
    {
     "data": {
      "text/plain": [
       "112279"
      ]
     },
     "execution_count": 19,
     "metadata": {},
     "output_type": "execute_result"
    }
   ],
   "source": [
    "#The sum of the missing values\n",
    "sum_nan = hotel[\"company\"].isna().sum()\n",
    "sum_nan"
   ]
  },
  {
   "cell_type": "code",
   "execution_count": 20,
   "id": "1edba78c-042d-4d58-acf0-9571ce368dd5",
   "metadata": {},
   "outputs": [
    {
     "data": {
      "text/plain": [
       "118902"
      ]
     },
     "execution_count": 20,
     "metadata": {},
     "output_type": "execute_result"
    }
   ],
   "source": [
    "# Sum of all values in the company column\n",
    "total_company= sum_nan + sum_company\n",
    "total_company"
   ]
  },
  {
   "cell_type": "code",
   "execution_count": 21,
   "id": "01e3e9d4-e492-468c-bfef-39a25444dfc7",
   "metadata": {},
   "outputs": [
    {
     "name": "stdout",
     "output_type": "stream",
     "text": [
      "94.4299\n"
     ]
    }
   ],
   "source": [
    "#Looking at the percentage of the missing values\n",
    "perc_nan = sum_nan / total_company * 100\n",
    "print(round(perc_nan, 4))"
   ]
  },
  {
   "cell_type": "code",
   "execution_count": 22,
   "id": "67af0602-70dd-469f-801b-efc1b135792b",
   "metadata": {},
   "outputs": [
    {
     "data": {
      "text/plain": [
       "(118902, 35)"
      ]
     },
     "execution_count": 22,
     "metadata": {},
     "output_type": "execute_result"
    }
   ],
   "source": [
    "#Dropping the company column \n",
    "hotel.drop(\"company\", axis=1, inplace=True)\n",
    "hotel.shape"
   ]
  },
  {
   "cell_type": "markdown",
   "id": "58cbf3b1-1d7e-41db-9b25-943b5e63e784",
   "metadata": {},
   "source": [
    "We have dropped the company column because it has 94% of the missing values in the column\n",
    "\n",
    "We can see that our data now has 35 columns and 118,902 rows after the column company has been dropped"
   ]
  },
  {
   "cell_type": "markdown",
   "id": "20832045-f8ab-469d-883e-69e248340dd2",
   "metadata": {},
   "source": [
    "## Checking children missing values"
   ]
  },
  {
   "cell_type": "code",
   "execution_count": 23,
   "id": "1e259eee-3a52-41b1-92d4-ae5f69cef631",
   "metadata": {},
   "outputs": [],
   "source": [
    "# since children has 4 missing values we impute the median since it is least affected by outliers\n",
    "hotel['children'].fillna(value= hotel['children'].median(), inplace=True )"
   ]
  },
  {
   "cell_type": "code",
   "execution_count": 24,
   "id": "67b33926-db1f-45cb-8faf-0568ca5a5d07",
   "metadata": {},
   "outputs": [
    {
     "data": {
      "text/plain": [
       "hotel                             0\n",
       "is_canceled                       0\n",
       "lead_time                         0\n",
       "arrival_date_year                 0\n",
       "arrival_date_month                0\n",
       "arrival_date_week_number          0\n",
       "arrival_date_day_of_month         0\n",
       "stays_in_weekend_nights           0\n",
       "stays_in_week_nights              0\n",
       "adults                            0\n",
       "children                          0\n",
       "babies                            0\n",
       "meal                              0\n",
       "country                           0\n",
       "market_segment                    0\n",
       "distribution_channel              0\n",
       "is_repeated_guest                 0\n",
       "previous_cancellations            0\n",
       "previous_bookings_not_canceled    0\n",
       "reserved_room_type                0\n",
       "assigned_room_type                0\n",
       "booking_changes                   0\n",
       "deposit_type                      0\n",
       "agent                             0\n",
       "days_in_waiting_list              0\n",
       "customer_type                     0\n",
       "adr                               0\n",
       "required_car_parking_spaces       0\n",
       "total_of_special_requests         0\n",
       "reservation_status                0\n",
       "reservation_status_date           0\n",
       "name                              0\n",
       "email                             0\n",
       "phone-number                      0\n",
       "credit_card                       0\n",
       "dtype: int64"
      ]
     },
     "execution_count": 24,
     "metadata": {},
     "output_type": "execute_result"
    }
   ],
   "source": [
    "# Checking if there any missing values left\n",
    "hotel.isna().sum()"
   ]
  },
  {
   "cell_type": "markdown",
   "id": "ea09131e-0c64-459c-9b1b-5e40428fbefd",
   "metadata": {},
   "source": [
    "## Duplicates"
   ]
  },
  {
   "cell_type": "code",
   "execution_count": 25,
   "id": "05c23fbe-8071-4d13-a63c-282d4be9c301",
   "metadata": {},
   "outputs": [
    {
     "data": {
      "text/plain": [
       "0"
      ]
     },
     "execution_count": 25,
     "metadata": {},
     "output_type": "execute_result"
    }
   ],
   "source": [
    "#Looking for duplicates in the dataset\n",
    "hotel.duplicated().sum()"
   ]
  },
  {
   "cell_type": "markdown",
   "id": "22e78b24-405d-4ae5-abb9-34cf4cc92cd7",
   "metadata": {},
   "source": [
    "We have 0 duplicates in our dataset"
   ]
  },
  {
   "cell_type": "markdown",
   "id": "cfec1773-c472-41a3-a668-84ce5d7c2965",
   "metadata": {},
   "source": [
    "## Placeholders"
   ]
  },
  {
   "cell_type": "code",
   "execution_count": 26,
   "id": "b54b3f5d-bceb-41c4-80bc-bd739765c036",
   "metadata": {},
   "outputs": [
    {
     "name": "stdout",
     "output_type": "stream",
     "text": [
      "We have found place holders, '/' in column 'market_segment' \n",
      "We have found place holders, '/' in column 'distribution_channel' \n",
      "We have found place holders, '-' in column 'customer_type' \n",
      "We have found place holders, '-' in column 'reservation_status' \n",
      "We have found place holders, '-' in column 'reservation_status_date' \n",
      "We have found place holders, '@' in column 'email' \n",
      "We have found place holders, '_' in column 'email' \n",
      "We have found place holders, '-' in column 'phone-number' \n",
      "We have found place holders, '\\*' in column 'credit_card' \n"
     ]
    }
   ],
   "source": [
    "# checking for placeholders\n",
    "place_holder = ['\\\\#',',','/','-','@','\\\\*','_']\n",
    "\n",
    "# for loop to loop through the columns checking for any placeholder\n",
    "for placeholder in hotel.columns:\n",
    "    if hotel[placeholder].dtype == 'object':\n",
    "        for hold in place_holder:\n",
    "            if hotel[placeholder].str.contains(hold).any():\n",
    "                print(f\"We have found place holders, '{hold}' in column '{placeholder}' \")"
   ]
  },
  {
   "cell_type": "code",
   "execution_count": 27,
   "id": "6b8d1e4b-b048-4b33-837b-73fc10084bbb",
   "metadata": {},
   "outputs": [],
   "source": [
    "# removing placeholders that have been gotten\n",
    "rem_place_holders = {'market_segment':'/',\n",
    "                     'distribution_channel':'/',\n",
    "                     'customer_type':'-',\n",
    "                     'reservation_status': '-',\n",
    "                     'reservation_status_date':'-',\n",
    "                     'email':'@',\n",
    "                     'email':'_',\n",
    "                     'phone-number':'-',\n",
    "                     'credit_card':'\\\\*' }\n",
    "for placeholder, hold in rem_place_holders.items():\n",
    "    hotel[placeholder] = hotel[placeholder].str.replace(hold,'', regex = True)"
   ]
  },
  {
   "cell_type": "code",
   "execution_count": 28,
   "id": "7f210056-9cd1-441c-b7b4-ab420ad607ca",
   "metadata": {},
   "outputs": [
    {
     "name": "stdout",
     "output_type": "stream",
     "text": [
      "We have found place holders, '@' in column 'email' \n"
     ]
    }
   ],
   "source": [
    "for placeholder in hotel.columns:\n",
    "    if hotel[placeholder].dtype == 'object':\n",
    "        for hold in place_holder:\n",
    "            if hotel[placeholder].str.contains(hold).any():\n",
    "                print(f\"We have found place holders, '{hold}' in column '{placeholder}' \")"
   ]
  },
  {
   "cell_type": "code",
   "execution_count": 29,
   "id": "2d2c5977-e983-4b0c-bc51-16e70147dfce",
   "metadata": {},
   "outputs": [
    {
     "data": {
      "text/plain": [
       "0         Ernest.Barnes31outlook.com\n",
       "1               AndreaBaker94aol.com\n",
       "2           RebeccaParkercomcast.net\n",
       "3                    LauraMgmail.com\n",
       "4                  LHinesverizon.com\n",
       "                     ...            \n",
       "119385            Claudia.Jyahoo.com\n",
       "119386           WAguilarxfinity.com\n",
       "119387        MaryMoraleshotmail.com\n",
       "119388         MDCarolinecomcast.net\n",
       "119389            ArianaMxfinity.com\n",
       "Name: email, Length: 118902, dtype: object"
      ]
     },
     "execution_count": 29,
     "metadata": {},
     "output_type": "execute_result"
    }
   ],
   "source": [
    "# removing @ from email\n",
    "hotel['email']= hotel['email'].str.replace('@','')\n",
    "hotel['email']"
   ]
  },
  {
   "cell_type": "markdown",
   "id": "a2a518ca-7929-40b3-ad88-fcad6f9bc822",
   "metadata": {},
   "source": [
    "## Removing whitespace"
   ]
  },
  {
   "cell_type": "code",
   "execution_count": 30,
   "id": "f6f28814-b591-4381-af03-d4ca0d73dd08",
   "metadata": {},
   "outputs": [
    {
     "name": "stdout",
     "output_type": "stream",
     "text": [
      "Columns with whitespace: []\n"
     ]
    }
   ],
   "source": [
    "hotel_whitespace = [col for col in hotel.columns if col.strip() != col]\n",
    "print(\"Columns with whitespace:\", hotel_whitespace)"
   ]
  },
  {
   "cell_type": "markdown",
   "id": "5f37d0f8-6378-4cf8-916f-1ba7e8750972",
   "metadata": {},
   "source": [
    "## Outliers"
   ]
  },
  {
   "cell_type": "code",
   "execution_count": 31,
   "id": "6184646a-fd3a-4952-b3dd-75b14536bcd3",
   "metadata": {},
   "outputs": [
    {
     "data": {
      "text/plain": [
       "0           0.00\n",
       "1           0.00\n",
       "2          75.00\n",
       "3          75.00\n",
       "4          98.00\n",
       "           ...  \n",
       "119385     96.14\n",
       "119386    225.43\n",
       "119387    157.71\n",
       "119388    104.40\n",
       "119389    151.20\n",
       "Name: adr, Length: 118902, dtype: float64"
      ]
     },
     "execution_count": 31,
     "metadata": {},
     "output_type": "execute_result"
    }
   ],
   "source": [
    "hotel['adr']"
   ]
  },
  {
   "cell_type": "code",
   "execution_count": 32,
   "id": "60c1e911-0b16-4106-a34c-2f885746b407",
   "metadata": {},
   "outputs": [
    {
     "data": {
      "image/png": "[encoded data removed]",
      "text/plain": [
       "<Figure size 640x480 with 1 Axes>"
      ]
     },
     "metadata": {},
     "output_type": "display_data"
    }
   ],
   "source": [
    "sns.boxplot(x = hotel['adr'])\n",
    "plt.show()"
   ]
  },
  {
   "cell_type": "code",
   "execution_count": 33,
   "id": "e0166381-5eb1-49d4-998d-910bbb6f26f0",
   "metadata": {},
   "outputs": [
    {
     "data": {
      "image/png": "[encoded data removed]",
      "text/plain": [
       "<Figure size 640x480 with 1 Axes>"
      ]
     },
     "metadata": {},
     "output_type": "display_data"
    }
   ],
   "source": [
    "sns.boxplot(x = hotel['lead_time'])\n",
    "plt.show()"
   ]
  },
  {
   "cell_type": "markdown",
   "id": "e26b3cb0-d4c3-4948-970d-32463c17fd4b",
   "metadata": {},
   "source": [
    "Removing the outliers may affect the distribution of our dataset, affecting further data analysis relevant to predict hotel cancelation."
   ]
  },
  {
   "cell_type": "markdown",
   "id": "b5c46192-0406-43af-a3a6-ce18be6854ed",
   "metadata": {},
   "source": [
    "# 5. EDA"
   ]
  },
  {
   "cell_type": "code",
   "execution_count": null,
   "id": "8310b35a-11ee-44a1-a01f-b216e331fd30",
   "metadata": {},
   "outputs": [],
   "source": []
  },
  {
   "cell_type": "markdown",
   "id": "79dd6f74-6e4a-491b-b9a8-487b2607c235",
   "metadata": {},
   "source": [
    "## 5.2 Bivariate analysis"
   ]
  },
  {
   "cell_type": "markdown",
   "id": "922e833a-4bdb-4a56-8ca3-c623fcf92996",
   "metadata": {},
   "source": [
    "### 5.2.1 Market segment vs cancelled"
   ]
  },
  {
   "cell_type": "code",
   "execution_count": 36,
   "id": "cdd31eb1-1a26-483b-9bdb-a85e1b1bda63",
   "metadata": {},
   "outputs": [
    {
     "data": {
      "image/png": "[encoded data removed]",
      "text/plain": [
       "<Figure size 1000x600 with 1 Axes>"
      ]
     },
     "metadata": {},
     "output_type": "display_data"
    }
   ],
   "source": [
    "# filter data for Online TA and Offline TA customers\n",
    "on_offline_tato = hotel[hotel[\"market_segment\"].isin([\"Online TA\", \"Offline TATO\"])]\n",
    "\n",
    "# plotting the figure size\n",
    "plt.figure(figsize=(10, 6))\n",
    "\n",
    "# Count plot for cancellation status among Online TA and Offline TA customers\n",
    "sns.countplot(x = \"market_segment\", hue = \"is_canceled\", data = on_offline_tato, palette = {0: \"green\", 1: \"red\"})\n",
    "\n",
    "# labels\n",
    "plt.title(\"Cancellation Count for Online TA and Offline TA Customers\")\n",
    "plt.xlabel(\"Market Segment\")\n",
    "plt.ylabel(\"Count\")\n",
    "plt.legend(title = \"Cancellation Status\", labels = [\"Not Canceled\", \"Canceled\"])\n",
    "\n",
    "# display the visual\n",
    "plt.show()"
   ]
  },
  {
   "cell_type": "markdown",
   "id": "1574960e-33c6-4894-937f-1a6779bda0f4",
   "metadata": {},
   "source": [
    "This shows people who have cancelled or not cancelled are likely to do it online rather than offline.\n",
    "\n",
    "This makes sense since it is easier to do it remotely via the internet rather than physically to the hotel premises to cancel."
   ]
  },
  {
   "cell_type": "markdown",
   "id": "2c27ece2-d8b4-4e21-b991-fd030a9419b3",
   "metadata": {},
   "source": [
    "### 5.2.2 Customer type vs Cancelled"
   ]
  },
  {
   "cell_type": "code",
   "execution_count": 37,
   "id": "73997ed2-2cb9-46f6-ace3-97097537aa45",
   "metadata": {},
   "outputs": [
    {
     "data": {
      "image/png": "[encoded data removed]",
      "text/plain": [
       "<Figure size 1000x600 with 1 Axes>"
      ]
     },
     "metadata": {},
     "output_type": "display_data"
    }
   ],
   "source": [
    "# assigning independent and dependent variables\n",
    "x = hotel[\"customer_type\"]\n",
    "y = hotel[\"is_canceled\"]\n",
    "\n",
    "# plotting stacked bar graph\n",
    "stacked = pd.crosstab(x, y)\n",
    "stacked.plot(kind = \"bar\", stacked = True, figsize = (10, 6))\n",
    "\n",
    "# labels\n",
    "plt.title(\"Customer type vs Cancelled\")\n",
    "plt.xlabel(\"Customer type\")\n",
    "plt.ylabel(\"is_cancelled\")\n",
    "\n",
    "# rotating the x axis\n",
    "plt.xticks(rotation = 45)\n",
    "\n",
    "# display the visual\n",
    "plt.show()"
   ]
  },
  {
   "cell_type": "markdown",
   "id": "9831d160-4fca-49f6-9d20-13afa83dbc34",
   "metadata": {},
   "source": [
    "Transient customer types are more likely to cancel or not cancel than the rest.\n",
    "\n",
    "However, something which cuts across all of them is that cancellations (1) are less than the non-cancellations (0).\n",
    "\n",
    "That speaks volumes that most people prefer to continue with the service of a hotel rather than cancel it"
   ]
  },
  {
   "cell_type": "markdown",
   "id": "6d07f8c7-bccc-43cc-a13a-725acb5ea786",
   "metadata": {},
   "source": [
    "### 5.2.3 hotel vs cancelled"
   ]
  },
  {
   "cell_type": "code",
   "execution_count": 38,
   "id": "e1cf78a2-cd8d-4d48-82bf-77d5914120f1",
   "metadata": {},
   "outputs": [
    {
     "data": {
      "image/png": "[encoded data removed]",
      "text/plain": [
       "<Figure size 1000x600 with 1 Axes>"
      ]
     },
     "metadata": {},
     "output_type": "display_data"
    }
   ],
   "source": [
    "# looking at which hotels had the highest number of cancellations\n",
    "# plotting the figure size\n",
    "plt.figure(figsize = (10,6))\n",
    "\n",
    "# plotting the countplot\n",
    "ax = sns.barplot(x = \"hotel\", y = \"is_canceled\", data = hotel)\n",
    "plt.title(\"hotel against canceled\");"
   ]
  },
  {
   "cell_type": "markdown",
   "id": "3e073d49-a33f-4040-92cc-7bf607cce6f1",
   "metadata": {},
   "source": [
    "City hotels get more cancellations as compared to resort hotels."
   ]
  },
  {
   "cell_type": "markdown",
   "id": "58a68ea1-b97a-40ee-a8ca-3f79372450f5",
   "metadata": {},
   "source": [
    "## 5.3 Multivariate Analysis"
   ]
  },
  {
   "cell_type": "markdown",
   "id": "a21f47fa-e1e2-49cc-8def-25e647902d4a",
   "metadata": {},
   "source": [
    "### 5.3.1 Market Segment, Previous Bookings Not Canceled, Previous Cancellations"
   ]
  },
  {
   "cell_type": "code",
   "execution_count": 34,
   "id": "345be588-3c52-41bf-a32f-fb940a45aa51",
   "metadata": {},
   "outputs": [
    {
     "data": {
      "image/png": "[encoded data removed]",
      "text/plain": [
       "<Figure size 1200x800 with 1 Axes>"
      ]
     },
     "metadata": {},
     "output_type": "display_data"
    }
   ],
   "source": [
    "# Filter relevant columns\n",
    "loyalty_cancellation_data = hotel[['market_segment', 'previous_bookings_not_canceled', 'previous_cancellations']]\n",
    "\n",
    "# Define colors for each market segment\n",
    "# segment_colors = {'Corporate': '#1f77b4', 'Online TA': '#ff7f0e', 'Direct': '#2ca02c', 'Offline TA/TO': '#8c564b', \n",
    "#                   'Groups': '#9467bd', 'Complementary': '#d62728', 'Undefined': '#e377c2', 'Aviation': '#7f7f7f', 'Unknown': '#bcbd22'}\n",
    "segment_colors = {'Online TA': 'orange', 'Offline TATO': 'brown', 'Groups': 'purple', 'Corporate': 'blue', 'Direct': 'green', 'Undefined': 'pink', 'Aviation': 'gray', 'Complementary': 'red'}\n",
    "\n",
    "# Scatter plot for loyalty vs. cancellations\n",
    "plt.figure(figsize=(12, 8))\n",
    "sns.scatterplot(x='previous_bookings_not_canceled', y='previous_cancellations', hue='market_segment', data=loyalty_cancellation_data, palette=segment_colors, s=120)\n",
    "plt.title('Multivariate Analysis: Loyalty vs. Cancellations by Market Segment')\n",
    "plt.xlabel('Previous Bookings Not Canceled')\n",
    "plt.ylabel('Previous Cancellations')\n",
    "plt.legend(title='Market Segment', bbox_to_anchor=(1.05, 1), loc='upper left')\n",
    "plt.show()"
   ]
  },
  {
   "cell_type": "markdown",
   "id": "4f800fd5-0216-46e3-a7db-4d8235b1c72c",
   "metadata": {},
   "source": [
    "Upon visual inspection of the scatter plot, segments that cluster toward higher values on the x-axis and lower values on the y-axis suggest higher loyalty, indicating customers who consistently avoid cancellations.. Conversely, segments with scattered points across higher values on both axes may require focused efforts to mitigate cancellations. This analysis empowers hotels to implement segment-specific strategies, fostering loyalty and optimizing operational efficiency to meet the unique needs of each market segment."
   ]
  },
  {
   "cell_type": "markdown",
   "id": "c6548cdf-cf75-49c1-8064-8bbcc065eae9",
   "metadata": {},
   "source": [
    "### 5.3.2 Hotel Type, Weekend Nights, Week"
   ]
  },
  {
   "cell_type": "code",
   "execution_count": 35,
   "id": "274a1196-9d71-4bad-8b92-4cf509d354c6",
   "metadata": {},
   "outputs": [
    {
     "data": {
      "image/png": "[encoded data removed]",
      "text/plain": [
       "<Figure size 1200x800 with 1 Axes>"
      ]
     },
     "metadata": {},
     "output_type": "display_data"
    }
   ],
   "source": [
    "# Filter relevant columns\n",
    "hotel_traffic_data = hotel[['hotel', 'stays_in_weekend_nights', 'stays_in_week_nights']]\n",
    "\n",
    "# Scatter plot for weekend nights vs. week nights by hotel type\n",
    "plt.figure(figsize=(12, 8))\n",
    "sns.scatterplot(x='stays_in_weekend_nights', y='stays_in_week_nights', hue='hotel', data=hotel_traffic_data, palette='Set1', s=100)\n",
    "plt.title('Multivariate Analysis: Weekend vs. Week Nights by Hotel Type')\n",
    "plt.xlabel('Stays in Weekend Nights')\n",
    "plt.ylabel('Stays in Week Nights')\n",
    "plt.legend(title='Hotel Type', bbox_to_anchor=(1.05, 1), loc='upper left')\n",
    "plt.show()"
   ]
  },
  {
   "cell_type": "markdown",
   "id": "8b5e0851-cae2-4de5-8edd-cbba3a534487",
   "metadata": {},
   "source": [
    "City hotels show a concentration of stays during weekends, suggesting a preference for weekend getaways. This could be shaped by indicating an inclination towards stays oriented for leisure. Meanwhile resort hotels exhibit a more balanced distribution throughout the week yet it is noticable that they have higher stays during the weekdays. Why would this be the case? This might be attributed to the fact that resort hotels often cater to a mix of leisure and business travellers i.e business confrences,events and vactioneers seeking a quieter environment.The balanced distribution suggests that resort hotels successfully accommodate a diverse clientele, striking a harmonious balance between leisure and business-oriented stays. These findings empower hotel management with valuable information for operational planning and targeted marketing. It enables them to optimize staffing levels based on peak traffic days and tailor promotional strategies to attract guests during specific periods, contributing to enhanced guest satisfaction and operational efficiency."
   ]
  },
  {
   "cell_type": "markdown",
   "id": "9ee2b67b-8375-4190-a851-b74a50baf393",
   "metadata": {},
   "source": [
    "# 6. Data Preprocessing"
   ]
  },
  {
   "cell_type": "markdown",
   "id": "d0c1ea5c-1152-41bb-808e-6b78734ccf9d",
   "metadata": {},
   "source": [
    "# 7. Data Modelling"
   ]
  },
  {
   "cell_type": "markdown",
   "id": "da3ce54e-f4a1-4549-9370-8463ed7ae52c",
   "metadata": {},
   "source": [
    "# 8. Evaluation"
   ]
  },
  {
   "cell_type": "markdown",
   "id": "93179589-e32c-4055-b2ec-6b20b38acbe1",
   "metadata": {},
   "source": [
    "# 9. Recommendations"
   ]
  },
  {
   "cell_type": "markdown",
   "id": "8521682a-d92e-444a-bd7e-6024b025a0e1",
   "metadata": {},
   "source": [
    "# 10. Conclusions"
   ]
  },
  {
   "cell_type": "markdown",
   "id": "4eeff961-be6a-4dc6-9a56-57cb06f9de5b",
   "metadata": {},
   "source": [
    "# 11. Challenges"
   ]
  }
 ],
 "metadata": {
  "kernelspec": {
   "display_name": "Python (learn-env)",
   "language": "python",
   "name": "learn-env"
  },
  "language_info": {
   "codemirror_mode": {
    "name": "ipython",
    "version": 3
   },
   "file_extension": ".py",
   "mimetype": "text/x-python",
   "name": "python",
   "nbconvert_exporter": "python",
   "pygments_lexer": "ipython3",
   "version": "3.10.11"
  }
 },
 "nbformat": 4,
 "nbformat_minor": 5
}
