{
 "cells": [
  {
   "cell_type": "markdown",
   "id": "b171c3e9-1c25-48dd-864d-1d460a015e99",
   "metadata": {},
   "source": [
    "# HOTEL BOOKING AND CANCELLATION SYSTEM"
   ]
  },
  {
   "cell_type": "markdown",
   "id": "00afc4fe-9cb8-496b-b070-27c8d75a38a1",
   "metadata": {},
   "source": [
    "# Table of contents"
   ]
  },
  {
   "cell_type": "markdown",
   "id": "ecd53404-36a6-4dd7-b55d-ba48e2edfdc0",
   "metadata": {},
   "source": [
    "[1. Business Understanding](#1.-Business-Understanding) </br>\n",
    "[1.1 Business Description](#1.1-Business-Description) </br>\n",
    "[1.2 Problem Statement](#1.2-Problem-Statement) </br>\n",
    "[1.3 Main Objective](#1.3-Main-Objective) </br>\n",
    "[1.4 Specific Objectives](#1.4-Specific-Objectives) </br>\n",
    "[1.5 Research Questions](#1.5-Research-Questions)</br>\n",
    "[2.Data Description](#2.-Data-Description) </br>\n",
    "[3. Importing Libraries And Warnings](#3.-Importing-Libraries-And-Warnings) </br>\n",
    "[4. Data Understanding](#4.-Data-Understanding) </br>\n",
    "[4.1. Loading the data](#4.1-Loading-Data) </br>\n",
    "[5.Data Preparation](#5.-Data-Preparation) </br>\n",
    "[5.1.Checking for Missing Values](#5.1-Checking-for-Missing-Values)</br>\n",
    "[5.2 Handling missing values](#5.2-Handling-missing-values)</br>\n",
    "[5.3 Checking For Duplicates](#5.3-Checking-For-Duplicates)</br>\n",
    "[5.4 Checking For Placeholders](#5.4-Checking-For-Placeholders)</br>\n",
    "[5.5 Removing whitespace](#5.5-Removing-whitespace)</br>\n",
    "[5.6 Outliers](#5.6-Outliers)</br>\n",
    "[6. EDA](#6.-EDA) </br>\n",
    "[6.1 Univariate analysis](#6.1-Univariate-analysis)</br>\n",
    "[6.1.1 Market Segment](#6.1.1-Market-Segment)</br>\n",
    "[6.1.2 Repeated guests ](#6.1.2-Repeated-guests)</br>\n",
    "[6.1.3 Reservation status](#6.1.3-Reservation-status)</br>\n",
    "[6.1.4 Hotel](#6.1.4-Hotel)</br>\n",
    "[6.1.5 Cancelled](#6.1.5-Cancelled)</br>\n",
    "[6.1.6 Distribution Channel](#6.1.6-Distribution-Channel)</br>\n",
    "[6.1.7 Meal](#6.1.7-Meal)</br>\n",
    "[6.2 Bivariate analysis](#6.2-Bivariate-analysis)</br>\n",
    "[6.2.1 Market segment vs cancelled](#6.2.1-Market-segment-vs-cancelled)</br>\n",
    "[6.2.2 Customer type vs Cancelled](#6.2.2-Customer-type-vs-Cancelled)</br>\n",
    "[6.2.3 hotel vs cancelled](#6.2.3-hotel-vs-cancelled)</br>\n",
    "[6.3 Multivariate Analysis](#6.3-Multivariate-Analysis)</br>\n",
    "[6.3.1 Market Segment,Previous Bookings Not Canceled,Previous Cancellationss](#6.3.1-Market-Segment-Previous-Bookings-Not-Canceled-Previous-Cancellations)</br>\n",
    "[6.3.2 Hotel Type, Weekend Nights, Week](#6.3.2-Hotel-Type-Weekend-Nights-Week)</br>\n",
    "[7.Data Preprocessing](#7.Data-Preprocessing) </br>\n",
    "[7.1 Correlation matrix of the numerical columns](#7.1-Correlation-matrix-of-the-numerical-columns)</br>\n",
    "[7.2 Creating a 'total_guest' column](#7.2-Creating-a-'total_guest'-column)</br>\n",
    "[7.3 Creating a binary feature to represent special requests made](#7.3-Creating-a-binary-feature-to-represent-special-requests-made)</br>\n",
    "[7.4 Lead_time histogram](#7.4-Lead_time-histogram)</br>\n",
    "[7.5 Creating a binary feature to represent both assigned room type and reserved room type](#7.5-Creating-a-binary-feature-to-represent-both-assigned-room-type-and-reserved-room-type)</br>\n",
    "[7.6 Creating a single datetime column](#7.6-Creating-a-single-datetime-column)</br>\n",
    "[7.7 Creating a binary feature to represent involvement of an agent in booking](#7.7-Creating-a-binary-feature-to-represent-involvement-of-an-agent-in-booking) </br>\n",
    "[7.8 One-Hot encoding](#7.8-One-Hot-encoding) </br>\n",
    "[7.9 Performing train test split](#7.9-Performing-train-test-split) </br>\n",
    "[7.10 Class imbalance](#7.10-Class-imbalance) </br>\n",
    "[8.Data Modelling](#8.-Data-Modelling) </br>\n",
    "[8.1 Logistic Regression](#8.1-Logistic-Regression) </br>\n",
    "[8.2 Decision Trees](#8.2-Decision-Trees) </br>\n",
    "[8.3 KNN](#8.3-KNN) </br>\n",
    "[8.4 Random Forest](#8.4-Random-Forest) </br>\n",
    "[8.5 Gradient Boosting](#8.5-Gradient-Boosting) </br>\n",
    "[8.6 SVM](#8.6-SVM) </br>\n",
    "[8.7 Neural Networks](#8.7-Neural-Networks) </br>\n",
    "[9. Evaluation](#9.-Evaluation) </br>\n",
    "[10. Conclusions](#10.-Conclusions) </br>\n",
    "[11. Recommendations](#11.-Recommendations) "
   ]
  },
  {
   "cell_type": "markdown",
   "id": "3b5fe391-78cb-4539-9fc3-e2207b09abf4",
   "metadata": {},
   "source": [
    "# 1. Business Understanding"
   ]
  },
  {
   "cell_type": "markdown",
   "id": "c30f918b-4ee9-4e6d-bc48-1d252fe3e88d",
   "metadata": {},
   "source": [
    "## 1.1 Business Description"
   ]
  },
  {
   "cell_type": "markdown",
   "id": "31e75647-ae2b-4eda-94b5-0bb90098c4d6",
   "metadata": {},
   "source": [
    "Hotel booking entails the process through which guests are able to schedule dates and length of stay, room preference among other specifications in a hotel. Bookings can be done physically at the hotel premises, through an agent or online etc. Recently, City and Resort Hotels have been affected by high cancellation rates among other booking trends. As a result, this has led to low revenue generation in those facilities. Since the goal of every business entity is to make profit, the cancellation rates should be dealt with and maintained as low as possible. \n",
    "In this analysis we will address the factors which have highly contributed to high hotel cancellation rates and give recommendations to the hotel owners so that they can mitigate this risk better and earn more profit. The analysis will also be useful to the consumers of the hotel facilities and thus they will be in a position to know the ideal times of the year to book for the hotel rooms, the optimal stay length that offers them best rates etc.\n",
    "The aim of this project is to analyze the Hotels data and study cancellations and their underlying patterns in order to reduce them and secure revenue. \n"
   ]
  },
  {
   "cell_type": "markdown",
   "id": "07d306b3-f7b9-4a22-a788-da55739a91ad",
   "metadata": {},
   "source": [
    "## 1.2 Problem Statement"
   ]
  },
  {
   "cell_type": "markdown",
   "id": "9bd7be27-1a5c-49ae-ab7e-b7c0af22f0b7",
   "metadata": {},
   "source": [
    "The hotel industry is a vital component of the global tourism sector, serving millions of travelers each year. However, this dynamic and competitive industry faces numerous challenges that demand innovative solutions and strategic interventions. \n",
    "Hotel bookings have seen a substantial shift towards online reservations over the years, largely due to factors like the convenience offered by online platforms, the wide range of options available, and increased flexibility. Today, there are multiple methods for making hotel reservations. These include using booking agencies or directly contacting the hotels. </br>\n",
    "Our goal is to develop a predictive model capable of accurately identifying and forecasting hotel bookings and cancellations. This will be achieved through a comprehensive analysis of booking history, where we will consider factors such as: number of cancellations after reservation, number of reservations not canceled, travel agency used to make reservations, number of stays, market segmentation, whether corporate or travel agent, number of days in the waiting list , the average daily rate of the reservations, total number of special requests received, reservation status and arrival date.\n",
    "This predictive model will provide valuable insights into the analysis, helping us identify the seasonal trends and factors contributing to booking cancellations, such as waiting time, to ensure a more stable revenue stream. Furthermore, we shall explore opportunities for customizing loyalty programs based on customer preferences and behaviors, ultimately increasing repeat bookings.\n"
   ]
  },
  {
   "cell_type": "markdown",
   "id": "520c2774-d6b1-46ed-ac2e-0927c5cfa5a4",
   "metadata": {},
   "source": [
    "## 1.3 Main Objective"
   ]
  },
  {
   "cell_type": "markdown",
   "id": "7343338b-228e-403f-ac89-47b83869a93d",
   "metadata": {},
   "source": [
    "The model to be able to predict the hotel bookings and cancellations."
   ]
  },
  {
   "cell_type": "markdown",
   "id": "f3fe6ef5-bbfc-42f3-8fb5-fc1bc1eab6b2",
   "metadata": {},
   "source": [
    "## 1.4 Specific Objectives"
   ]
  },
  {
   "cell_type": "markdown",
   "id": "5b9f85c1-7daa-4e24-a71e-41ef0db8ac2e",
   "metadata": {},
   "source": [
    "1.Utilize exploratory data analysis (EDA) techniques to uncover trends and patterns in hotel bookings schedules, such as variations in checkout  and arrival times.This involves a nuanced exploration of individual variables through univariate analysis, understanding relationships between pairs in bivariate analysis and unraveling intricate interactions in multivariate analysis. </br>\n",
    "2. Identify key variables and factors contributing to the clients cancellations at the hotel. </br>\n",
    "3. Generate insights into which hotels are consistently being booked and having the most cancellations in terms of  various factors such as service and quality reliability. The ultimate aim is to enhance resource allocation, optimize booking strategies and improve guest experience. </br>\n",
    "4. Identify factors influencing repeat bookings and develop strategies to improve customer retention. </br>\n",
    "5. Evaluate the performance of booking agents to identify their impact on bookings and cancellations by customers."
   ]
  },
  {
   "cell_type": "markdown",
   "id": "75e4e87c-bd40-403e-a553-d47472d910c5",
   "metadata": {},
   "source": [
    "## 1.5 Research Questions"
   ]
  },
  {
   "cell_type": "markdown",
   "id": "c3248882-8b96-4c76-9d79-6cdfb571165a",
   "metadata": {},
   "source": [
    "What are the variables that affect hotel reservation  cancellation? </br>\n",
    "Where are the majority booking ? online or offline? </br>\n",
    "How can we assist the hotel in making their pricing and promotional decisions? </br>\n",
    "Why are most reservations made by agents offline? </br>\n",
    "Which distribution channels and market segments show the highest booking success rate? </br>\n",
    "How can booking strategies be optimized to minimize cancellations and maximize revenue? </br>\n",
    "What personalized services can be introduced to enhance guest experience? </br>\n",
    "What strategies can be implemented to improve collaboration with high-performing partners? </br>\n",
    "What are the key preferences and behaviors of repeated guests?"
   ]
  },
  {
   "cell_type": "markdown",
   "id": "5750995a-8d00-4f7a-a2cd-4e5e3bf75dc4",
   "metadata": {},
   "source": [
    "# 2. Data Description"
   ]
  },
  {
   "cell_type": "markdown",
   "id": "36cc5eb6-5722-44b4-8548-d78aab675709",
   "metadata": {},
   "source": [
    "Data Source: https://www.kaggle.com/datasets/sraddhanjalibarik/hotel-booking-data-set"
   ]
  },
  {
   "cell_type": "markdown",
   "id": "3c93bdde-8c21-4bf3-a968-a3530718c51d",
   "metadata": {},
   "source": [
    "hotel: Type of hotel (e.g., Resort Hotel, City Hotel). </br>\n",
    "is_canceled: Whether the booking was canceled (1 for canceled, 0 for not canceled).</br>\n",
    "lead_time: Number of days between booking and arrival.</br>\n",
    "arrival_date_year: Year of arrival.</br>\n",
    "arrival_date_month: Month of arrival.</br>\n",
    "arrival_date_week_number: Week number of arrival.</br>\n",
    "arrival_date_day_of_month: Day of the month of arrival.</br>\n",
    "stays_in_weekend_nights: Number of weekend nights (Saturday or Sunday) the guest stayed.</br>\n",
    "stays_in_week_nights: Number of weekday nights (Monday to Friday) the guest stayed.</br>\n",
    "adults, children, babies: Number of adults, children, and babies in the booking.</br>\n",
    "meal: Type of meal booked.</br>\n",
    "country: Country of origin of the guest.</br>\n",
    "market_segment: Market segment designation.</br>\n",
    "distribution_channel: Booking distribution channel.</br>\n",
    "is_repeated_guest: Whether the guest is a repeated guest (1 for repeated, 0 for not repeated).</br>\n",
    "previous_cancellations: Number of previous bookings that were canceled by the guest.</br>\n",
    "previous_bookings_not_canceled: Number of previous bookings that were not canceled by the guest.</br>\n",
    "reserved_room_type: Type of room reserved.</br>\n",
    "assigned_room_type: Type of room assigned.</br>\n",
    "booking_changes: Number of changes or modifications made to the booking.</br>\n",
    "deposit_type: Type of deposit made.</br>\n",
    "agent: ID of the travel agency that made the booking.</br>\n",
    "company: ID of the company associated with the booking.</br>\n",
    "days_in_waiting_list: Number of days the booking was in the waiting list.</br>\n",
    "customer_type: Type of booking customer.</br>\n",
    "adr: Average daily rate (an indicator of the rate paid for the room).</br>\n",
    "required_car_parking_spaces: Number of car parking spaces required.</br>\n",
    "total_of_special_requests: Total number of special requests made by the guest.</br>\n",
    "reservation_status: Status of the reservation (e.g., Check-Out, Canceled).</br>\n",
    "reservation_status_date: Date when the reservation status was last updated.</br>\n",
    "name: contains the names of the guests who made the hotel bookings.</br>\n",
    "email: contains the email addresses of guests.</br>\n",
    "phone-number: contains guest phone numbers.</br>\n",
    "credit_card: contains credit card information."
   ]
  },
  {
   "cell_type": "markdown",
   "id": "4fe3ab36-d038-4d4a-801c-435f38090a8d",
   "metadata": {},
   "source": [
    "# 3. Importing Libraries And Warnings"
   ]
  },
  {
   "cell_type": "code",
   "execution_count": 1,
   "id": "6b146c45-4417-461e-958e-00008db08408",
   "metadata": {},
   "outputs": [
    {
     "name": "stderr",
     "output_type": "stream",
     "text": [
      "2025-02-27 22:05:52.474763: E external/local_xla/xla/stream_executor/cuda/cuda_fft.cc:477] Unable to register cuFFT factory: Attempting to register factory for plugin cuFFT when one has already been registered\n",
      "WARNING: All log messages before absl::InitializeLog() is called are written to STDERR\n",
      "E0000 00:00:1740683153.095458   11877 cuda_dnn.cc:8310] Unable to register cuDNN factory: Attempting to register factory for plugin cuDNN when one has already been registered\n",
      "E0000 00:00:1740683153.433113   11877 cuda_blas.cc:1418] Unable to register cuBLAS factory: Attempting to register factory for plugin cuBLAS when one has already been registered\n",
      "2025-02-27 22:05:54.713501: I tensorflow/core/platform/cpu_feature_guard.cc:210] This TensorFlow binary is optimized to use available CPU instructions in performance-critical operations.\n",
      "To enable the following instructions: AVX2 FMA, in other operations, rebuild TensorFlow with the appropriate compiler flags.\n"
     ]
    }
   ],
   "source": [
    "import os\n",
    "import joblib\n",
    "import pickle\n",
    "import warnings\n",
    "import numpy as np\n",
    "import pandas as pd\n",
    "import mpl_toolkits\n",
    "import seaborn as sns\n",
    "from sklearn import metrics\n",
    "from sklearn.svm import SVC\n",
    "from tensorflow import keras\n",
    "from datetime import datetime\n",
    "from keras.layers import Dense\n",
    "import matplotlib.pyplot as plt\n",
    "warnings.filterwarnings(\"ignore\")\n",
    "from keras.models import Sequential\n",
    "from sklearn.decomposition import PCA\n",
    "from sklearn.pipeline import Pipeline\n",
    "from mpl_toolkits.mplot3d import Axes3D\n",
    "from imblearn.over_sampling import SMOTE\n",
    "from sklearn.dummy import DummyClassifier\n",
    "from sklearn.metrics import roc_curve, auc\n",
    "from keras import models, layers, optimizers\n",
    "from matplotlib.animation import FuncAnimation\n",
    "from sklearn.tree import DecisionTreeClassifier\n",
    "from sklearn.preprocessing import StandardScaler\n",
    "from sklearn.neighbors import KNeighborsClassifier\n",
    "from sklearn.linear_model import LogisticRegression\n",
    "from sklearn.ensemble import RandomForestClassifier, GradientBoostingClassifier\n",
    "from sklearn.model_selection import train_test_split, GridSearchCV, cross_val_score, RandomizedSearchCV, cross_validate\n",
    "from sklearn.metrics import classification_report, confusion_matrix, ConfusionMatrixDisplay, precision_score, recall_score, \\\n",
    "accuracy_score, f1_score, roc_curve, auc"
   ]
  },
  {
   "cell_type": "markdown",
   "id": "6265ea90-6710-40ec-ab25-c4b00f996c0f",
   "metadata": {},
   "source": [
    "# 4. Data Understanding"
   ]
  },
  {
   "cell_type": "markdown",
   "id": "0792b0e5-c416-4182-b2c7-235ca44ae230",
   "metadata": {},
   "source": [
    "## 4.1 Loading Data"
   ]
  },
  {
   "cell_type": "markdown",
   "id": "0498ff66-9ce0-4a95-a7e9-6652089d0523",
   "metadata": {},
   "source": [
    "We will load the 'Data/hotel_booking.csv' into 'hotel' variable and examine the datatypes . We will also generate the statistical summary of the numerical columns and look at the shape of our dataset, (119390,36)."
   ]
  },
  {
   "cell_type": "code",
   "execution_count": 2,
   "id": "c0103d9c-29ae-4ecf-bc64-016f4193d245",
   "metadata": {},
   "outputs": [
    {
     "data": {
      "text/html": [
       "<div>\n",
       "<style scoped>\n",
       "    .dataframe tbody tr th:only-of-type {\n",
       "        vertical-align: middle;\n",
       "    }\n",
       "\n",
       "    .dataframe tbody tr th {\n",
       "        vertical-align: top;\n",
       "    }\n",
       "\n",
       "    .dataframe thead th {\n",
       "        text-align: right;\n",
       "    }\n",
       "</style>\n",
       "<table border=\"1\" class=\"dataframe\">\n",
       "  <thead>\n",
       "    <tr style=\"text-align: right;\">\n",
       "      <th></th>\n",
       "      <th>hotel</th>\n",
       "      <th>is_canceled</th>\n",
       "      <th>lead_time</th>\n",
       "      <th>arrival_date_year</th>\n",
       "      <th>arrival_date_month</th>\n",
       "      <th>arrival_date_week_number</th>\n",
       "      <th>arrival_date_day_of_month</th>\n",
       "      <th>stays_in_weekend_nights</th>\n",
       "      <th>stays_in_week_nights</th>\n",
       "      <th>adults</th>\n",
       "      <th>...</th>\n",
       "      <th>customer_type</th>\n",
       "      <th>adr</th>\n",
       "      <th>required_car_parking_spaces</th>\n",
       "      <th>total_of_special_requests</th>\n",
       "      <th>reservation_status</th>\n",
       "      <th>reservation_status_date</th>\n",
       "      <th>name</th>\n",
       "      <th>email</th>\n",
       "      <th>phone-number</th>\n",
       "      <th>credit_card</th>\n",
       "    </tr>\n",
       "  </thead>\n",
       "  <tbody>\n",
       "    <tr>\n",
       "      <th>0</th>\n",
       "      <td>Resort Hotel</td>\n",
       "      <td>0</td>\n",
       "      <td>342</td>\n",
       "      <td>2015</td>\n",
       "      <td>July</td>\n",
       "      <td>27</td>\n",
       "      <td>1</td>\n",
       "      <td>0</td>\n",
       "      <td>0</td>\n",
       "      <td>2</td>\n",
       "      <td>...</td>\n",
       "      <td>Transient</td>\n",
       "      <td>0.00</td>\n",
       "      <td>0</td>\n",
       "      <td>0</td>\n",
       "      <td>Check-Out</td>\n",
       "      <td>2015-07-01</td>\n",
       "      <td>Ernest Barnes</td>\n",
       "      <td>Ernest.Barnes31@outlook.com</td>\n",
       "      <td>669-792-1661</td>\n",
       "      <td>************4322</td>\n",
       "    </tr>\n",
       "    <tr>\n",
       "      <th>1</th>\n",
       "      <td>Resort Hotel</td>\n",
       "      <td>0</td>\n",
       "      <td>737</td>\n",
       "      <td>2015</td>\n",
       "      <td>July</td>\n",
       "      <td>27</td>\n",
       "      <td>1</td>\n",
       "      <td>0</td>\n",
       "      <td>0</td>\n",
       "      <td>2</td>\n",
       "      <td>...</td>\n",
       "      <td>Transient</td>\n",
       "      <td>0.00</td>\n",
       "      <td>0</td>\n",
       "      <td>0</td>\n",
       "      <td>Check-Out</td>\n",
       "      <td>2015-07-01</td>\n",
       "      <td>Andrea Baker</td>\n",
       "      <td>Andrea_Baker94@aol.com</td>\n",
       "      <td>858-637-6955</td>\n",
       "      <td>************9157</td>\n",
       "    </tr>\n",
       "    <tr>\n",
       "      <th>2</th>\n",
       "      <td>Resort Hotel</td>\n",
       "      <td>0</td>\n",
       "      <td>7</td>\n",
       "      <td>2015</td>\n",
       "      <td>July</td>\n",
       "      <td>27</td>\n",
       "      <td>1</td>\n",
       "      <td>0</td>\n",
       "      <td>1</td>\n",
       "      <td>1</td>\n",
       "      <td>...</td>\n",
       "      <td>Transient</td>\n",
       "      <td>75.00</td>\n",
       "      <td>0</td>\n",
       "      <td>0</td>\n",
       "      <td>Check-Out</td>\n",
       "      <td>2015-07-02</td>\n",
       "      <td>Rebecca Parker</td>\n",
       "      <td>Rebecca_Parker@comcast.net</td>\n",
       "      <td>652-885-2745</td>\n",
       "      <td>************3734</td>\n",
       "    </tr>\n",
       "    <tr>\n",
       "      <th>3</th>\n",
       "      <td>Resort Hotel</td>\n",
       "      <td>0</td>\n",
       "      <td>13</td>\n",
       "      <td>2015</td>\n",
       "      <td>July</td>\n",
       "      <td>27</td>\n",
       "      <td>1</td>\n",
       "      <td>0</td>\n",
       "      <td>1</td>\n",
       "      <td>1</td>\n",
       "      <td>...</td>\n",
       "      <td>Transient</td>\n",
       "      <td>75.00</td>\n",
       "      <td>0</td>\n",
       "      <td>0</td>\n",
       "      <td>Check-Out</td>\n",
       "      <td>2015-07-02</td>\n",
       "      <td>Laura Murray</td>\n",
       "      <td>Laura_M@gmail.com</td>\n",
       "      <td>364-656-8427</td>\n",
       "      <td>************5677</td>\n",
       "    </tr>\n",
       "    <tr>\n",
       "      <th>4</th>\n",
       "      <td>Resort Hotel</td>\n",
       "      <td>0</td>\n",
       "      <td>14</td>\n",
       "      <td>2015</td>\n",
       "      <td>July</td>\n",
       "      <td>27</td>\n",
       "      <td>1</td>\n",
       "      <td>0</td>\n",
       "      <td>2</td>\n",
       "      <td>2</td>\n",
       "      <td>...</td>\n",
       "      <td>Transient</td>\n",
       "      <td>98.00</td>\n",
       "      <td>0</td>\n",
       "      <td>1</td>\n",
       "      <td>Check-Out</td>\n",
       "      <td>2015-07-03</td>\n",
       "      <td>Linda Hines</td>\n",
       "      <td>LHines@verizon.com</td>\n",
       "      <td>713-226-5883</td>\n",
       "      <td>************5498</td>\n",
       "    </tr>\n",
       "    <tr>\n",
       "      <th>...</th>\n",
       "      <td>...</td>\n",
       "      <td>...</td>\n",
       "      <td>...</td>\n",
       "      <td>...</td>\n",
       "      <td>...</td>\n",
       "      <td>...</td>\n",
       "      <td>...</td>\n",
       "      <td>...</td>\n",
       "      <td>...</td>\n",
       "      <td>...</td>\n",
       "      <td>...</td>\n",
       "      <td>...</td>\n",
       "      <td>...</td>\n",
       "      <td>...</td>\n",
       "      <td>...</td>\n",
       "      <td>...</td>\n",
       "      <td>...</td>\n",
       "      <td>...</td>\n",
       "      <td>...</td>\n",
       "      <td>...</td>\n",
       "      <td>...</td>\n",
       "    </tr>\n",
       "    <tr>\n",
       "      <th>119385</th>\n",
       "      <td>City Hotel</td>\n",
       "      <td>0</td>\n",
       "      <td>23</td>\n",
       "      <td>2017</td>\n",
       "      <td>August</td>\n",
       "      <td>35</td>\n",
       "      <td>30</td>\n",
       "      <td>2</td>\n",
       "      <td>5</td>\n",
       "      <td>2</td>\n",
       "      <td>...</td>\n",
       "      <td>Transient</td>\n",
       "      <td>96.14</td>\n",
       "      <td>0</td>\n",
       "      <td>0</td>\n",
       "      <td>Check-Out</td>\n",
       "      <td>2017-09-06</td>\n",
       "      <td>Claudia Johnson</td>\n",
       "      <td>Claudia.J@yahoo.com</td>\n",
       "      <td>403-092-5582</td>\n",
       "      <td>************8647</td>\n",
       "    </tr>\n",
       "    <tr>\n",
       "      <th>119386</th>\n",
       "      <td>City Hotel</td>\n",
       "      <td>0</td>\n",
       "      <td>102</td>\n",
       "      <td>2017</td>\n",
       "      <td>August</td>\n",
       "      <td>35</td>\n",
       "      <td>31</td>\n",
       "      <td>2</td>\n",
       "      <td>5</td>\n",
       "      <td>3</td>\n",
       "      <td>...</td>\n",
       "      <td>Transient</td>\n",
       "      <td>225.43</td>\n",
       "      <td>0</td>\n",
       "      <td>2</td>\n",
       "      <td>Check-Out</td>\n",
       "      <td>2017-09-07</td>\n",
       "      <td>Wesley Aguilar</td>\n",
       "      <td>WAguilar@xfinity.com</td>\n",
       "      <td>238-763-0612</td>\n",
       "      <td>************4333</td>\n",
       "    </tr>\n",
       "    <tr>\n",
       "      <th>119387</th>\n",
       "      <td>City Hotel</td>\n",
       "      <td>0</td>\n",
       "      <td>34</td>\n",
       "      <td>2017</td>\n",
       "      <td>August</td>\n",
       "      <td>35</td>\n",
       "      <td>31</td>\n",
       "      <td>2</td>\n",
       "      <td>5</td>\n",
       "      <td>2</td>\n",
       "      <td>...</td>\n",
       "      <td>Transient</td>\n",
       "      <td>157.71</td>\n",
       "      <td>0</td>\n",
       "      <td>4</td>\n",
       "      <td>Check-Out</td>\n",
       "      <td>2017-09-07</td>\n",
       "      <td>Mary Morales</td>\n",
       "      <td>Mary_Morales@hotmail.com</td>\n",
       "      <td>395-518-4100</td>\n",
       "      <td>************1821</td>\n",
       "    </tr>\n",
       "    <tr>\n",
       "      <th>119388</th>\n",
       "      <td>City Hotel</td>\n",
       "      <td>0</td>\n",
       "      <td>109</td>\n",
       "      <td>2017</td>\n",
       "      <td>August</td>\n",
       "      <td>35</td>\n",
       "      <td>31</td>\n",
       "      <td>2</td>\n",
       "      <td>5</td>\n",
       "      <td>2</td>\n",
       "      <td>...</td>\n",
       "      <td>Transient</td>\n",
       "      <td>104.40</td>\n",
       "      <td>0</td>\n",
       "      <td>0</td>\n",
       "      <td>Check-Out</td>\n",
       "      <td>2017-09-07</td>\n",
       "      <td>Caroline Conley MD</td>\n",
       "      <td>MD_Caroline@comcast.net</td>\n",
       "      <td>531-528-1017</td>\n",
       "      <td>************7860</td>\n",
       "    </tr>\n",
       "    <tr>\n",
       "      <th>119389</th>\n",
       "      <td>City Hotel</td>\n",
       "      <td>0</td>\n",
       "      <td>205</td>\n",
       "      <td>2017</td>\n",
       "      <td>August</td>\n",
       "      <td>35</td>\n",
       "      <td>29</td>\n",
       "      <td>2</td>\n",
       "      <td>7</td>\n",
       "      <td>2</td>\n",
       "      <td>...</td>\n",
       "      <td>Transient</td>\n",
       "      <td>151.20</td>\n",
       "      <td>0</td>\n",
       "      <td>2</td>\n",
       "      <td>Check-Out</td>\n",
       "      <td>2017-09-07</td>\n",
       "      <td>Ariana Michael</td>\n",
       "      <td>Ariana_M@xfinity.com</td>\n",
       "      <td>422-804-6403</td>\n",
       "      <td>************4482</td>\n",
       "    </tr>\n",
       "  </tbody>\n",
       "</table>\n",
       "<p>119390 rows × 36 columns</p>\n",
       "</div>"
      ],
      "text/plain": [
       "               hotel  is_canceled  lead_time  arrival_date_year  \\\n",
       "0       Resort Hotel            0        342               2015   \n",
       "1       Resort Hotel            0        737               2015   \n",
       "2       Resort Hotel            0          7               2015   \n",
       "3       Resort Hotel            0         13               2015   \n",
       "4       Resort Hotel            0         14               2015   \n",
       "...              ...          ...        ...                ...   \n",
       "119385    City Hotel            0         23               2017   \n",
       "119386    City Hotel            0        102               2017   \n",
       "119387    City Hotel            0         34               2017   \n",
       "119388    City Hotel            0        109               2017   \n",
       "119389    City Hotel            0        205               2017   \n",
       "\n",
       "       arrival_date_month  arrival_date_week_number  \\\n",
       "0                    July                        27   \n",
       "1                    July                        27   \n",
       "2                    July                        27   \n",
       "3                    July                        27   \n",
       "4                    July                        27   \n",
       "...                   ...                       ...   \n",
       "119385             August                        35   \n",
       "119386             August                        35   \n",
       "119387             August                        35   \n",
       "119388             August                        35   \n",
       "119389             August                        35   \n",
       "\n",
       "        arrival_date_day_of_month  stays_in_weekend_nights  \\\n",
       "0                               1                        0   \n",
       "1                               1                        0   \n",
       "2                               1                        0   \n",
       "3                               1                        0   \n",
       "4                               1                        0   \n",
       "...                           ...                      ...   \n",
       "119385                         30                        2   \n",
       "119386                         31                        2   \n",
       "119387                         31                        2   \n",
       "119388                         31                        2   \n",
       "119389                         29                        2   \n",
       "\n",
       "        stays_in_week_nights  adults  ...  customer_type     adr  \\\n",
       "0                          0       2  ...      Transient    0.00   \n",
       "1                          0       2  ...      Transient    0.00   \n",
       "2                          1       1  ...      Transient   75.00   \n",
       "3                          1       1  ...      Transient   75.00   \n",
       "4                          2       2  ...      Transient   98.00   \n",
       "...                      ...     ...  ...            ...     ...   \n",
       "119385                     5       2  ...      Transient   96.14   \n",
       "119386                     5       3  ...      Transient  225.43   \n",
       "119387                     5       2  ...      Transient  157.71   \n",
       "119388                     5       2  ...      Transient  104.40   \n",
       "119389                     7       2  ...      Transient  151.20   \n",
       "\n",
       "       required_car_parking_spaces total_of_special_requests  \\\n",
       "0                                0                         0   \n",
       "1                                0                         0   \n",
       "2                                0                         0   \n",
       "3                                0                         0   \n",
       "4                                0                         1   \n",
       "...                            ...                       ...   \n",
       "119385                           0                         0   \n",
       "119386                           0                         2   \n",
       "119387                           0                         4   \n",
       "119388                           0                         0   \n",
       "119389                           0                         2   \n",
       "\n",
       "       reservation_status reservation_status_date                name  \\\n",
       "0               Check-Out              2015-07-01       Ernest Barnes   \n",
       "1               Check-Out              2015-07-01        Andrea Baker   \n",
       "2               Check-Out              2015-07-02      Rebecca Parker   \n",
       "3               Check-Out              2015-07-02        Laura Murray   \n",
       "4               Check-Out              2015-07-03         Linda Hines   \n",
       "...                   ...                     ...                 ...   \n",
       "119385          Check-Out              2017-09-06     Claudia Johnson   \n",
       "119386          Check-Out              2017-09-07      Wesley Aguilar   \n",
       "119387          Check-Out              2017-09-07        Mary Morales   \n",
       "119388          Check-Out              2017-09-07  Caroline Conley MD   \n",
       "119389          Check-Out              2017-09-07      Ariana Michael   \n",
       "\n",
       "                              email  phone-number       credit_card  \n",
       "0       Ernest.Barnes31@outlook.com  669-792-1661  ************4322  \n",
       "1            Andrea_Baker94@aol.com  858-637-6955  ************9157  \n",
       "2        Rebecca_Parker@comcast.net  652-885-2745  ************3734  \n",
       "3                 Laura_M@gmail.com  364-656-8427  ************5677  \n",
       "4                LHines@verizon.com  713-226-5883  ************5498  \n",
       "...                             ...           ...               ...  \n",
       "119385          Claudia.J@yahoo.com  403-092-5582  ************8647  \n",
       "119386         WAguilar@xfinity.com  238-763-0612  ************4333  \n",
       "119387     Mary_Morales@hotmail.com  395-518-4100  ************1821  \n",
       "119388      MD_Caroline@comcast.net  531-528-1017  ************7860  \n",
       "119389         Ariana_M@xfinity.com  422-804-6403  ************4482  \n",
       "\n",
       "[119390 rows x 36 columns]"
      ]
     },
     "execution_count": 2,
     "metadata": {},
     "output_type": "execute_result"
    }
   ],
   "source": [
    "# loading our dataset and assigning it to a variable hotel\n",
    "hotel = pd.read_csv(\"data/hotel_booking.csv\")\n",
    "hotel"
   ]
  },
  {
   "cell_type": "code",
   "execution_count": 3,
   "id": "e6226ceb-9fb2-46ce-a53f-91e585fffc25",
   "metadata": {},
   "outputs": [
    {
     "name": "stdout",
     "output_type": "stream",
     "text": [
      "<class 'pandas.core.frame.DataFrame'>\n",
      "RangeIndex: 119390 entries, 0 to 119389\n",
      "Data columns (total 36 columns):\n",
      " #   Column                          Non-Null Count   Dtype  \n",
      "---  ------                          --------------   -----  \n",
      " 0   hotel                           119390 non-null  object \n",
      " 1   is_canceled                     119390 non-null  int64  \n",
      " 2   lead_time                       119390 non-null  int64  \n",
      " 3   arrival_date_year               119390 non-null  int64  \n",
      " 4   arrival_date_month              119390 non-null  object \n",
      " 5   arrival_date_week_number        119390 non-null  int64  \n",
      " 6   arrival_date_day_of_month       119390 non-null  int64  \n",
      " 7   stays_in_weekend_nights         119390 non-null  int64  \n",
      " 8   stays_in_week_nights            119390 non-null  int64  \n",
      " 9   adults                          119390 non-null  int64  \n",
      " 10  children                        119386 non-null  float64\n",
      " 11  babies                          119390 non-null  int64  \n",
      " 12  meal                            119390 non-null  object \n",
      " 13  country                         118902 non-null  object \n",
      " 14  market_segment                  119390 non-null  object \n",
      " 15  distribution_channel            119390 non-null  object \n",
      " 16  is_repeated_guest               119390 non-null  int64  \n",
      " 17  previous_cancellations          119390 non-null  int64  \n",
      " 18  previous_bookings_not_canceled  119390 non-null  int64  \n",
      " 19  reserved_room_type              119390 non-null  object \n",
      " 20  assigned_room_type              119390 non-null  object \n",
      " 21  booking_changes                 119390 non-null  int64  \n",
      " 22  deposit_type                    119390 non-null  object \n",
      " 23  agent                           103050 non-null  float64\n",
      " 24  company                         6797 non-null    float64\n",
      " 25  days_in_waiting_list            119390 non-null  int64  \n",
      " 26  customer_type                   119390 non-null  object \n",
      " 27  adr                             119390 non-null  float64\n",
      " 28  required_car_parking_spaces     119390 non-null  int64  \n",
      " 29  total_of_special_requests       119390 non-null  int64  \n",
      " 30  reservation_status              119390 non-null  object \n",
      " 31  reservation_status_date         119390 non-null  object \n",
      " 32  name                            119390 non-null  object \n",
      " 33  email                           119390 non-null  object \n",
      " 34  phone-number                    119390 non-null  object \n",
      " 35  credit_card                     119390 non-null  object \n",
      "dtypes: float64(4), int64(16), object(16)\n",
      "memory usage: 32.8+ MB\n"
     ]
    }
   ],
   "source": [
    "#Looking at each columns datatypes\n",
    "hotel.info()"
   ]
  },
  {
   "cell_type": "code",
   "execution_count": 4,
   "id": "07c63729-bda8-4226-8dbc-01c8f0f5b186",
   "metadata": {},
   "outputs": [
    {
     "data": {
      "text/html": [
       "<div>\n",
       "<style scoped>\n",
       "    .dataframe tbody tr th:only-of-type {\n",
       "        vertical-align: middle;\n",
       "    }\n",
       "\n",
       "    .dataframe tbody tr th {\n",
       "        vertical-align: top;\n",
       "    }\n",
       "\n",
       "    .dataframe thead th {\n",
       "        text-align: right;\n",
       "    }\n",
       "</style>\n",
       "<table border=\"1\" class=\"dataframe\">\n",
       "  <thead>\n",
       "    <tr style=\"text-align: right;\">\n",
       "      <th></th>\n",
       "      <th>is_canceled</th>\n",
       "      <th>lead_time</th>\n",
       "      <th>arrival_date_year</th>\n",
       "      <th>arrival_date_week_number</th>\n",
       "      <th>arrival_date_day_of_month</th>\n",
       "      <th>stays_in_weekend_nights</th>\n",
       "      <th>stays_in_week_nights</th>\n",
       "      <th>adults</th>\n",
       "      <th>children</th>\n",
       "      <th>babies</th>\n",
       "      <th>is_repeated_guest</th>\n",
       "      <th>previous_cancellations</th>\n",
       "      <th>previous_bookings_not_canceled</th>\n",
       "      <th>booking_changes</th>\n",
       "      <th>agent</th>\n",
       "      <th>company</th>\n",
       "      <th>days_in_waiting_list</th>\n",
       "      <th>adr</th>\n",
       "      <th>required_car_parking_spaces</th>\n",
       "      <th>total_of_special_requests</th>\n",
       "    </tr>\n",
       "  </thead>\n",
       "  <tbody>\n",
       "    <tr>\n",
       "      <th>count</th>\n",
       "      <td>119390.000000</td>\n",
       "      <td>119390.000000</td>\n",
       "      <td>119390.000000</td>\n",
       "      <td>119390.000000</td>\n",
       "      <td>119390.000000</td>\n",
       "      <td>119390.000000</td>\n",
       "      <td>119390.000000</td>\n",
       "      <td>119390.000000</td>\n",
       "      <td>119386.000000</td>\n",
       "      <td>119390.000000</td>\n",
       "      <td>119390.000000</td>\n",
       "      <td>119390.000000</td>\n",
       "      <td>119390.000000</td>\n",
       "      <td>119390.000000</td>\n",
       "      <td>103050.000000</td>\n",
       "      <td>6797.000000</td>\n",
       "      <td>119390.000000</td>\n",
       "      <td>119390.000000</td>\n",
       "      <td>119390.000000</td>\n",
       "      <td>119390.000000</td>\n",
       "    </tr>\n",
       "    <tr>\n",
       "      <th>mean</th>\n",
       "      <td>0.370416</td>\n",
       "      <td>104.011416</td>\n",
       "      <td>2016.156554</td>\n",
       "      <td>27.165173</td>\n",
       "      <td>15.798241</td>\n",
       "      <td>0.927599</td>\n",
       "      <td>2.500302</td>\n",
       "      <td>1.856403</td>\n",
       "      <td>0.103890</td>\n",
       "      <td>0.007949</td>\n",
       "      <td>0.031912</td>\n",
       "      <td>0.087118</td>\n",
       "      <td>0.137097</td>\n",
       "      <td>0.221124</td>\n",
       "      <td>86.693382</td>\n",
       "      <td>189.266735</td>\n",
       "      <td>2.321149</td>\n",
       "      <td>101.831122</td>\n",
       "      <td>0.062518</td>\n",
       "      <td>0.571363</td>\n",
       "    </tr>\n",
       "    <tr>\n",
       "      <th>std</th>\n",
       "      <td>0.482918</td>\n",
       "      <td>106.863097</td>\n",
       "      <td>0.707476</td>\n",
       "      <td>13.605138</td>\n",
       "      <td>8.780829</td>\n",
       "      <td>0.998613</td>\n",
       "      <td>1.908286</td>\n",
       "      <td>0.579261</td>\n",
       "      <td>0.398561</td>\n",
       "      <td>0.097436</td>\n",
       "      <td>0.175767</td>\n",
       "      <td>0.844336</td>\n",
       "      <td>1.497437</td>\n",
       "      <td>0.652306</td>\n",
       "      <td>110.774548</td>\n",
       "      <td>131.655015</td>\n",
       "      <td>17.594721</td>\n",
       "      <td>50.535790</td>\n",
       "      <td>0.245291</td>\n",
       "      <td>0.792798</td>\n",
       "    </tr>\n",
       "    <tr>\n",
       "      <th>min</th>\n",
       "      <td>0.000000</td>\n",
       "      <td>0.000000</td>\n",
       "      <td>2015.000000</td>\n",
       "      <td>1.000000</td>\n",
       "      <td>1.000000</td>\n",
       "      <td>0.000000</td>\n",
       "      <td>0.000000</td>\n",
       "      <td>0.000000</td>\n",
       "      <td>0.000000</td>\n",
       "      <td>0.000000</td>\n",
       "      <td>0.000000</td>\n",
       "      <td>0.000000</td>\n",
       "      <td>0.000000</td>\n",
       "      <td>0.000000</td>\n",
       "      <td>1.000000</td>\n",
       "      <td>6.000000</td>\n",
       "      <td>0.000000</td>\n",
       "      <td>-6.380000</td>\n",
       "      <td>0.000000</td>\n",
       "      <td>0.000000</td>\n",
       "    </tr>\n",
       "    <tr>\n",
       "      <th>25%</th>\n",
       "      <td>0.000000</td>\n",
       "      <td>18.000000</td>\n",
       "      <td>2016.000000</td>\n",
       "      <td>16.000000</td>\n",
       "      <td>8.000000</td>\n",
       "      <td>0.000000</td>\n",
       "      <td>1.000000</td>\n",
       "      <td>2.000000</td>\n",
       "      <td>0.000000</td>\n",
       "      <td>0.000000</td>\n",
       "      <td>0.000000</td>\n",
       "      <td>0.000000</td>\n",
       "      <td>0.000000</td>\n",
       "      <td>0.000000</td>\n",
       "      <td>9.000000</td>\n",
       "      <td>62.000000</td>\n",
       "      <td>0.000000</td>\n",
       "      <td>69.290000</td>\n",
       "      <td>0.000000</td>\n",
       "      <td>0.000000</td>\n",
       "    </tr>\n",
       "    <tr>\n",
       "      <th>50%</th>\n",
       "      <td>0.000000</td>\n",
       "      <td>69.000000</td>\n",
       "      <td>2016.000000</td>\n",
       "      <td>28.000000</td>\n",
       "      <td>16.000000</td>\n",
       "      <td>1.000000</td>\n",
       "      <td>2.000000</td>\n",
       "      <td>2.000000</td>\n",
       "      <td>0.000000</td>\n",
       "      <td>0.000000</td>\n",
       "      <td>0.000000</td>\n",
       "      <td>0.000000</td>\n",
       "      <td>0.000000</td>\n",
       "      <td>0.000000</td>\n",
       "      <td>14.000000</td>\n",
       "      <td>179.000000</td>\n",
       "      <td>0.000000</td>\n",
       "      <td>94.575000</td>\n",
       "      <td>0.000000</td>\n",
       "      <td>0.000000</td>\n",
       "    </tr>\n",
       "    <tr>\n",
       "      <th>75%</th>\n",
       "      <td>1.000000</td>\n",
       "      <td>160.000000</td>\n",
       "      <td>2017.000000</td>\n",
       "      <td>38.000000</td>\n",
       "      <td>23.000000</td>\n",
       "      <td>2.000000</td>\n",
       "      <td>3.000000</td>\n",
       "      <td>2.000000</td>\n",
       "      <td>0.000000</td>\n",
       "      <td>0.000000</td>\n",
       "      <td>0.000000</td>\n",
       "      <td>0.000000</td>\n",
       "      <td>0.000000</td>\n",
       "      <td>0.000000</td>\n",
       "      <td>229.000000</td>\n",
       "      <td>270.000000</td>\n",
       "      <td>0.000000</td>\n",
       "      <td>126.000000</td>\n",
       "      <td>0.000000</td>\n",
       "      <td>1.000000</td>\n",
       "    </tr>\n",
       "    <tr>\n",
       "      <th>max</th>\n",
       "      <td>1.000000</td>\n",
       "      <td>737.000000</td>\n",
       "      <td>2017.000000</td>\n",
       "      <td>53.000000</td>\n",
       "      <td>31.000000</td>\n",
       "      <td>19.000000</td>\n",
       "      <td>50.000000</td>\n",
       "      <td>55.000000</td>\n",
       "      <td>10.000000</td>\n",
       "      <td>10.000000</td>\n",
       "      <td>1.000000</td>\n",
       "      <td>26.000000</td>\n",
       "      <td>72.000000</td>\n",
       "      <td>21.000000</td>\n",
       "      <td>535.000000</td>\n",
       "      <td>543.000000</td>\n",
       "      <td>391.000000</td>\n",
       "      <td>5400.000000</td>\n",
       "      <td>8.000000</td>\n",
       "      <td>5.000000</td>\n",
       "    </tr>\n",
       "  </tbody>\n",
       "</table>\n",
       "</div>"
      ],
      "text/plain": [
       "         is_canceled      lead_time  arrival_date_year  \\\n",
       "count  119390.000000  119390.000000      119390.000000   \n",
       "mean        0.370416     104.011416        2016.156554   \n",
       "std         0.482918     106.863097           0.707476   \n",
       "min         0.000000       0.000000        2015.000000   \n",
       "25%         0.000000      18.000000        2016.000000   \n",
       "50%         0.000000      69.000000        2016.000000   \n",
       "75%         1.000000     160.000000        2017.000000   \n",
       "max         1.000000     737.000000        2017.000000   \n",
       "\n",
       "       arrival_date_week_number  arrival_date_day_of_month  \\\n",
       "count             119390.000000              119390.000000   \n",
       "mean                  27.165173                  15.798241   \n",
       "std                   13.605138                   8.780829   \n",
       "min                    1.000000                   1.000000   \n",
       "25%                   16.000000                   8.000000   \n",
       "50%                   28.000000                  16.000000   \n",
       "75%                   38.000000                  23.000000   \n",
       "max                   53.000000                  31.000000   \n",
       "\n",
       "       stays_in_weekend_nights  stays_in_week_nights         adults  \\\n",
       "count            119390.000000         119390.000000  119390.000000   \n",
       "mean                  0.927599              2.500302       1.856403   \n",
       "std                   0.998613              1.908286       0.579261   \n",
       "min                   0.000000              0.000000       0.000000   \n",
       "25%                   0.000000              1.000000       2.000000   \n",
       "50%                   1.000000              2.000000       2.000000   \n",
       "75%                   2.000000              3.000000       2.000000   \n",
       "max                  19.000000             50.000000      55.000000   \n",
       "\n",
       "            children         babies  is_repeated_guest  \\\n",
       "count  119386.000000  119390.000000      119390.000000   \n",
       "mean        0.103890       0.007949           0.031912   \n",
       "std         0.398561       0.097436           0.175767   \n",
       "min         0.000000       0.000000           0.000000   \n",
       "25%         0.000000       0.000000           0.000000   \n",
       "50%         0.000000       0.000000           0.000000   \n",
       "75%         0.000000       0.000000           0.000000   \n",
       "max        10.000000      10.000000           1.000000   \n",
       "\n",
       "       previous_cancellations  previous_bookings_not_canceled  \\\n",
       "count           119390.000000                   119390.000000   \n",
       "mean                 0.087118                        0.137097   \n",
       "std                  0.844336                        1.497437   \n",
       "min                  0.000000                        0.000000   \n",
       "25%                  0.000000                        0.000000   \n",
       "50%                  0.000000                        0.000000   \n",
       "75%                  0.000000                        0.000000   \n",
       "max                 26.000000                       72.000000   \n",
       "\n",
       "       booking_changes          agent      company  days_in_waiting_list  \\\n",
       "count    119390.000000  103050.000000  6797.000000         119390.000000   \n",
       "mean          0.221124      86.693382   189.266735              2.321149   \n",
       "std           0.652306     110.774548   131.655015             17.594721   \n",
       "min           0.000000       1.000000     6.000000              0.000000   \n",
       "25%           0.000000       9.000000    62.000000              0.000000   \n",
       "50%           0.000000      14.000000   179.000000              0.000000   \n",
       "75%           0.000000     229.000000   270.000000              0.000000   \n",
       "max          21.000000     535.000000   543.000000            391.000000   \n",
       "\n",
       "                 adr  required_car_parking_spaces  total_of_special_requests  \n",
       "count  119390.000000                119390.000000              119390.000000  \n",
       "mean      101.831122                     0.062518                   0.571363  \n",
       "std        50.535790                     0.245291                   0.792798  \n",
       "min        -6.380000                     0.000000                   0.000000  \n",
       "25%        69.290000                     0.000000                   0.000000  \n",
       "50%        94.575000                     0.000000                   0.000000  \n",
       "75%       126.000000                     0.000000                   1.000000  \n",
       "max      5400.000000                     8.000000                   5.000000  "
      ]
     },
     "execution_count": 4,
     "metadata": {},
     "output_type": "execute_result"
    }
   ],
   "source": [
    "#summary of statistics that has to do with the DataFrame\n",
    "hotel.describe()"
   ]
  },
  {
   "cell_type": "code",
   "execution_count": 5,
   "id": "3e07d90b-fb4e-4824-b705-0c5de3f32fe5",
   "metadata": {},
   "outputs": [
    {
     "data": {
      "text/plain": [
       "Index(['hotel', 'is_canceled', 'lead_time', 'arrival_date_year',\n",
       "       'arrival_date_month', 'arrival_date_week_number',\n",
       "       'arrival_date_day_of_month', 'stays_in_weekend_nights',\n",
       "       'stays_in_week_nights', 'adults', 'children', 'babies', 'meal',\n",
       "       'country', 'market_segment', 'distribution_channel',\n",
       "       'is_repeated_guest', 'previous_cancellations',\n",
       "       'previous_bookings_not_canceled', 'reserved_room_type',\n",
       "       'assigned_room_type', 'booking_changes', 'deposit_type', 'agent',\n",
       "       'company', 'days_in_waiting_list', 'customer_type', 'adr',\n",
       "       'required_car_parking_spaces', 'total_of_special_requests',\n",
       "       'reservation_status', 'reservation_status_date', 'name', 'email',\n",
       "       'phone-number', 'credit_card'],\n",
       "      dtype='object')"
      ]
     },
     "execution_count": 5,
     "metadata": {},
     "output_type": "execute_result"
    }
   ],
   "source": [
    "# checking the columns in our dataset\n",
    "hotel.columns"
   ]
  },
  {
   "cell_type": "code",
   "execution_count": 6,
   "id": "5b9d8e2c-06cb-41b3-91f1-b08998665e06",
   "metadata": {},
   "outputs": [
    {
     "data": {
      "text/plain": [
       "(119390, 36)"
      ]
     },
     "execution_count": 6,
     "metadata": {},
     "output_type": "execute_result"
    }
   ],
   "source": [
    "# checking the shape of our data\n",
    "hotel.shape"
   ]
  },
  {
   "cell_type": "code",
   "execution_count": 7,
   "id": "4b361497-d902-4002-88c4-f461a9139c21",
   "metadata": {},
   "outputs": [
    {
     "data": {
      "text/plain": [
       "array(['Transient', 'Contract', 'Transient-Party', 'Group'], dtype=object)"
      ]
     },
     "execution_count": 7,
     "metadata": {},
     "output_type": "execute_result"
    }
   ],
   "source": [
    "hotel[\"customer_type\"].unique()"
   ]
  },
  {
   "cell_type": "code",
   "execution_count": 9,
   "id": "1f78c72a-20c0-4272-aab9-20356e20a8e7",
   "metadata": {},
   "outputs": [
    {
     "data": {
      "text/html": [
       "<div>\n",
       "<style scoped>\n",
       "    .dataframe tbody tr th:only-of-type {\n",
       "        vertical-align: middle;\n",
       "    }\n",
       "\n",
       "    .dataframe tbody tr th {\n",
       "        vertical-align: top;\n",
       "    }\n",
       "\n",
       "    .dataframe thead th {\n",
       "        text-align: right;\n",
       "    }\n",
       "</style>\n",
       "<table border=\"1\" class=\"dataframe\">\n",
       "  <thead>\n",
       "    <tr style=\"text-align: right;\">\n",
       "      <th></th>\n",
       "      <th>hotel</th>\n",
       "      <th>meal</th>\n",
       "      <th>country</th>\n",
       "      <th>market_segment</th>\n",
       "      <th>distribution_channel</th>\n",
       "      <th>deposit_type</th>\n",
       "      <th>customer_type</th>\n",
       "    </tr>\n",
       "  </thead>\n",
       "  <tbody>\n",
       "    <tr>\n",
       "      <th>8</th>\n",
       "      <td>Resort Hotel</td>\n",
       "      <td>BB</td>\n",
       "      <td>PRT</td>\n",
       "      <td>Online TA</td>\n",
       "      <td>TA/TO</td>\n",
       "      <td>No Deposit</td>\n",
       "      <td>Transient</td>\n",
       "    </tr>\n",
       "    <tr>\n",
       "      <th>9</th>\n",
       "      <td>Resort Hotel</td>\n",
       "      <td>HB</td>\n",
       "      <td>PRT</td>\n",
       "      <td>Offline TA/TO</td>\n",
       "      <td>TA/TO</td>\n",
       "      <td>No Deposit</td>\n",
       "      <td>Transient</td>\n",
       "    </tr>\n",
       "    <tr>\n",
       "      <th>10</th>\n",
       "      <td>Resort Hotel</td>\n",
       "      <td>BB</td>\n",
       "      <td>PRT</td>\n",
       "      <td>Online TA</td>\n",
       "      <td>TA/TO</td>\n",
       "      <td>No Deposit</td>\n",
       "      <td>Transient</td>\n",
       "    </tr>\n",
       "    <tr>\n",
       "      <th>27</th>\n",
       "      <td>Resort Hotel</td>\n",
       "      <td>BB</td>\n",
       "      <td>PRT</td>\n",
       "      <td>Online TA</td>\n",
       "      <td>TA/TO</td>\n",
       "      <td>No Deposit</td>\n",
       "      <td>Transient</td>\n",
       "    </tr>\n",
       "    <tr>\n",
       "      <th>32</th>\n",
       "      <td>Resort Hotel</td>\n",
       "      <td>BB</td>\n",
       "      <td>PRT</td>\n",
       "      <td>Direct</td>\n",
       "      <td>Direct</td>\n",
       "      <td>No Deposit</td>\n",
       "      <td>Transient</td>\n",
       "    </tr>\n",
       "  </tbody>\n",
       "</table>\n",
       "</div>"
      ],
      "text/plain": [
       "           hotel meal country market_segment distribution_channel  \\\n",
       "8   Resort Hotel   BB     PRT      Online TA                TA/TO   \n",
       "9   Resort Hotel   HB     PRT  Offline TA/TO                TA/TO   \n",
       "10  Resort Hotel   BB     PRT      Online TA                TA/TO   \n",
       "27  Resort Hotel   BB     PRT      Online TA                TA/TO   \n",
       "32  Resort Hotel   BB     PRT         Direct               Direct   \n",
       "\n",
       "   deposit_type customer_type  \n",
       "8    No Deposit     Transient  \n",
       "9    No Deposit     Transient  \n",
       "10   No Deposit     Transient  \n",
       "27   No Deposit     Transient  \n",
       "32   No Deposit     Transient  "
      ]
     },
     "execution_count": 9,
     "metadata": {},
     "output_type": "execute_result"
    }
   ],
   "source": [
    "import pandas as pd\n",
    "\n",
    "# Load your dataset\n",
    "df = pd.read_csv(\"data/hotel_booking.csv\")  # Replace with your actual dataset file\n",
    "\n",
    "# Select only rows where 'is_canceled' is 1\n",
    "filtered_df = df[df['is_canceled'] == 1]\n",
    "\n",
    "# Select the required columns\n",
    "columns = [\"hotel\", \"meal\", \"country\", \"market_segment\", \"distribution_channel\", \n",
    "           \"deposit_type\", \"customer_type\"]\n",
    "\n",
    "# Display only 5 rows\n",
    "filtered_df[columns].head(5)"
   ]
  },
  {
   "cell_type": "code",
   "execution_count": null,
   "id": "5e398c82-2a52-40fb-a246-977749001386",
   "metadata": {},
   "outputs": [],
   "source": [
    "d"
   ]
  },
  {
   "cell_type": "markdown",
   "id": "ce77ee70-904b-4610-be86-e67686dd0a9a",
   "metadata": {},
   "source": [
    "# 5. Data Preparation"
   ]
  },
  {
   "cell_type": "markdown",
   "id": "583c8a79-6863-4fbf-bff9-e57569f2354b",
   "metadata": {},
   "source": [
    "## 5.1 Checking for Missing Values"
   ]
  },
  {
   "cell_type": "code",
   "execution_count": null,
   "id": "fc53bcbd-146f-4817-bab5-36198214a39a",
   "metadata": {},
   "outputs": [],
   "source": [
    "#checking for missing values\n",
    "hotel.isna().sum()"
   ]
  },
  {
   "cell_type": "markdown",
   "id": "6549d0fe-afff-49cf-9d7e-a8f4a2be6e6c",
   "metadata": {},
   "source": [
    "## 5.2 Handling missing values"
   ]
  },
  {
   "cell_type": "markdown",
   "id": "6cba08cd-94d6-4b62-a141-eb6532b95a02",
   "metadata": {},
   "source": [
    "**Handling 'country' missing values**"
   ]
  },
  {
   "cell_type": "markdown",
   "id": "d881936d-1711-4d2e-bf81-dbc85bebca15",
   "metadata": {},
   "source": [
    "From the cell above, we see that there are a couple of columns with missing values, 'country' being one of it. In the cells below we shall handle the missing values found in the column by dropping the rows with the missing values. This will not affect further analysis."
   ]
  },
  {
   "cell_type": "code",
   "execution_count": null,
   "id": "09f4a960-6fde-4ba5-a8d4-6204f820a3cd",
   "metadata": {},
   "outputs": [],
   "source": [
    "# looking at the missing values in the country column\n",
    "hotel[\"country\"].unique()"
   ]
  },
  {
   "cell_type": "code",
   "execution_count": null,
   "id": "06c3ee29-ef6e-49b6-b92c-26a2292dab9b",
   "metadata": {},
   "outputs": [],
   "source": [
    "#The sum of the missing values\n",
    "sum_nan = hotel[\"country\"].isna().sum()\n",
    "sum_nan"
   ]
  },
  {
   "cell_type": "code",
   "execution_count": null,
   "id": "92102d90-270f-43d8-9406-03cb1518dc5d",
   "metadata": {},
   "outputs": [],
   "source": [
    "# Sum of all values in the country column\n",
    "sum_country = hotel[\"country\"].value_counts().sum()\n",
    "sum_country"
   ]
  },
  {
   "cell_type": "code",
   "execution_count": null,
   "id": "22581207-d8ef-4daa-9a3a-b61b638f7253",
   "metadata": {},
   "outputs": [],
   "source": [
    "#Looking at the percentage of the missing values\n",
    "perc_nan = sum_nan / sum_country * 100\n",
    "print(round(perc_nan, 4))"
   ]
  },
  {
   "cell_type": "markdown",
   "id": "32903dc1-3bd8-40f0-86c3-8542fb214de3",
   "metadata": {},
   "source": [
    "Removing the country missing values beacuse the number of missing values which is 488 is insignificantly small."
   ]
  },
  {
   "cell_type": "code",
   "execution_count": null,
   "id": "2d36525a-27d2-4110-ab51-3145d40cd8e5",
   "metadata": {},
   "outputs": [],
   "source": [
    "# dropping country nan values\n",
    "hotel.dropna(subset = [\"country\"], inplace = True)"
   ]
  },
  {
   "cell_type": "code",
   "execution_count": null,
   "id": "17ed2f21-d0aa-48bd-b206-f1e8e3d7ec50",
   "metadata": {},
   "outputs": [],
   "source": [
    "# confirming that the missing values have been removed\n",
    "hotel[\"country\"].unique()"
   ]
  },
  {
   "cell_type": "markdown",
   "id": "c606ea89-8472-4c05-b6e3-54e370366af4",
   "metadata": {},
   "source": [
    "## Handling agent missing values"
   ]
  },
  {
   "cell_type": "markdown",
   "id": "0f5abd5d-3180-41a2-9062-c7fc521136a3",
   "metadata": {},
   "source": [
    "The'agent' column is among the columns with missing values. We saw that this column is important in our analysis therefore no row was dropped, rather it was filled with '0'."
   ]
  },
  {
   "cell_type": "code",
   "execution_count": null,
   "id": "0526282e-c2c2-4443-80b4-f2ce194e12a5",
   "metadata": {},
   "outputs": [],
   "source": [
    "# looking at the missing values in the agent column\n",
    "hotel[\"agent\"].unique()"
   ]
  },
  {
   "cell_type": "code",
   "execution_count": null,
   "id": "e43afb67-98b3-4b5f-aeee-baa42c1354f2",
   "metadata": {},
   "outputs": [],
   "source": [
    "#Filling the missing values with 0 as a unique ID\n",
    "hotel[\"agent\"].fillna(0, inplace=True)\n",
    "\n",
    "#confirming that the agent nan values have been replaced with 0\n",
    "hotel[\"agent\"].unique()"
   ]
  },
  {
   "cell_type": "markdown",
   "id": "8e38bc2d-303b-4bfe-aa4e-841051d339fe",
   "metadata": {},
   "source": [
    "The nan values have been replaced with 0. 0 represents the clients that did not use an agent"
   ]
  },
  {
   "cell_type": "markdown",
   "id": "cd045d15-496e-43fc-9d96-958a74fb8133",
   "metadata": {},
   "source": [
    "## Handling company missing values"
   ]
  },
  {
   "cell_type": "code",
   "execution_count": null,
   "id": "37eac3bf-2152-4349-94c6-b022d776dcfc",
   "metadata": {},
   "outputs": [],
   "source": [
    "#The sum of the missing values\n",
    "hotel[\"company\"].unique()"
   ]
  },
  {
   "cell_type": "code",
   "execution_count": null,
   "id": "ef7e2d1a-f802-4294-8850-47fc9819e1b0",
   "metadata": {},
   "outputs": [],
   "source": [
    "# Sum of all non-missing values in the company column\n",
    "sum_company = (~hotel[\"company\"].isna()).sum()\n",
    "sum_company"
   ]
  },
  {
   "cell_type": "code",
   "execution_count": null,
   "id": "211a6874-5cfa-4f6e-8f1c-e943c6f52602",
   "metadata": {
    "scrolled": true
   },
   "outputs": [],
   "source": [
    "#The sum of the missing values\n",
    "sum_nan = hotel[\"company\"].isna().sum()\n",
    "sum_nan"
   ]
  },
  {
   "cell_type": "code",
   "execution_count": null,
   "id": "1edba78c-042d-4d58-acf0-9571ce368dd5",
   "metadata": {},
   "outputs": [],
   "source": [
    "# Sum of all values in the company column\n",
    "total_company= sum_nan + sum_company\n",
    "total_company"
   ]
  },
  {
   "cell_type": "code",
   "execution_count": null,
   "id": "01e3e9d4-e492-468c-bfef-39a25444dfc7",
   "metadata": {},
   "outputs": [],
   "source": [
    "#Looking at the percentage of the missing values\n",
    "perc_nan = sum_nan / total_company * 100\n",
    "print(round(perc_nan, 4))"
   ]
  },
  {
   "cell_type": "code",
   "execution_count": null,
   "id": "67af0602-70dd-469f-801b-efc1b135792b",
   "metadata": {},
   "outputs": [],
   "source": [
    "#Dropping the company column \n",
    "hotel.drop(\"company\", axis=1, inplace=True)\n",
    "hotel.shape"
   ]
  },
  {
   "cell_type": "markdown",
   "id": "58cbf3b1-1d7e-41db-9b25-943b5e63e784",
   "metadata": {},
   "source": [
    "We have dropped the company column because it has 94% of the missing values in the column\n",
    "\n",
    "We can see that our data now has 35 columns and 118,902 rows after the column company has been dropped"
   ]
  },
  {
   "cell_type": "markdown",
   "id": "20832045-f8ab-469d-883e-69e248340dd2",
   "metadata": {},
   "source": [
    "## Handling children missing values"
   ]
  },
  {
   "cell_type": "markdown",
   "id": "291285c9-9132-440d-ad26-6265cb432e6f",
   "metadata": {},
   "source": [
    "The 'children' column has the lowest number of missing values, 4. We saw fit to fill the rows with missing values with the median"
   ]
  },
  {
   "cell_type": "code",
   "execution_count": null,
   "id": "1e259eee-3a52-41b1-92d4-ae5f69cef631",
   "metadata": {},
   "outputs": [],
   "source": [
    "# since children has 4 missing values we impute the median since it is least affected by outliers\n",
    "hotel['children'].fillna(value= hotel['children'].median(), inplace=True )"
   ]
  },
  {
   "cell_type": "code",
   "execution_count": null,
   "id": "67b33926-db1f-45cb-8faf-0568ca5a5d07",
   "metadata": {},
   "outputs": [],
   "source": [
    "# Checking if there any missing values left\n",
    "hotel.isna().sum()"
   ]
  },
  {
   "cell_type": "markdown",
   "id": "ea09131e-0c64-459c-9b1b-5e40428fbefd",
   "metadata": {},
   "source": [
    "## 5.3 Checking For Duplicates"
   ]
  },
  {
   "cell_type": "markdown",
   "id": "f025bfae-3791-443a-9779-960b09578214",
   "metadata": {},
   "source": [
    "We will conduct a comprehensive examination of the dataset to identify and eliminate any potential duplicate records, ensuring data integrity and accuracy throughout our analysis."
   ]
  },
  {
   "cell_type": "code",
   "execution_count": null,
   "id": "05c23fbe-8071-4d13-a63c-282d4be9c301",
   "metadata": {},
   "outputs": [],
   "source": [
    "#Looking for duplicates in the dataset\n",
    "hotel.duplicated().sum()"
   ]
  },
  {
   "cell_type": "markdown",
   "id": "22e78b24-405d-4ae5-abb9-34cf4cc92cd7",
   "metadata": {},
   "source": [
    "We have 0 duplicates in our dataset"
   ]
  },
  {
   "cell_type": "markdown",
   "id": "cfec1773-c472-41a3-a668-84ce5d7c2965",
   "metadata": {},
   "source": [
    "## 5.4 Checking For Placeholders"
   ]
  },
  {
   "cell_type": "markdown",
   "id": "81beb802-7f63-428e-8500-71e0617bbc5d",
   "metadata": {},
   "source": [
    "In our data preparation, we will look into the placeholders found in the categorical columns and remove them to improve on code readability and analysis."
   ]
  },
  {
   "cell_type": "code",
   "execution_count": null,
   "id": "b54b3f5d-bceb-41c4-80bc-bd739765c036",
   "metadata": {},
   "outputs": [],
   "source": [
    "# checking for placeholders\n",
    "place_holder = ['\\\\#',',','/','-','@','\\\\*','_']\n",
    "\n",
    "# for loop to loop through the columns checking for any placeholder\n",
    "for placeholder in hotel.columns:\n",
    "    if hotel[placeholder].dtype == 'object':\n",
    "        for hold in place_holder:\n",
    "            if hotel[placeholder].str.contains(hold).any():\n",
    "                print(f\"We have found place holders, '{hold}' in column '{placeholder}' \")"
   ]
  },
  {
   "cell_type": "code",
   "execution_count": null,
   "id": "6b8d1e4b-b048-4b33-837b-73fc10084bbb",
   "metadata": {},
   "outputs": [],
   "source": [
    "# removing placeholders that have been gotten\n",
    "rem_place_holders = {'market_segment':'/',\n",
    "                     'distribution_channel':'/',\n",
    "                     'customer_type':'-',\n",
    "                     'reservation_status': '-',\n",
    "                     'reservation_status_date':'-',\n",
    "                     'email':'@',\n",
    "                     'email':'_',\n",
    "                     'phone-number':'-',\n",
    "                     'credit_card':'\\\\*' }\n",
    "for placeholder, hold in rem_place_holders.items():\n",
    "    hotel[placeholder] = hotel[placeholder].str.replace(hold,'', regex = True)"
   ]
  },
  {
   "cell_type": "code",
   "execution_count": null,
   "id": "7f210056-9cd1-441c-b7b4-ab420ad607ca",
   "metadata": {},
   "outputs": [],
   "source": [
    "for placeholder in hotel.columns:\n",
    "    if hotel[placeholder].dtype == 'object':\n",
    "        for hold in place_holder:\n",
    "            if hotel[placeholder].str.contains(hold).any():\n",
    "                print(f\"We have found place holders, '{hold}' in column '{placeholder}' \")"
   ]
  },
  {
   "cell_type": "code",
   "execution_count": null,
   "id": "2d2c5977-e983-4b0c-bc51-16e70147dfce",
   "metadata": {},
   "outputs": [],
   "source": [
    "# removing @ from email\n",
    "hotel['email']= hotel['email'].str.replace('@','')\n",
    "hotel['email']"
   ]
  },
  {
   "cell_type": "markdown",
   "id": "a2a518ca-7929-40b3-ad88-fcad6f9bc822",
   "metadata": {},
   "source": [
    "## 5.5 Removing whitespace"
   ]
  },
  {
   "cell_type": "markdown",
   "id": "00b52cc8-e6ff-4d95-b43b-f9b8878bf0c9",
   "metadata": {},
   "source": [
    "We shall examine the dataset and remove any whitespace found for efficient data processing and minimize errors during analysis."
   ]
  },
  {
   "cell_type": "code",
   "execution_count": null,
   "id": "f6f28814-b591-4381-af03-d4ca0d73dd08",
   "metadata": {},
   "outputs": [],
   "source": [
    "hotel_whitespace = [col for col in hotel.columns if col.strip() != col]\n",
    "print(\"Columns with whitespace:\", hotel_whitespace)"
   ]
  },
  {
   "cell_type": "markdown",
   "id": "5f37d0f8-6378-4cf8-916f-1ba7e8750972",
   "metadata": {},
   "source": [
    "## 5.6 Outliers"
   ]
  },
  {
   "cell_type": "markdown",
   "id": "b63a7889-3254-479b-a687-730f11c458ca",
   "metadata": {},
   "source": [
    "Outliers represent the data-points that deviate from the majority of the data and therefore we need to examine them and determine if they hold crucial information needed for further analysis or if we'll drop them."
   ]
  },
  {
   "cell_type": "code",
   "execution_count": null,
   "id": "6184646a-fd3a-4952-b3dd-75b14536bcd3",
   "metadata": {},
   "outputs": [],
   "source": [
    "hotel['adr']"
   ]
  },
  {
   "cell_type": "code",
   "execution_count": null,
   "id": "60c1e911-0b16-4106-a34c-2f885746b407",
   "metadata": {},
   "outputs": [],
   "source": [
    "sns.boxplot(x = hotel['adr'])\n",
    "plt.show()"
   ]
  },
  {
   "cell_type": "code",
   "execution_count": null,
   "id": "e0166381-5eb1-49d4-998d-910bbb6f26f0",
   "metadata": {},
   "outputs": [],
   "source": [
    "sns.boxplot(x = hotel['lead_time'])\n",
    "plt.show()"
   ]
  },
  {
   "cell_type": "markdown",
   "id": "e26b3cb0-d4c3-4948-970d-32463c17fd4b",
   "metadata": {},
   "source": [
    "From the boxplot above, we examined that removing the outliers from the selected columns, lead_time and adr, may affect the distribution of our dataset, affecting further data analysis relevant to predict hotel cancelation."
   ]
  },
  {
   "cell_type": "markdown",
   "id": "b5c46192-0406-43af-a3a6-ce18be6854ed",
   "metadata": {},
   "source": [
    "# 6. EDA(Exploratory Data Analysis)"
   ]
  },
  {
   "cell_type": "markdown",
   "id": "878b9b3c-a84d-4d0b-83ff-9181a20eed7d",
   "metadata": {},
   "source": [
    "## 6.1 Univariate analysis "
   ]
  },
  {
   "cell_type": "markdown",
   "id": "d482ede5-ba92-4a6e-a9a6-7a244eddfe38",
   "metadata": {},
   "source": [
    "We will examine the values of each selected variable to gain insights to their distribution, central tendency and shape."
   ]
  },
  {
   "cell_type": "markdown",
   "id": "0ba7459a-2c85-478c-9019-99896ab9196d",
   "metadata": {},
   "source": [
    "### 6.1.1 Market Segment"
   ]
  },
  {
   "cell_type": "markdown",
   "id": "78c35cf3-6a74-4131-8c69-8cb7a60e8d53",
   "metadata": {},
   "source": [
    "We will look at the distribution of cancelation count for both online and offline TA Customers from 'market_segment' column."
   ]
  },
  {
   "cell_type": "code",
   "execution_count": null,
   "id": "8310b35a-11ee-44a1-a01f-b216e331fd30",
   "metadata": {},
   "outputs": [],
   "source": [
    "# Filter data for Online TA and Offline TA customers\n",
    "ta_data = hotel[hotel[\"market_segment\"].isin([\"Online TA\", \"Offline TA/TO\"])]\n",
    "\n",
    "# plotting the figure\n",
    "plt.figure(figsize=(10, 6))\n",
    "\n",
    "# Count plot \n",
    "sns.countplot(x = \"market_segment\", hue = \"is_canceled\", data = ta_data, palette={0: \"blue\", 1: \"red\"}, edgecolor= 'black')\n",
    "\n",
    "# labels\n",
    "plt.title(\"Cancellation Count for Online TA and Offline TA Customers\")\n",
    "plt.xlabel(\"Market Segment\")\n",
    "plt.ylabel(\"Count\")\n",
    "plt.legend(title = \"Cancellation Status\", labels = [\"Not Canceled\", \"Canceled\"])\n",
    "\n",
    "# Display the visual\n",
    "plt.show()"
   ]
  },
  {
   "cell_type": "markdown",
   "id": "b3f2592f-b9c8-4b89-8517-06d88490ca24",
   "metadata": {},
   "source": [
    "Online Travel Agent (TA) customers might display a reduced tendency to cancel reservations when contrasted with their Offline TA counterparts. Despite Online TA having a higher count of cancelled reservations than Offline TA, it's crucial to consider the disparity in the volume of clientele served between the two. Understanding such differences aids hotels in tailoring strategies for each booking channel to optimize customer satisfaction and operational efficiency."
   ]
  },
  {
   "cell_type": "markdown",
   "id": "df0798ce-ac7a-45d6-b1e5-c6a0ba1f8996",
   "metadata": {},
   "source": [
    "### 6.1.2 Repeated guests"
   ]
  },
  {
   "cell_type": "markdown",
   "id": "e448aaab-27d2-44bf-a622-99ee35b20501",
   "metadata": {},
   "source": [
    "We will look at the distribution of whether a customer is a repeated guest or not from 'is_repeated_guest' column."
   ]
  },
  {
   "cell_type": "code",
   "execution_count": null,
   "id": "a2ac2c28-3903-4c67-a6c5-424564dcce3f",
   "metadata": {},
   "outputs": [],
   "source": [
    "# plotting the figure size\n",
    "plt.figure(figsize=(10, 6))\n",
    "\n",
    "# countplot \n",
    "sns.countplot(data = hotel, x = \"is_repeated_guest\", hue = \"is_repeated_guest\",palette={0:\"Blue\", 1:\"Red\"}, edgecolor= 'black')\n",
    "\n",
    "# labels\n",
    "plt.title(\"Count plot for Repeated guests\")\n",
    "plt.xlabel(\"Repeated guests\")\n",
    "plt.ylabel(\"Count\")\n",
    "plt.legend(title = \"Guest Status\", labels = [\"Not Repeated Guest\", \"Repeated Guest\"])\n",
    "\n",
    "# Display the visual;\n",
    "plt.show()"
   ]
  },
  {
   "cell_type": "markdown",
   "id": "36cd1d53-0cd9-4352-a133-a258721aef83",
   "metadata": {},
   "source": [
    "From the plot above we can see that the repeated guests count is very low as for the new guests their counts are high."
   ]
  },
  {
   "cell_type": "markdown",
   "id": "2fdff21c-de56-4a1d-b3c7-8bf7ffe3e32f",
   "metadata": {},
   "source": [
    "### 6.1.3 Reservation status"
   ]
  },
  {
   "cell_type": "markdown",
   "id": "02c6841f-89c6-4b60-af89-8024b09ea86e",
   "metadata": {},
   "source": [
    "We will look at the distribution of whether a reservation was check-out, cancelled or no show from 'Reservation_status' column."
   ]
  },
  {
   "cell_type": "code",
   "execution_count": null,
   "id": "e4e012c2-fc59-40d9-9af1-71abd9674798",
   "metadata": {},
   "outputs": [],
   "source": [
    "# plotting the figure size\n",
    "plt.figure(figsize=(10, 6))\n",
    "\n",
    "# countplot \n",
    "sns.countplot(data = hotel, x = \"reservation_status\", hue = \"reservation_status\", palette={\"Blue\",\"Red\"}, edgecolor= 'black')\n",
    "\n",
    "# labels\n",
    "plt.title(\"Count plot for Reservation status\")\n",
    "plt.xlabel(\"Reservation status\")\n",
    "plt.ylabel(\"Count\")\n",
    "plt.legend(title = \"Reservation status\", labels = [\"checkout\", \"canceled\",\"no show\"])\n",
    "\n",
    "# Display the visual\n",
    "plt.show()"
   ]
  },
  {
   "cell_type": "markdown",
   "id": "27a3b8e9-f64a-473c-9751-eab327414f21",
   "metadata": {},
   "source": [
    "From the plots above we can see that the guests that checkout was the the highest(guests who came,slept and left) while the noshow had the lowest count.we can also see some guests canceled which means it may have been due to flight delay or changes or due to their personal matters."
   ]
  },
  {
   "cell_type": "markdown",
   "id": "0db96997-6b6f-4be2-b7bf-90bb06a72f90",
   "metadata": {},
   "source": [
    "### 6.1.4 Hotel"
   ]
  },
  {
   "cell_type": "markdown",
   "id": "5b2b48f6-fa39-4557-8deb-4db1b22c18cd",
   "metadata": {},
   "source": [
    "We will look at the distribution of whether customers booked resort hotel or city hotel from 'hotel' column"
   ]
  },
  {
   "cell_type": "code",
   "execution_count": null,
   "id": "b7b55677-de65-442a-999d-5bcb81c2314b",
   "metadata": {},
   "outputs": [],
   "source": [
    "# plotting the figure size\n",
    "plt.figure(figsize=(10, 6))\n",
    "\n",
    "# countplot \n",
    "sns.countplot(data = hotel, x = \"hotel\", hue = \"hotel\",palette={'Resort Hotel':\"Blue\", 'City Hotel':\"Red\"},edgecolor = 'black')\n",
    "\n",
    "# labels\n",
    "plt.title(\"Count plot for hotel\")\n",
    "plt.xlabel(\"hotel\")\n",
    "plt.ylabel(\"Count\")\n",
    "plt.legend(title = \"hotel type\", labels = [\"Resort hotel\", \"City hotel\"])\n",
    "\n",
    "# Display the visual;\n",
    "plt.show()"
   ]
  },
  {
   "cell_type": "markdown",
   "id": "672325db-2027-49fc-a937-a20236d8888e",
   "metadata": {},
   "source": [
    "From the graph above we can see that the city hotel is more preffered compared to resort hotel. This may be because of location, distance, or the pricing of the hotel among other things."
   ]
  },
  {
   "cell_type": "markdown",
   "id": "ec0ab131-05f0-43b5-8e5d-f3585ae7e57f",
   "metadata": {},
   "source": [
    "### 6.1.5 Cancelled"
   ]
  },
  {
   "cell_type": "markdown",
   "id": "96aaddd1-5b3a-4164-9c87-e30a726284eb",
   "metadata": {},
   "source": [
    "We will look at the distribution of whether a reservation was canceled or not canceled from 'is_canceled' column."
   ]
  },
  {
   "cell_type": "code",
   "execution_count": null,
   "id": "2b979776-7318-4ab2-86db-d9b84d34281c",
   "metadata": {},
   "outputs": [],
   "source": [
    "# plotting the figure size\n",
    "plt.figure(figsize=(10, 6))\n",
    "\n",
    "# countplot \n",
    "ax = sns.countplot(data=hotel, x=\"is_canceled\", hue=\"is_canceled\", palette={0: \"Blue\", 1: \"Red\"}, edgecolor='black')\n",
    "\n",
    "# labels\n",
    "plt.title(\"Count plot for cancel and not cancel in hotel\")\n",
    "ax.set_xticklabels([\"Not Canceled\", \"Canceled\"])\n",
    "plt.ylabel(\"Count\")\n",
    "plt.legend(title = \"cancel and not canceled\", labels = [\"not canceled\",\"canceled\"])\n",
    "\n",
    "# Display the visual;\n",
    "plt.show()"
   ]
  },
  {
   "cell_type": "markdown",
   "id": "5f44f773-7bde-46a0-8524-e019bfafbfb0",
   "metadata": {},
   "source": [
    "From the graph above 0 represents not canceled and 1 represents canceled. We can see that most guests who have \n",
    "been coming to the hotel did not cancel which is a good think and also means that the hotel is making more money."
   ]
  },
  {
   "cell_type": "markdown",
   "id": "6098fa95-5a08-49a6-84e8-4cdc78aeb879",
   "metadata": {},
   "source": [
    "### 6.1.6 Distribution Channel"
   ]
  },
  {
   "cell_type": "markdown",
   "id": "8c555dde-3e11-4043-892d-46b2b8ffbd8e",
   "metadata": {},
   "source": [
    "We will look at the distribution of whether a booking channel is direct, corporate, TATO, undefined, or GDS from 'distribution_channel' column."
   ]
  },
  {
   "cell_type": "code",
   "execution_count": null,
   "id": "f1b57242-bb00-4f9d-b28a-cd915104b23a",
   "metadata": {},
   "outputs": [],
   "source": [
    "# plotting the figure size\n",
    "plt.figure(figsize=(8, 6))\n",
    "\n",
    "# countplot \n",
    "sns.countplot(data = hotel, x = \"distribution_channel\", hue = \"distribution_channel\", palette={\"Blue\", \"Red\", \"limegreen\", \"purple\"}, edgecolor='black')\n",
    "\n",
    "# labels\n",
    "plt.title(\"Count plot for distribution_channel\")\n",
    "plt.xlabel(\"distribution_channel\")\n",
    "plt.ylabel(\"Count\")\n",
    "plt.legend(title = \"distribution_channel\", labels = [\"Direct\", \"Corporate\", \"TATO\", \"Undefined\", \"GDS\"])\n",
    "\n",
    "# Display the visual;\n",
    "plt.show()"
   ]
  },
  {
   "cell_type": "markdown",
   "id": "819e824a-4761-4add-ba9e-dd4960cf6cd3",
   "metadata": {},
   "source": [
    "From the plot above we can see that TATO(travel/tour agent) has the highest while undefined had the lowest.This means that most guests preferred using the travel companies to do their hotel bookings and tour experience in the different countries they visited."
   ]
  },
  {
   "cell_type": "markdown",
   "id": "e98cede6-cf74-4928-9244-030596164841",
   "metadata": {},
   "source": [
    "### 6.1.7 Meal"
   ]
  },
  {
   "cell_type": "code",
   "execution_count": null,
   "id": "c4360173-0dfa-4daa-9efc-ff5fc1908e74",
   "metadata": {},
   "outputs": [],
   "source": [
    "# plotting the figure size\n",
    "plt.figure(figsize=(8, 6))\n",
    "\n",
    "# countplot \n",
    "sns.countplot(data = hotel, x = \"meal\", hue = \"meal\",palette={\"Blue\", \"Red\", \"limegreen\", \"purple\"}, edgecolor='black')\n",
    "\n",
    "# labels\n",
    "plt.title(\"Count plot for meal\")\n",
    "plt.xlabel(\"meal\")\n",
    "plt.ylabel(\"Count\")\n",
    "plt.legend(title = \"meal\", labels = [\"BB\",\"FB\", \"HB\", \"SC\"])\n",
    "\n",
    "# Display the visual;\n",
    "plt.show()"
   ]
  },
  {
   "cell_type": "markdown",
   "id": "be93f9b9-8e5a-446f-a082-7c4a80f5e0f7",
   "metadata": {},
   "source": [
    "From the graph above we can see that the guests preffered more BB and the least preffered is FB. This may be because that the Fb is more expensive or the food quantity and quality is not good."
   ]
  },
  {
   "cell_type": "markdown",
   "id": "79dd6f74-6e4a-491b-b9a8-487b2607c235",
   "metadata": {},
   "source": [
    "## 6.2 Bivariate analysis"
   ]
  },
  {
   "cell_type": "markdown",
   "id": "922e833a-4bdb-4a56-8ca3-c623fcf92996",
   "metadata": {},
   "source": [
    "### 6.2.1 Market segment vs cancelled"
   ]
  },
  {
   "cell_type": "markdown",
   "id": "ba3c8caf-a782-4eba-9ad7-b9756d083be7",
   "metadata": {},
   "source": [
    "We will explore the relationship between the market segment and is_canceled columns to see how the \"market segment\" relates to customers cancellation behavior."
   ]
  },
  {
   "cell_type": "code",
   "execution_count": null,
   "id": "cdd31eb1-1a26-483b-9bdb-a85e1b1bda63",
   "metadata": {},
   "outputs": [],
   "source": [
    "# filter data for Online TA and Offline TA customers\n",
    "on_offline_tato = hotel[hotel[\"market_segment\"].isin([\"Online TA\", \"Offline TATO\"])]\n",
    "\n",
    "# plotting the figure size\n",
    "plt.figure(figsize=(10, 6))\n",
    "\n",
    "# Count plot for cancellation status among Online TA and Offline TA customers\n",
    "sns.countplot(x = \"market_segment\", hue = \"is_canceled\", data = on_offline_tato, palette = {0: \"blue\", 1: \"red\"}, edgecolor='black')\n",
    "\n",
    "# labels\n",
    "plt.title(\"Cancellation Count for Online TA and Offline TA Customers\")\n",
    "plt.xlabel(\"Market Segment\")\n",
    "plt.ylabel(\"Count\")\n",
    "plt.legend(title = \"Cancellation Status\", labels = [\"Not Canceled\", \"Canceled\"])\n",
    "\n",
    "# display the visual\n",
    "plt.show()"
   ]
  },
  {
   "cell_type": "markdown",
   "id": "1574960e-33c6-4894-937f-1a6779bda0f4",
   "metadata": {},
   "source": [
    "This shows people who have cancelled or not cancelled are likely to do it online rather than offline. This understandable since it is easier to do it remotely via the internet due to the saving of time rather than physically to the hotel premises to do a cancelation."
   ]
  },
  {
   "cell_type": "markdown",
   "id": "2c27ece2-d8b4-4e21-b991-fd030a9419b3",
   "metadata": {},
   "source": [
    "### 6.2.2 Customer type vs Cancelled"
   ]
  },
  {
   "cell_type": "markdown",
   "id": "ac0ebe91-b78b-4e3f-9b34-6385ec9aab28",
   "metadata": {},
   "source": [
    "We will explore the relationship between the customer type and is_canceled columns and observe the distribution of cancelation count with each customer type."
   ]
  },
  {
   "cell_type": "code",
   "execution_count": null,
   "id": "73997ed2-2cb9-46f6-ace3-97097537aa45",
   "metadata": {},
   "outputs": [],
   "source": [
    "# assigning independent and dependent variables\n",
    "x = hotel[\"customer_type\"]\n",
    "y = hotel[\"is_canceled\"]\n",
    "\n",
    "# plotting stacked bar graph\n",
    "stacked = pd.crosstab(x, y)\n",
    "stacked.plot(kind = \"bar\", stacked = True, figsize = (10, 6),color={0:'blue', 1:'red'}, edgecolor='black')\n",
    "\n",
    "# labels\n",
    "plt.title(\"Customer type vs Cancelled\")\n",
    "plt.xlabel(\"Customer type\")\n",
    "plt.ylabel(\"is_cancelled\")\n",
    "\n",
    "# rotating the x axis\n",
    "plt.xticks(rotation = 45)\n",
    "\n",
    "# display the visual\n",
    "plt.show()"
   ]
  },
  {
   "cell_type": "markdown",
   "id": "9831d160-4fca-49f6-9d20-13afa83dbc34",
   "metadata": {},
   "source": [
    "* Transient customer types are more likely to cancel or not cancel than the other groups of customers represented in the plot above.However, something which cuts across all of them is that cancellations (1) are less than the non-cancellations (0).\n",
    "\n",
    "* That speaks volumes that most people prefer to continue with the service of a hotel rather than doing cancelations."
   ]
  },
  {
   "cell_type": "markdown",
   "id": "6d07f8c7-bccc-43cc-a13a-725acb5ea786",
   "metadata": {},
   "source": [
    "### 6.2.3 hotel vs cancelled"
   ]
  },
  {
   "cell_type": "markdown",
   "id": "b1d3e3df-f16e-4785-a0e1-c9105bacf4b4",
   "metadata": {},
   "source": [
    "We will explore the relationship between the hotel and cancelation column to observe which hotel had the highest number of cancelation."
   ]
  },
  {
   "cell_type": "code",
   "execution_count": null,
   "id": "e1cf78a2-cd8d-4d48-82bf-77d5914120f1",
   "metadata": {},
   "outputs": [],
   "source": [
    "# looking at which hotels had the highest number of cancellations\n",
    "# plotting the figure size\n",
    "plt.figure(figsize = (10,6))\n",
    "\n",
    "# plotting the countplot\n",
    "ax = sns.barplot(x = \"hotel\", y = \"is_canceled\", data = hotel, palette={'blue', 'red'}, edgecolor='black')\n",
    "plt.title(\"hotel against canceled\");"
   ]
  },
  {
   "cell_type": "markdown",
   "id": "3e073d49-a33f-4040-92cc-7bf607cce6f1",
   "metadata": {},
   "source": [
    "City hotels get more cancellations as compared to resort hotels. This may be because of the high prices of the hotel rooms, lack of good service, bad quality of food and service or over booking of the rooms at the hotel."
   ]
  },
  {
   "cell_type": "markdown",
   "id": "58a68ea1-b97a-40ee-a8ca-3f79372450f5",
   "metadata": {},
   "source": [
    "## 6.3 Multivariate Analysis"
   ]
  },
  {
   "cell_type": "markdown",
   "id": "a21f47fa-e1e2-49cc-8def-25e647902d4a",
   "metadata": {},
   "source": [
    "### 6.3.1 Market Segment, Previous Bookings Not Canceled, Previous Cancellations"
   ]
  },
  {
   "cell_type": "markdown",
   "id": "2b05070e-f3b5-4924-b948-125e6b7dc282",
   "metadata": {},
   "source": [
    "We will look at interaction of market_segment, previous_bookings_not_canclled and previous cancelled columns to identify the patterns they exhibit."
   ]
  },
  {
   "cell_type": "code",
   "execution_count": null,
   "id": "345be588-3c52-41bf-a32f-fb940a45aa51",
   "metadata": {},
   "outputs": [],
   "source": [
    "# Filter relevant columns\n",
    "loyalty_cancellation_data = hotel[['market_segment', 'previous_bookings_not_canceled', 'previous_cancellations']]\n",
    "\n",
    "# Define colors for each market segment\n",
    "# segment_colors = {'Corporate': '#1f77b4', 'Online TA': '#ff7f0e', 'Direct': '#2ca02c', 'Offline TA/TO': '#8c564b', \n",
    "#                   'Groups': '#9467bd', 'Complementary': '#d62728', 'Undefined': '#e377c2', 'Aviation': '#7f7f7f', 'Unknown': '#bcbd22'}\n",
    "segment_colors = {'Online TA': 'orange', 'Offline TATO': 'brown', 'Groups': 'purple', 'Corporate': 'blue', 'Direct': 'green', 'Undefined': 'pink', 'Aviation': 'gray', 'Complementary': 'red'}\n",
    "\n",
    "# Scatter plot for loyalty vs. cancellations\n",
    "plt.figure(figsize=(12, 8))\n",
    "sns.scatterplot(x='previous_bookings_not_canceled', y='previous_cancellations', hue='market_segment', data=loyalty_cancellation_data, palette=segment_colors, s=120)\n",
    "plt.title('Multivariate Analysis: Loyalty vs. Cancellations by Market Segment')\n",
    "plt.xlabel('Previous Bookings Not Canceled')\n",
    "plt.ylabel('Previous Cancellations')\n",
    "plt.legend(title='Market Segment', bbox_to_anchor=(1.05, 1), loc='upper left')\n",
    "plt.show()"
   ]
  },
  {
   "cell_type": "markdown",
   "id": "4f800fd5-0216-46e3-a7db-4d8235b1c72c",
   "metadata": {},
   "source": [
    "Upon visual inspection of the scatter plot, segments that cluster toward higher values on the x-axis and lower values on the y-axis suggest higher loyalty, indicating customers who consistently avoid cancellations.. Conversely, segments with scattered points across higher values on both axes may require focused efforts to mitigate cancellations. This analysis empowers hotels to implement segment-specific strategies, fostering loyalty and optimizing operational efficiency to meet the unique needs of each market segment."
   ]
  },
  {
   "cell_type": "markdown",
   "id": "c6548cdf-cf75-49c1-8064-8bbcc065eae9",
   "metadata": {},
   "source": [
    "### 6.3.2 Hotel Type, Weekend Nights, Week"
   ]
  },
  {
   "cell_type": "code",
   "execution_count": null,
   "id": "274a1196-9d71-4bad-8b92-4cf509d354c6",
   "metadata": {},
   "outputs": [],
   "source": [
    "# Filter relevant columns\n",
    "hotel_traffic_data = hotel[['hotel', 'stays_in_weekend_nights', 'stays_in_week_nights']]\n",
    "\n",
    "# Scatter plot for weekend nights vs. week nights by hotel type\n",
    "plt.figure(figsize=(12, 8))\n",
    "sns.scatterplot(x='stays_in_weekend_nights', y='stays_in_week_nights', hue='hotel', data=hotel_traffic_data, palette='Set1', s=100)\n",
    "plt.title('Multivariate Analysis: Weekend vs. Week Nights by Hotel Type')\n",
    "plt.xlabel('Stays in Weekend Nights')\n",
    "plt.ylabel('Stays in Week Nights')\n",
    "plt.legend(title='Hotel Type', bbox_to_anchor=(1.05, 1), loc='upper left')\n",
    "plt.show()"
   ]
  },
  {
   "cell_type": "markdown",
   "id": "8b5e0851-cae2-4de5-8edd-cbba3a534487",
   "metadata": {},
   "source": [
    "City hotels show a concentration of stays during weekends, suggesting a preference for weekend getaways. This could be shaped by indicating an inclination towards stays oriented for leisure. Meanwhile resort hotels exhibit a more balanced distribution throughout the week yet it is noticable that they have higher stays during the weekdays. Why would this be the case? This might be attributed to the fact that resort hotels often cater to a mix of leisure and business travellers i.e business confrences,events and vactioneers seeking a quieter environment.The balanced distribution suggests that resort hotels successfully accommodate a diverse clientele, striking a harmonious balance between leisure and business-oriented stays. These findings empower hotel management with valuable information for operational planning and targeted marketing. It enables them to optimize staffing levels based on peak traffic days and tailor promotional strategies to attract guests during specific periods, contributing to enhanced guest satisfaction and operational efficiency."
   ]
  },
  {
   "cell_type": "markdown",
   "id": "9ee2b67b-8375-4190-a851-b74a50baf393",
   "metadata": {},
   "source": [
    "# 7. Data Preprocessing"
   ]
  },
  {
   "cell_type": "markdown",
   "id": "55a2f930-0e73-47ed-9a70-e2dad558034b",
   "metadata": {},
   "source": [
    "In this section we will look at the correlation between the numerical columns to determine which set has the highest correlation coefficient, drop columns that will not be beneficial for carrying out our analysis, we shall create 'total_guest' column that comprises of the sum of the children, babies and adult columns, we will also create binary features to represent both special requests made and room type reserved and assigned. We will also perform hot encoding to the categorical columns, split the dataset into training and test data and deal with class imbalance."
   ]
  },
  {
   "cell_type": "markdown",
   "id": "c6528563-87b6-48bc-a9d9-391796412675",
   "metadata": {},
   "source": [
    "## 7.1 Correlation matrix of the numerical columns"
   ]
  },
  {
   "cell_type": "code",
   "execution_count": null,
   "id": "de4eeaaa",
   "metadata": {},
   "outputs": [],
   "source": [
    "# # Calculate the correlation matrix\n",
    "# correlation_matrix = hotel.corr()\n",
    "\n",
    "# # Create a heatmap\n",
    "# plt.figure(figsize=(10, 8))\n",
    "# sns.heatmap(correlation_matrix, annot=True, cmap=\"coolwarm\", fmt=\".2f\", linewidths=0.5)\n",
    "# plt.title(\"Correlation Heatmap of Hotels DataFrame\")\n",
    "# plt.show()"
   ]
  },
  {
   "cell_type": "markdown",
   "id": "90da4c33",
   "metadata": {},
   "source": [
    "A correlation coefficient of 0.54 indicates a moderate positive correlation between arrival_date_year and arrival_date_week_number. This can lead to unstable coefficient estimates. We will only use arrival_date_week_number which can help to improve the model's stability and interpretability.\n",
    "\n",
    "Also drop name, email, phone-number and credit-card columns to reduce the dimensionality and computational complexity.Also, they may not be relevant for analysis and could pose privacy concerns."
   ]
  },
  {
   "cell_type": "code",
   "execution_count": null,
   "id": "cba6b69b",
   "metadata": {},
   "outputs": [],
   "source": [
    "hotel[\"arrival_date_week_number\"].unique()"
   ]
  },
  {
   "cell_type": "code",
   "execution_count": null,
   "id": "7b80f3dc",
   "metadata": {},
   "outputs": [],
   "source": [
    "drop_column=[\"name\",\"email\",\"phone-number\", \"credit_card\"]"
   ]
  },
  {
   "cell_type": "code",
   "execution_count": null,
   "id": "a6ee5a0c",
   "metadata": {},
   "outputs": [],
   "source": [
    "hotel.drop(drop_column, axis=1, inplace=True)"
   ]
  },
  {
   "cell_type": "markdown",
   "id": "e7525a92-484e-40e7-9d45-6afd4c140905",
   "metadata": {},
   "source": [
    "## 7.2 Creating a 'total_guest' column"
   ]
  },
  {
   "cell_type": "code",
   "execution_count": null,
   "id": "5417b773",
   "metadata": {},
   "outputs": [],
   "source": [
    "#Create a feature that represents the total number of people\n",
    "hotel['total_guests'] = hotel['adults'] + hotel['children'] + hotel['babies']\n",
    "hotel.drop(['adults', 'children', 'babies'], axis=1, inplace=True)"
   ]
  },
  {
   "cell_type": "code",
   "execution_count": null,
   "id": "4de69027",
   "metadata": {},
   "outputs": [],
   "source": [
    "(hotel['total_of_special_requests'].value_counts()/hotel['total_of_special_requests'].value_counts().sum())*100"
   ]
  },
  {
   "cell_type": "markdown",
   "id": "f1da8cdf",
   "metadata": {},
   "source": [
    "Since the number of rows without special requests is more than 50% of the dataset, creating a binary feature indicating whether any special requests were made by the guest will reduce computational complexity while preserving the essential information regarding guest preferences and additional services, thus streamlining subsequent analyses and model development."
   ]
  },
  {
   "cell_type": "markdown",
   "id": "9a0f81a5-c5a4-4afb-8a6e-0becaed45c45",
   "metadata": {},
   "source": [
    "## 7.3 Creating a binary feature to represent special requests made"
   ]
  },
  {
   "cell_type": "code",
   "execution_count": null,
   "id": "d8897122",
   "metadata": {},
   "outputs": [],
   "source": [
    "#Create a binary feature indicating whether any special requests were made by the guest \n",
    "hotel['has_special_requests'] = (hotel['total_of_special_requests'] > 0).astype(int)\n",
    "\n",
    "# Drop the 'total_of_special_requests' column\n",
    "hotel.drop(['total_of_special_requests'], axis=1, inplace=True)"
   ]
  },
  {
   "cell_type": "markdown",
   "id": "20a5a365-180a-4241-b9e2-b39c16e04a9f",
   "metadata": {},
   "source": [
    "## 7.4 Lead_time histogram"
   ]
  },
  {
   "cell_type": "code",
   "execution_count": null,
   "id": "b687a2e9",
   "metadata": {},
   "outputs": [],
   "source": [
    "hotel['lead_time'].sort_values(ascending = False)"
   ]
  },
  {
   "cell_type": "code",
   "execution_count": null,
   "id": "cf3b8212",
   "metadata": {},
   "outputs": [],
   "source": [
    "plt.figure(figsize=(10, 6))\n",
    "\n",
    "# Create the histogram\n",
    "plt.hist(hotel['lead_time'], bins=30, color='blue', edgecolor='black')\n",
    "\n",
    "# Add labels and title\n",
    "plt.xlabel('Lead Time')\n",
    "plt.ylabel('Frequency')\n",
    "plt.title('Lead Time Histogram')\n",
    "\n",
    "# Show the histogram\n",
    "plt.show()"
   ]
  },
  {
   "cell_type": "markdown",
   "id": "9a59018c",
   "metadata": {},
   "source": [
    "The histogram reveals a positively skewed distribution of lead times, indicating that a significant portion of bookings are characterized by shorter lead times, while comparatively fewer involve longer lead times. To effectively represent this distribution in the hotel dataset, wider bins have been strategically applied towards the right end, accommodating the variations in lead times more accurately."
   ]
  },
  {
   "cell_type": "code",
   "execution_count": null,
   "id": "e7ca3940",
   "metadata": {},
   "outputs": [],
   "source": [
    "#Use wider bins for longer lead times since the data is positively skewed.\n",
    "bin_edges = [0, 30, 90, 180, 365, float('inf')]\n",
    "bin_labels = ['0-30 days', '31-90 days', '91-180 days', '181-365 days', '365+ days']\n",
    "\n",
    "#Create a new column 'lead_time_category'\n",
    "hotel['lead_time_category'] = pd.cut(hotel['lead_time'], bins=bin_edges, labels=bin_labels)\n",
    "hotel.drop(['lead_time'], axis=1, inplace=True)\n",
    "\n",
    "hotel['lead_time_category'].value_counts()"
   ]
  },
  {
   "cell_type": "markdown",
   "id": "8420de3b",
   "metadata": {},
   "source": [
    "It's evident that a majority of bookings occur relatively close to the arrival date (0-30 days), but a significant number of guests also plan their stays with lead times extending beyond three months. A smaller percentage plan well in advance with lead times exceeding 365 days."
   ]
  },
  {
   "cell_type": "markdown",
   "id": "b164ec62-136a-42d3-a12b-08e71473a8df",
   "metadata": {},
   "source": [
    "## 7.5 Creating a binary feature to represent both assigned room type and reserved room type"
   ]
  },
  {
   "cell_type": "code",
   "execution_count": null,
   "id": "57dcdd16",
   "metadata": {},
   "outputs": [],
   "source": [
    "#hotel[\"reserved_room_type\"].unique()\n",
    "hotel[\"assigned_room_type\"].unique()"
   ]
  },
  {
   "cell_type": "code",
   "execution_count": null,
   "id": "61a57c5e",
   "metadata": {},
   "outputs": [],
   "source": [
    "# Create a new binary column 'reserved_is_assigned' based on the comparison\n",
    "hotel['reserved_is_assigned'] = (hotel['assigned_room_type'] == hotel['reserved_room_type']).astype(int)\n",
    "hotel.drop(['assigned_room_type', \"reserved_room_type\"], axis=1, inplace=True)"
   ]
  },
  {
   "cell_type": "code",
   "execution_count": null,
   "id": "b32bd61d",
   "metadata": {},
   "outputs": [],
   "source": [
    "hotel['reserved_is_assigned'].value_counts()"
   ]
  },
  {
   "cell_type": "markdown",
   "id": "7fc248a4",
   "metadata": {},
   "source": [
    "This reserved_is_assigned column serves as a valuable indicator of whether guests receive the specific room type they initially reserved, which can be useful for analyzing guest satisfaction and booking accuracy within the hotel dataset"
   ]
  },
  {
   "cell_type": "markdown",
   "id": "b3677141-febb-4c26-a510-affcfda77cce",
   "metadata": {},
   "source": [
    "## 7.6 Creating a single datetime column"
   ]
  },
  {
   "cell_type": "code",
   "execution_count": null,
   "id": "e28412de",
   "metadata": {},
   "outputs": [],
   "source": [
    "#Combine the 'arrival_date_year', 'arrival_date_month', and 'arrival_date_day_of_month' columns into a single datetime column\n",
    "hotel['arrival_date'] = hotel['arrival_date_year'].astype(str) + \"-\" + hotel['arrival_date_month'] + \"-\" + hotel['arrival_date_day_of_month'].astype(str)\n",
    "\n",
    "# Convert the combined column to datetime format\n",
    "hotel['arrival_date'] = pd.to_datetime(hotel['arrival_date'], format=\"%Y-%B-%d\")\n",
    "\n",
    "# Format the datetime column as \"%Y-%m-%d\"\n",
    "hotel['arrival_date'] = hotel['arrival_date'].dt.strftime(\"%Y-%m-%d\")\n",
    "hotel.drop(['arrival_date_year', \"arrival_date_month\", \"arrival_date_day_of_month\"], axis=1, inplace=True)"
   ]
  },
  {
   "cell_type": "markdown",
   "id": "116387e3",
   "metadata": {},
   "source": [
    "Combine the 'arrival_date_year,' 'arrival_date_month,' and 'arrival_date_day_of_month' columns into a single column and then convert the resultant column to the standard \"%Y-%m-%d\" format"
   ]
  },
  {
   "cell_type": "markdown",
   "id": "ac2e024c-269b-4def-bf1b-45271ce0eaad",
   "metadata": {},
   "source": [
    "**Combining number of cancelations greater than 0 into one 'cancelations_rate'feature**"
   ]
  },
  {
   "cell_type": "code",
   "execution_count": null,
   "id": "be56b47b-a9aa-40c8-a6d6-6af7ea8d394a",
   "metadata": {},
   "outputs": [],
   "source": [
    "hotel[\"cancelations_rate\"] = hotel.apply(lambda row: (row[\"previous_cancellations\"] / (row[\"previous_cancellations\"] + row[\"previous_bookings_not_canceled\"])) if row[\"previous_cancellations\"] > 0 else 0, axis=1)\n",
    "hotel.drop([\"previous_cancellations\", \"previous_bookings_not_canceled\"], axis = 1,inplace=True)"
   ]
  },
  {
   "cell_type": "markdown",
   "id": "52b3a55e-48ea-49ac-9852-4f5d5a3b334a",
   "metadata": {},
   "source": [
    "## 7.7 Creating a binary feature to represent involvement of an agent in booking"
   ]
  },
  {
   "cell_type": "code",
   "execution_count": null,
   "id": "ed1afe55",
   "metadata": {},
   "outputs": [],
   "source": [
    "#NEEDS TO BE FIXED!!\n",
    "#Create a binary feature indicating whether an agent was involved in the booking.\n",
    "hotel['agent_involved'] = hotel['agent'].notna().astype(int)\n",
    "hotel.drop(['agent'], axis=1, inplace=True)\n"
   ]
  },
  {
   "cell_type": "code",
   "execution_count": null,
   "id": "5eb806b6",
   "metadata": {},
   "outputs": [],
   "source": [
    "hotel.head()"
   ]
  },
  {
   "cell_type": "code",
   "execution_count": null,
   "id": "e6589739",
   "metadata": {},
   "outputs": [],
   "source": [
    "#drop datetime columns\n",
    "columns = [\"reservation_status_date\", \"arrival_date\", \"reservation_status\"]\n",
    "hotel.drop(columns, axis=1, inplace=True)"
   ]
  },
  {
   "cell_type": "code",
   "execution_count": null,
   "id": "1d680628",
   "metadata": {},
   "outputs": [],
   "source": [
    "# Moving the \"hotel\" column of the hotel DataFrame to index 1\n",
    "hotel_column = hotel['hotel']\n",
    "\n",
    "# Drop the 'hotel' column from the DataFrame\n",
    "hotel.drop(columns='hotel', inplace=True)\n",
    "\n",
    "# Reinsert the 'hotel' column at index 1\n",
    "hotel.insert(1, 'hotel', hotel_column)\n",
    "\n",
    "# Use a lambda function to keep only the first names of the hotel column\n",
    "hotel['hotel'] = hotel['hotel'].apply(lambda x: x.split()[0])"
   ]
  },
  {
   "cell_type": "markdown",
   "id": "697a81b3-34f1-4479-ae96-8cf1f1847aac",
   "metadata": {},
   "source": [
    "## 7.8 One-Hot encoding"
   ]
  },
  {
   "cell_type": "code",
   "execution_count": null,
   "id": "24b5749a",
   "metadata": {},
   "outputs": [],
   "source": [
    "categorical_columns = [\"hotel\",\"meal\", \"country\", \"market_segment\", \n",
    "                       \"distribution_channel\", \"deposit_type\", \"customer_type\", \"lead_time_category\"]"
   ]
  },
  {
   "cell_type": "code",
   "execution_count": null,
   "id": "9bfcfc24",
   "metadata": {},
   "outputs": [],
   "source": [
    "hotel_encoded = pd.get_dummies(hotel, columns = categorical_columns, drop_first=True)"
   ]
  },
  {
   "cell_type": "markdown",
   "id": "f3b88b33-bb5f-438f-9d84-799901b468a6",
   "metadata": {},
   "source": [
    "## 7.9 Performing train test split"
   ]
  },
  {
   "cell_type": "code",
   "execution_count": null,
   "id": "36c34642",
   "metadata": {},
   "outputs": [],
   "source": [
    "# Scaling and splitting data into training and testing sets\n",
    "X = hotel_encoded.drop(columns=['is_canceled'])  # Features (excluding 'is_canceled')\n",
    "y = hotel_encoded['is_canceled']  # Target variable\n",
    "\n",
    "#Scale the features using StandardScaler\n",
    "scaler = StandardScaler()\n",
    "X_scaled = scaler.fit_transform(X)\n",
    "\n",
    "# Split the data into training and testing sets.\n",
    "X_train, X_test, y_train, y_test = train_test_split(X_scaled, y, test_size=0.2, random_state=42)"
   ]
  },
  {
   "cell_type": "markdown",
   "id": "5bc6f08c",
   "metadata": {},
   "source": [
    "## 7.10 Class imbalance"
   ]
  },
  {
   "cell_type": "markdown",
   "id": "61c4a287-81c3-408e-9da2-d89ae457fe16",
   "metadata": {},
   "source": [
    "This refers to a situation where distribution of classes are not equal which can have significant impact on machine learning models. We addressed class imbalace of the training dataset using SMOTE function."
   ]
  },
  {
   "cell_type": "code",
   "execution_count": null,
   "id": "a6fc3319",
   "metadata": {},
   "outputs": [],
   "source": [
    "print(y_train.value_counts()) "
   ]
  },
  {
   "cell_type": "code",
   "execution_count": null,
   "id": "9938263d",
   "metadata": {},
   "outputs": [],
   "source": [
    "smote = SMOTE(random_state=42)\n",
    "\n",
    "X_train_balance, y_train_balance = smote.fit_resample(X_train, y_train)\n",
    "\n",
    "print(y_train_balance.value_counts()) "
   ]
  },
  {
   "cell_type": "markdown",
   "id": "d0c1ea5c-1152-41bb-808e-6b78734ccf9d",
   "metadata": {},
   "source": [
    "# 8. Data Modelling"
   ]
  },
  {
   "cell_type": "markdown",
   "id": "ecdd9b55",
   "metadata": {},
   "source": [
    "#### Classification_report\n",
    "A classification report is a table that summarizes the performance of a classification model. It contains the following information:\n",
    "\n",
    "* Accuracy: The overall accuracy of the model.\n",
    "* Precision: The proportion of true positives out of all positive predictions.\n",
    "* Recall: The proportion of true positives out of all actual positives.\n",
    "* F1 score: A weighted average of precision and recall.\n",
    "* Support: The number of instances in each class.\n",
    "\n",
    "The classification report is a useful tool for evaluating the performance of a classification model. It can help to identify the strengths and weaknesses of the model, and to make decisions about how to improve the model."
   ]
  },
  {
   "cell_type": "markdown",
   "id": "5832a0a4",
   "metadata": {},
   "source": [
    "## 8.1 Logistic Regression"
   ]
  },
  {
   "cell_type": "code",
   "execution_count": null,
   "id": "1d6bc67f",
   "metadata": {},
   "outputs": [],
   "source": [
    "# Create an instance of the Logistic Regression model\n",
    "logistic_model = LogisticRegression(random_state=42)"
   ]
  },
  {
   "cell_type": "code",
   "execution_count": null,
   "id": "9e737de4",
   "metadata": {},
   "outputs": [],
   "source": [
    "# Fit the model on the training data\n",
    "logistic_model.fit(X_train_balance, y_train_balance)"
   ]
  },
  {
   "cell_type": "code",
   "execution_count": null,
   "id": "9c1bf6d5",
   "metadata": {},
   "outputs": [],
   "source": [
    "# Predict the target values for the test data\n",
    "y_pred = logistic_model.predict(X_test)"
   ]
  },
  {
   "cell_type": "code",
   "execution_count": null,
   "id": "198c0c96",
   "metadata": {},
   "outputs": [],
   "source": [
    "# Calculate accuracy\n",
    "accuracy = accuracy_score(y_test, y_pred)\n",
    "print(f'Accuracy: {accuracy:.2f}')\n",
    "\n",
    "# Generating a classification report\n",
    "classification_rep = classification_report(y_test, y_pred)\n",
    "print('Classification Report:\\n', classification_rep)\n",
    "\n",
    "# Generating a confusion matrix\n",
    "conf_matrix = confusion_matrix(y_test, y_pred)\n",
    "print('Confusion Matrix:\\n', conf_matrix)"
   ]
  },
  {
   "cell_type": "markdown",
   "id": "d1da0acf-f577-4906-bd45-62aa3b49f285",
   "metadata": {},
   "source": [
    "### Saving the model"
   ]
  },
  {
   "cell_type": "code",
   "execution_count": null,
   "id": "c8f43258-4a43-42a0-a30f-21118c861833",
   "metadata": {},
   "outputs": [],
   "source": [
    "# Save the model\n",
    "joblib.dump(logistic_model, 'models/logistic_regression_model.pkl')\n",
    "\n",
    "# Load the model (for later use)\n",
    "loaded_model = joblib.load('models/logistic_regression_model.pkl')\n",
    "\n",
    "# Make predictions using the loaded model\n",
    "y_pred_loaded = loaded_model.predict(X_test)"
   ]
  },
  {
   "cell_type": "markdown",
   "id": "d4168055-ba6e-44ad-bbf4-4a1d5585b6a5",
   "metadata": {},
   "source": [
    "### Dealing with same number of features as flask"
   ]
  },
  {
   "cell_type": "code",
   "execution_count": null,
   "id": "7ab6752e-184f-4db8-bed2-b85cdb9d9acb",
   "metadata": {},
   "outputs": [],
   "source": [
    "# One-hot encode categorical variables\n",
    "categorical_columns = [\"hotel\", \"meal\", \"country\", \"market_segment\", \n",
    "                       \"distribution_channel\", \"deposit_type\", \"customer_type\", \"lead_time_category\"]\n",
    "\n",
    "hotel_encoded = pd.get_dummies(hotel, columns=categorical_columns, drop_first=True)\n",
    "\n",
    "# Save feature names for later\n",
    "feature_names = hotel_encoded.drop(columns=['is_canceled']).columns\n",
    "joblib.dump(feature_names, \"feature_names.pkl\")\n",
    "\n",
    "# Separate features and target variable\n",
    "X = hotel_encoded.drop(columns=['is_canceled'])\n",
    "y = hotel_encoded['is_canceled']\n",
    "\n",
    "# Scale features\n",
    "scaler = StandardScaler()\n",
    "X_scaled = scaler.fit_transform(X)\n",
    "\n",
    "# Save the scaler\n",
    "joblib.dump(scaler, \"scaler.pkl\")\n",
    "\n",
    "# Split data\n",
    "X_train, X_test, y_train, y_test = train_test_split(X_scaled, y, test_size=0.2, random_state=42)\n",
    "\n",
    "# Apply SMOTE to balance the dataset\n",
    "smote = SMOTE(random_state=42)\n",
    "X_train_balance, y_train_balance = smote.fit_resample(X_train, y_train)\n",
    "\n",
    "# Train logistic regression model\n",
    "logistic_model = LogisticRegression(random_state=42)\n",
    "logistic_model.fit(X_train_balance, y_train_balance)\n",
    "\n",
    "# Save trained model\n",
    "joblib.dump(logistic_model, \"models/logistic_regression_model.pkl\")"
   ]
  },
  {
   "cell_type": "markdown",
   "id": "e5bb22b9",
   "metadata": {},
   "source": [
    "### Evaluating the model\n",
    "\n",
    "Accuracy is a measure of how well a model predicts the correct output. It is calculated by dividing the number of correct predictions by the total number of predictions. Accuracy is a useful metric for evaluating models, but it can be misleading if the data is imbalanced."
   ]
  },
  {
   "cell_type": "code",
   "execution_count": null,
   "id": "9d445298",
   "metadata": {},
   "outputs": [],
   "source": [
    "# Predict on the test set\n",
    "y_pred = logistic_model.predict(X_test)\n",
    "\n",
    "# Calculate accuracy\n",
    "accuracy = accuracy_score(y_test, y_pred)\n",
    "print(\"Accuracy:\", accuracy)"
   ]
  },
  {
   "cell_type": "markdown",
   "id": "8e89351e-f39a-47a3-9525-397b750949ad",
   "metadata": {},
   "source": [
    "This means that our classification model achieved an accuracy of 0.8203, this means that approximately 82.03% of the predictions made by the model were correct."
   ]
  },
  {
   "cell_type": "code",
   "execution_count": null,
   "id": "d631fdc4",
   "metadata": {},
   "outputs": [],
   "source": [
    "# Get predicted labels for the test set\n",
    "y_pred = logistic_model.predict(X_test)\n",
    "\n",
    "# Generate classification report\n",
    "report = classification_report(y_test, y_pred, target_names=[\"Class 0\", \"Class 1\"])\n",
    "\n",
    "# Print the classification report\n",
    "print(report)"
   ]
  },
  {
   "cell_type": "markdown",
   "id": "00a4471e-1960-4c2c-af74-98837a1f6306",
   "metadata": {},
   "source": [
    "## 8.2 Decision Trees"
   ]
  },
  {
   "cell_type": "code",
   "execution_count": null,
   "id": "85935310-6f63-410a-acc7-f7ea9114d761",
   "metadata": {},
   "outputs": [],
   "source": [
    "# #creating a classifier and fitting it\n",
    "# clf = DecisionTreeClassifier(random_state=42)\n",
    "# clf.fit(X_train, y_train)"
   ]
  },
  {
   "cell_type": "code",
   "execution_count": null,
   "id": "445ab397-bea6-4f00-825b-8b8a7c54f2f5",
   "metadata": {},
   "outputs": [],
   "source": [
    "# #fuction to get Evaluation metrics for classification\n",
    "# def results(a,b):\n",
    "#     print(f'accuracy_score   {accuracy_score(a,b)}\\n'\n",
    "#           f'precision         {precision_score(a,b)}\\n'\n",
    "#           f'recall_score      {recall_score(a,b)}\\n'\n",
    "#           f'f1_score          {f1_score(a,b)}')"
   ]
  },
  {
   "cell_type": "code",
   "execution_count": null,
   "id": "81fa8fef-b0ee-41ef-8ca9-11974c5f7b89",
   "metadata": {},
   "outputs": [],
   "source": [
    "# #making predictions on both the train and test data\n",
    "# y_train_predict = clf.predict(X_train)\n",
    "# y_test_predict = clf.predict(X_test)\n",
    "\n",
    "# #evaluating the performance by looking at the accuracy,precision, recall_score and f1 score\n",
    "\n",
    "# print(results(y_train, y_train_predict))\n",
    "# print(results(y_test, y_test_predict))"
   ]
  },
  {
   "cell_type": "code",
   "execution_count": null,
   "id": "ce1d4f2a-ffd6-45b1-9fc4-87b674a127df",
   "metadata": {},
   "outputs": [],
   "source": [
    "# # Evaluate the model's performance\n",
    "# accuracy = accuracy_score(y_test, y_test_predict)\n",
    "# conf_matrix = confusion_matrix(y_test, y_test_predict)\n",
    "\n",
    "# # Print the results\n",
    "# print(f\"Accuracy: {accuracy:.2f}\")\n",
    "# print(\"Confusion Matrix:\")\n",
    "# print(conf_matrix)"
   ]
  },
  {
   "cell_type": "code",
   "execution_count": null,
   "id": "7fc5ddf0-9b11-4c9d-972a-6ba2108dfe92",
   "metadata": {},
   "outputs": [],
   "source": [
    "# #trying to improve model by Hyperparameter Tuning using gridsearch\n",
    "# clf_grid = DecisionTreeClassifier(random_state=42)\n",
    "\n",
    "# param_grid = {\n",
    "#     'criterion': ['gini', 'entropy'],\n",
    "#     'max_depth': [ 10, 15, 20,25],\n",
    "#     'min_samples_split': [10,15, 20, 25, 30]\n",
    "# }\n",
    "\n",
    "# gs_tree = GridSearchCV(clf_grid, param_grid, cv=5)\n",
    "# gs_tree.fit(X_train_balance, y_train_balance)\n",
    "\n",
    "# gs_tree.best_params_"
   ]
  },
  {
   "cell_type": "code",
   "execution_count": null,
   "id": "c338a370-d136-4539-b71a-d1c5fbb6af8a",
   "metadata": {},
   "outputs": [],
   "source": [
    "# # making  predictions on the train and test data and viewing our evaluation metrics for the second DecisionTreeClassifier\n",
    "# y_train_clf_grid_pred = gs_tree.predict(X_train_balance)\n",
    "# y_test_clf_grid_pred = gs_tree.predict(X_test)\n",
    "\n",
    "# results(y_train_balance,y_train_clf_grid_pred)\n",
    "# results(y_test,y_test_clf_grid_pred)"
   ]
  },
  {
   "cell_type": "code",
   "execution_count": null,
   "id": "4e8319f2-8565-416a-a66c-f6430c587d76",
   "metadata": {},
   "outputs": [],
   "source": [
    "# false_positive_rate, true_positive_rate, thresholds = roc_curve(y_test, y_test_predict)\n",
    "# roc_auc = auc(false_positive_rate, true_positive_rate)\n",
    "# roc_auc"
   ]
  },
  {
   "cell_type": "code",
   "execution_count": null,
   "id": "39036ee1-2158-4168-a0a7-ad99ad62288d",
   "metadata": {},
   "outputs": [],
   "source": [
    "# clf_2 = DecisionTreeClassifier(random_state=42)\n",
    "# clf_2.fit(X_train_balance, y_train_balance)\n",
    "\n",
    "# #making predictions on both the train and test data\n",
    "# y_train_predict_2 = clf_2.predict(X_train_balance)\n",
    "# y_test_predict_2 = clf_2.predict(X_test)\n",
    "\n",
    "# #evaluating the performance by looking at the accuracy,precision, recall_score and f1 score\n",
    "# print(results(y_train_balance, y_train_predict_2))\n",
    "# print(results(y_test, y_test_predict_2))"
   ]
  },
  {
   "cell_type": "code",
   "execution_count": null,
   "id": "e8311f97-ba21-4bce-9bbc-773f72feee17",
   "metadata": {},
   "outputs": [],
   "source": [
    "# # Evaluate the model's performance\n",
    "# accuracy_2 = accuracy_score(y_test, y_test_predict_2)\n",
    "# conf_matrix_2 = confusion_matrix(y_test, y_test_predict_2)\n",
    "\n",
    "# # Print the results\n",
    "# print(f\"Accuracy: {accuracy_2:.2f}\")\n",
    "# print(\"Confusion Matrix:\")\n",
    "# print(conf_matrix_2)"
   ]
  },
  {
   "cell_type": "code",
   "execution_count": null,
   "id": "ac2d6130-a9fa-4b07-a71b-4be1c99eaa3a",
   "metadata": {},
   "outputs": [],
   "source": [
    "# #trying to improve model by Hyperparameter Tuning using gridsearch\n",
    "\n",
    "# clf_grid_2 = DecisionTreeClassifier(random_state=42)\n",
    "\n",
    "# param_grid = {\n",
    "#     'criterion': ['gini', 'entropy'],\n",
    "#     'max_depth': [ 10, 15, 20,25],\n",
    "#     'min_samples_split': [ 10,15, 20, 25, 30]\n",
    "# }\n",
    "\n",
    "# gs_tree_2 = GridSearchCV(clf_grid_2, param_grid, cv = 5)\n",
    "# gs_tree_2.fit(X_train_balance, y_train_balance)\n",
    "\n",
    "# gs_tree_2.best_params_"
   ]
  },
  {
   "cell_type": "code",
   "execution_count": null,
   "id": "7c03b83a-10f8-4596-be9f-66b6f866ff42",
   "metadata": {},
   "outputs": [],
   "source": [
    "# # making  predictions on the train and test data and viewing our evaluation metrics for the second DecisionTreeClassifier\n",
    "# y_train_clf_grid_pred_2 = gs_tree_2.predict(X_train_balance)\n",
    "# y_test_clf_grid_pred_2 = gs_tree_2.predict(X_test)\n",
    "\n",
    "# results(y_train_balance ,y_train_clf_grid_pred_2)\n",
    "# results(y_test, y_test_clf_grid_pred_2)"
   ]
  },
  {
   "cell_type": "code",
   "execution_count": null,
   "id": "985ac9fc-5820-433c-b3fa-e7c27c2d5110",
   "metadata": {},
   "outputs": [],
   "source": [
    "# false_positive_rate_2, true_positive_rate_2, thresholds_2 = roc_curve(y_test, y_test_predict_2)\n",
    "# roc_auc_2= auc(false_positive_rate_2, true_positive_rate_2)\n",
    "# roc_auc_2"
   ]
  },
  {
   "cell_type": "code",
   "execution_count": null,
   "id": "5f1807fd-6f7a-49cd-a090-f9cdb62d9870",
   "metadata": {},
   "outputs": [],
   "source": [
    "# # Assign the cross validated score to dt_cv\n",
    "# clf_cv = cross_val_score(clf_grid_2, X_train_balance, y_train_balance, cv = 5)\n",
    "\n",
    "# clf_cv"
   ]
  },
  {
   "cell_type": "code",
   "execution_count": null,
   "id": "b75d61b5-e9a0-48e8-832e-fff3bfce4a48",
   "metadata": {},
   "outputs": [],
   "source": [
    "# # Assign the cross validated score to dt_cv\n",
    "# clf_cv = cross_val_score(clf_grid, X_train, y_train, cv=5)\n",
    "\n",
    "# clf_cv"
   ]
  },
  {
   "cell_type": "markdown",
   "id": "db15eb52-1068-43c3-b736-b65e30df1896",
   "metadata": {},
   "source": [
    "**Evaluating the model**"
   ]
  },
  {
   "cell_type": "markdown",
   "id": "f5458b10-63e4-4819-9e37-23d109442811",
   "metadata": {},
   "source": [
    "The model above gave an accuracy of 92% of training data showing a correct prediction of the target variable and 84% of test data showing that it lower than the training data after performing hyperparameter tuning. The difference between the accuracy scores of both training and test data may suggest that though the model may be performing well there is need for further evaluation to improve on its application on unseen data.\n",
    "\n",
    "The model showed an ROC-AUC score of 83.875% which is quite good. This evidently shows that the model is effective in classifying both the true negative and true positive instances."
   ]
  },
  {
   "cell_type": "markdown",
   "id": "2f34407f-ba12-4071-9d9c-6936bbaa32f4",
   "metadata": {},
   "source": [
    "## 8.3 KNN"
   ]
  },
  {
   "cell_type": "code",
   "execution_count": null,
   "id": "69c47d23-305a-4e48-9d6b-e9b0f3f3af02",
   "metadata": {},
   "outputs": [],
   "source": [
    "# Create a confusion matrix and plot it as a heatmap\n",
    "conf_matrix = confusion_matrix(y_test, y_pred)\n",
    "\n",
    "plt.figure(figsize=(8, 6))\n",
    "sns.heatmap(conf_matrix, annot=True, fmt='d', cmap='Blues',\n",
    "            xticklabels=['Not Canceled', 'Canceled'],\n",
    "            yticklabels=['Not Canceled', 'Canceled'])\n",
    "plt.xlabel('Predicted')\n",
    "plt.ylabel('Actual')\n",
    "plt.title('Confusion Matrix')\n",
    "plt.show()"
   ]
  },
  {
   "cell_type": "code",
   "execution_count": null,
   "id": "5ab63cb6-8adf-4781-b54c-c18ff7dfa5d4",
   "metadata": {},
   "outputs": [],
   "source": [
    "knn = KNeighborsClassifier(n_neighbors=5)\n",
    "\n",
    "# Fit the classifier to the training data\n",
    "knn.fit(X_train, y_train)\n",
    "\n",
    "# Make predictions on the test data\n",
    "y_pred = knn.predict(X_test)"
   ]
  },
  {
   "cell_type": "code",
   "execution_count": null,
   "id": "ba3a0413-7293-4dc1-bd80-36fdd0f041dd",
   "metadata": {},
   "outputs": [],
   "source": [
    "# Calculate accuracy\n",
    "accuracy = accuracy_score(y_test, y_pred)\n",
    "print(f'Accuracy: {accuracy * 100:.2f}%')"
   ]
  },
  {
   "cell_type": "code",
   "execution_count": null,
   "id": "d34a1b1a-f97f-4ad2-bda4-386f95ada09f",
   "metadata": {},
   "outputs": [],
   "source": [
    "# Save the trained model to a file\n",
    "joblib.dump(knn, 'models/knn_model.pkl')"
   ]
  },
  {
   "cell_type": "code",
   "execution_count": null,
   "id": "0835b53a-23f7-4deb-869a-7e4568c66d6c",
   "metadata": {},
   "outputs": [],
   "source": [
    "# # Create a confusion matrix and plot it as a heatmap\n",
    "# conf_matrix = confusion_matrix(y_test, y_pred)\n",
    "\n",
    "\n",
    "# plt.figure(figsize=(8, 6))\n",
    "# sns.heatmap(conf_matrix, annot=True, fmt='d', cmap='Blues',\n",
    "#             xticklabels=['Not Canceled', 'Canceled'],\n",
    "#             yticklabels=['Not Canceled', 'Canceled'])\n",
    "# plt.xlabel('Predicted')\n",
    "# plt.ylabel('Actual')\n",
    "# plt.title('Confusion Matrix')\n",
    "# plt.show()"
   ]
  },
  {
   "cell_type": "code",
   "execution_count": null,
   "id": "a0681219-3570-496c-9e4f-12cc2aab1f2b",
   "metadata": {},
   "outputs": [],
   "source": [
    "# pca = PCA(n_components=3)\n",
    "# X_pca = pca.fit_transform(X_train)\n",
    "\n",
    "# fig = plt.figure(figsize=(8, 6))\n",
    "# ax = fig.add_subplot(111, projection='3d')\n",
    "\n",
    "# colors = np.where(y_train == 1, 'blue', 'red')\n",
    "\n",
    "# scatter = ax.scatter(X_pca[:, 0], X_pca[:, 1], X_pca[:, 2], c=colors)\n",
    "\n",
    "# def update(num):\n",
    "#     ax.view_init(elev=num, azim=num*2) \n",
    "#     return scatter,\n",
    "\n",
    "# ani = FuncAnimation(fig, update, frames=np.arange(0, 360, 5), interval=100)\n",
    "# ax.set_xlabel('Principal Component 1')\n",
    "# ax.set_ylabel('Principal Component 2')\n",
    "# ax.set_zlabel('Principal Component 3')\n",
    "# plt.title('PCA of Hotel Booking Data (3D Animation)')\n",
    "\n",
    "# plt.show()"
   ]
  },
  {
   "cell_type": "markdown",
   "id": "fdf8a12e-b96d-4105-8229-7ec4e63f7926",
   "metadata": {},
   "source": [
    "## 8.4 Random Forest"
   ]
  },
  {
   "cell_type": "code",
   "execution_count": null,
   "id": "836bf5dc-b4d5-43a5-9695-1a7311a54cfe",
   "metadata": {},
   "outputs": [],
   "source": [
    "# #Create a Random Forest Classifier with 100 trees(default)\n",
    "# clf = RandomForestClassifier(n_estimators=100)\n",
    "\n",
    "# #Train the model using the training sets y_pred=clf.predict(X_test)\n",
    "# clf.fit(X_train_balance, y_train_balance)\n",
    "\n",
    "# y_pred = clf.predict(X_test)\n",
    "\n",
    "# # Model Accuracy, how often is the classifier correct?\n",
    "# print(\"Accuracy:\",metrics.accuracy_score(y_test, y_pred))"
   ]
  },
  {
   "cell_type": "code",
   "execution_count": null,
   "id": "8aefd362-51a4-448b-8272-9335a5e2d199",
   "metadata": {},
   "outputs": [],
   "source": [
    "# # Calculate the confusion matrix\n",
    "# confusion = confusion_matrix(y_test, y_pred)\n",
    "\n",
    "# # Create a figure for plotting\n",
    "# plt.figure(figsize=(8, 6))\n",
    "\n",
    "# # Plot the confusion matrix as a heatmap\n",
    "# plt.imshow(confusion, cmap='Blues', interpolation='nearest')\n",
    "# plt.title('Confusion Matrix')\n",
    "# plt.colorbar()\n",
    "\n",
    "# # Create labels for the confusion matrix\n",
    "# classes = [0, 1]  # Replace with your class labels if different\n",
    "# tick_marks = range(len(classes))\n",
    "# plt.xticks(tick_marks, classes)\n",
    "# plt.yticks(tick_marks, classes)\n",
    "\n",
    "# # Add annotations to the heatmap\n",
    "# for i in range(len(classes)):\n",
    "#     for j in range(len(classes)):\n",
    "#         plt.text(j, i, str(confusion[i, j]), horizontalalignment='center', verticalalignment='center')\n",
    "\n",
    "# plt.xlabel('Predicted Labels')\n",
    "# plt.ylabel('True Labels')\n",
    "\n",
    "# plt.show()"
   ]
  },
  {
   "cell_type": "code",
   "execution_count": null,
   "id": "5971ae04-f1a7-4e24-9857-8754ba90694c",
   "metadata": {},
   "outputs": [],
   "source": [
    "# accuracy_0 = confusion_matrix(y_test,clf.predict(X_test))[0][0] / (confusion_matrix(y_test,clf.predict(X_test))[0][0]+ confusion_matrix(y_test,clf.predict(X_test))[0][1])\n",
    "# accuracy_1 = confusion_matrix(y_test,clf.predict(X_test))[1][1] / (confusion_matrix(y_test,clf.predict(X_test))[1][0]+ confusion_matrix(y_test,clf.predict(X_test))[1][1])\n",
    "\n",
    "# print(\"Accuracy of Not Cancelled :\",accuracy_0)\n",
    "# print(\"Accuracy of Cancelled :\", accuracy_1)"
   ]
  },
  {
   "cell_type": "markdown",
   "id": "6775d870-71f1-4aca-bc26-5b0b5fa28209",
   "metadata": {},
   "source": [
    "## 8.5 Gradient Boosting"
   ]
  },
  {
   "cell_type": "markdown",
   "id": "12ac5e0a-bc5e-4a64-9d57-3801973178c1",
   "metadata": {},
   "source": [
    "In this model we use the Pipeline module and pass all the preprocessing steps required and model, then evaluate the model metrics on both training and test datasets. In the pipeline we wil pass the folowing module;"
   ]
  },
  {
   "cell_type": "markdown",
   "id": "736db9f3-0731-4130-9ac2-d6fd65ff2c8b",
   "metadata": {},
   "source": [
    "* GradientBoostingClassifer as our model and fitting a baseline model for the gradiet decent boosting with default parameters"
   ]
  },
  {
   "cell_type": "code",
   "execution_count": null,
   "id": "8f25349c-3efe-4059-85b7-860674490a77",
   "metadata": {},
   "outputs": [],
   "source": [
    "# X = X_train_balance  # Features\n",
    "# y = y_train_balance  # Target variable\n",
    "# # creating pipe\n",
    "# pipe= Pipeline([('gb_clf', GradientBoostingClassifier(random_state =42))])\n",
    "\n",
    "# # fiting the pipe on the train data\n",
    "# pipe.fit(X, y)"
   ]
  },
  {
   "cell_type": "markdown",
   "id": "6eb3ee97-2ad1-492e-acfb-28d4da9e5b45",
   "metadata": {},
   "source": [
    "We will investigate the accuracy of our model on the training data using cross validation in order to evaluate the training and test scores used cross-validation to evaluate the model's performance on multiple folds of the training data. This helps in assessing the model's generalization performance and avoids overfitting."
   ]
  },
  {
   "cell_type": "code",
   "execution_count": null,
   "id": "e45b383a-eb6e-4b05-bcaf-7c7cf817bf00",
   "metadata": {},
   "outputs": [],
   "source": [
    "# # GradientBoosting model predictions on training data\n",
    "# gb_means=cross_validate( pipe, \n",
    "#                         X,\n",
    "#                         y, \n",
    "#                         cv=3, \n",
    "#                         scoring=['accuracy','f1','precision','recall'],\n",
    "#                         return_train_score= True)\n",
    "\n",
    "# train=['train_accuracy','train_f1','train_precision','train_recall']\n",
    "# test=['test_accuracy','test_f1','test_precision','test_recall']\n",
    "# names=[\"Training\",\"Testing\"]\n",
    "# for index, list_ in enumerate([train,test]):\n",
    "#     print(names[index])\n",
    "#     print(f\"Mean Accuracy score: {gb_means[list_[0]].mean()}\")\n",
    "#     print(f\" Mean F1-score: {gb_means[list_[0+1]].mean()}\")\n",
    "#     print(f\" Mean Precision: {gb_means[list_[0+2]].mean()}\")\n",
    "#     print(f\" Mean Recall: {gb_means[list_[0+3]].mean()}\")\n",
    "#     print('----------------------------------------------')"
   ]
  },
  {
   "cell_type": "code",
   "execution_count": null,
   "id": "7d7a1640-155f-4540-9dd9-a90e8bcca769",
   "metadata": {},
   "outputs": [],
   "source": [
    "# # creating a parameters dictionary\n",
    "# params= {\n",
    "#     'gb_clf__learning_rate' : [0.1],\n",
    "#     'gb_clf__max_features' : [None, 'sqrt', 'log2'],\n",
    "#     'gb_clf__n_estimators' : [100],\n",
    "#     'gb_clf__min_samples_split' : [2,5],\n",
    "#     'gb_clf__max_depth' : [6] \n",
    "#  }\n",
    "\n",
    "# #instatiating the GridSearchCV\n",
    "# grid_gb= RandomizedSearchCV( estimator= pipe , \n",
    "#                               param_distributions =params,\n",
    "#                               cv=3, \n",
    "#                               scoring='accuracy',\n",
    "#                               n_iter=6 ,\n",
    "#                               n_jobs=-1)\n",
    "\n",
    "# #fitting the grid on the train data\n",
    "# grid_gb.fit(X, y)"
   ]
  },
  {
   "cell_type": "code",
   "execution_count": null,
   "id": "95ef6cff-316c-4f09-b5d3-be1eb0cfe172",
   "metadata": {},
   "outputs": [],
   "source": [
    "# # printing the best found parameters\n",
    "# best_params=grid_gb.best_params_    # assigning best parameters to best_params\n",
    "# print(\"Best Parameter Combination Found During Grid Search:\")\n",
    "# for param, value in best_params.items():     #looping over the best parameters dictionary\n",
    "#     print(param,': ',value)                  # printing the values\n",
    "    \n",
    "# print(f\"Best Accuracy Score: {grid_gb.best_score_}\")    #printing the best identified accuracy"
   ]
  },
  {
   "cell_type": "code",
   "execution_count": null,
   "id": "ef4e0f06-0800-419b-95a3-f7dc77348895",
   "metadata": {},
   "outputs": [],
   "source": [
    "# # using the grid to evaluate the perfomance of the model\n",
    "\n",
    "# gb_means=cross_validate( grid_gb,             # instantiating the cross validate\n",
    "#                         X,\n",
    "#                         y , \n",
    "#                         cv=3, \n",
    "#                         scoring=['accuracy','f1','precision','recall'],\n",
    "#                         return_train_score= True)\n",
    "\n",
    "# # pritting the cross validate scores through a for loop\n",
    "# train=['train_accuracy','train_f1','train_precision','train_recall']\n",
    "# test=['test_accuracy','test_f1','test_precision','test_recall']\n",
    "# names=[\"Training\",\"Testing\"]\n",
    "# for index, list_ in enumerate([train,test]):\n",
    "#     print(names[index])\n",
    "#     print(f\"Mean Accuracy score: {gb_means[list_[0]].mean()}\")\n",
    "#     print(f\" Mean F1-score: {gb_means[list_[0+1]].mean()}\")\n",
    "#     print(f\" Mean Precision: {gb_means[list_[0+2]].mean()}\")\n",
    "#     print(f\" Mean Recall: {gb_means[list_[0+3]].mean()}\")\n",
    "#     print('----------------------------------------------')"
   ]
  },
  {
   "cell_type": "code",
   "execution_count": null,
   "id": "6a0942fa-139e-4a47-8667-bf7a01df170d",
   "metadata": {},
   "outputs": [],
   "source": [
    "# # printing the training and testing metrics\n",
    "# ys= [y, y_test]                                # target list\n",
    "# names= ['Training', 'Testing']                                 # names list\n",
    "# for index,values in enumerate([X, X_test]):   # looping over predictors list\n",
    "#     pred = grid_gb.predict(values)                             # fitting the grid \n",
    "#     print( names[index])                                        # printing the names\n",
    "#     print(f\"Accuracy: {accuracy_score(ys[index], pred)}\")       # calculating accuracy\n",
    "#     print(f\"f1 score: {f1_score(ys[index], pred)}\")       # calculating f1 score     \n",
    "#     print(f\"Precision: {precision_score(ys[index], pred)}\")       # calculating precision\n",
    "#     print(f\"Recall: {recall_score(ys[index], pred)}\")       # calculating recall\n",
    "#     print(\"------------------------------------------- \\n\")\n"
   ]
  },
  {
   "cell_type": "code",
   "execution_count": null,
   "id": "df4a190b-b529-4ff3-a684-f1096686a0b6",
   "metadata": {},
   "outputs": [],
   "source": [
    "# grid_gb = GradientBoostingClassifier()\n",
    "# model_file_path = 'models/gradient_boost_model.pkl'\n",
    "\n",
    "# # Save the model to the specified file\n",
    "# with open(model_file_path, 'wb') as model_file:\n",
    "#     pickle.dump(grid_gb, model_file)"
   ]
  },
  {
   "cell_type": "markdown",
   "id": "f056b1e1-3bb1-49b1-a407-dade6429fdda",
   "metadata": {},
   "source": [
    "## 8.6 SVM"
   ]
  },
  {
   "cell_type": "code",
   "execution_count": null,
   "id": "967ba8c7-e520-435a-a87f-5c2264c48e88",
   "metadata": {},
   "outputs": [],
   "source": [
    "# # Initialize SVM model\n",
    "# svm_model = SVC(kernel='linear', C=1.0, random_state=42)\n",
    "\n",
    "# # Train the SVM model on the scaled training data\n",
    "# svm_model.fit(X_train_balance, y_train_balance)\n",
    "\n",
    "# # Make predictions on the scaled test set\n",
    "# svm_predictions = svm_model.predict(X_test)\n",
    "\n",
    "# # Evaluate the performance of the SVM model\n",
    "# accuracy = accuracy_score(y_test, svm_predictions)\n",
    "# conf_matrix = confusion_matrix(y_test, svm_predictions)\n",
    "# classification_rep = classification_report(y_test, svm_predictions)\n",
    "\n",
    "# print(f'Accuracy: {accuracy:.4f}')\n",
    "# print('\\nConfusion Matrix:')\n",
    "# print(conf_matrix)\n",
    "# print('\\nClassification Report:')\n",
    "# print(classification_rep)"
   ]
  },
  {
   "cell_type": "code",
   "execution_count": null,
   "id": "2de99d8c-b801-4f6c-a590-2f9311626241",
   "metadata": {},
   "outputs": [],
   "source": [
    "# # Ensuring they have the same shape for cross-validation\n",
    "# smote = SMOTE(random_state=42)\n",
    "\n",
    "# # using smote to balance X_scaled and y\n",
    "# X_scaled, y = smote.fit_resample(X_train, y_train)\n",
    "\n",
    "# # displaying the shape\n",
    "# print(X_scaled.shape)\n",
    "# print(y.shape) "
   ]
  },
  {
   "cell_type": "code",
   "execution_count": null,
   "id": "6289b748-c1e1-42ab-8f38-705586659645",
   "metadata": {},
   "outputs": [],
   "source": [
    "# #Perform 5-fold cross-validation\n",
    "# cv_scores = cross_val_score(svm_model, X_scaled, y, cv=5)\n",
    "\n",
    "# # Print the cross-validation scores\n",
    "# print(\"Cross-Validation Scores:\", cv_scores)\n",
    "# print(\"Mean Accuracy:\", cv_scores.mean())"
   ]
  },
  {
   "cell_type": "markdown",
   "id": "5c16b99e-1294-492b-aa1d-5862bc36310a",
   "metadata": {},
   "source": [
    "## 8.7 Neural Networks"
   ]
  },
  {
   "cell_type": "code",
   "execution_count": null,
   "id": "d1c882d9-a1a9-4763-adf8-a83fa990f111",
   "metadata": {},
   "outputs": [],
   "source": [
    "# defining the model\n",
    "model = models.Sequential()\n",
    "\n",
    "# adding input layer\n",
    "model.add(layers.Dense(units = 100, activation = \"relu\", input_shape = (214,)))\n",
    "\n",
    "# adding hidden layers\n",
    "model.add(layers.Dense(units = 64, activation = \"relu\"))\n",
    "model.add(layers.Dense(units = 32, activation = \"relu\"))\n",
    "\n",
    "# adding output layer with appropriate units and activation function\n",
    "model.add(layers.Dense(units = 1, activation = \"sigmoid\"))\n",
    "\n",
    "# compiling the model\n",
    "model.compile(optimizer = optimizers.Adam(learning_rate = 0.001), loss = \"binary_crossentropy\", metrics = [\"accuracy\"])\n",
    "\n",
    "# fitting the model\n",
    "model.fit(X_train_balance, y_train_balance, batch_size = 32, epochs = 20)\n",
    "\n",
    "# summary of the model\n",
    "model.summary()\n",
    "\n",
    "# training the model\n",
    "history = model.fit(X_train_balance, y_train_balance, epochs = 20, batch_size = 32)\n",
    "\n",
    "# displaying training loss\n",
    "train_loss = history.history[\"loss\"]\n",
    "epochs = range(1, len(train_loss) + 1)"
   ]
  },
  {
   "cell_type": "markdown",
   "id": "ff808c65-fe80-4e31-a151-b5f31fe19e8c",
   "metadata": {},
   "source": [
    "### Evaluating the model"
   ]
  },
  {
   "cell_type": "code",
   "execution_count": null,
   "id": "f03f45ce-0069-4a7d-963d-0a2e99fbf138",
   "metadata": {},
   "outputs": [],
   "source": [
    "# predicting the model\n",
    "y_pred = model.predict(X_test)\n",
    "y_pred_binary = (y_pred >= 0.5).astype(int)\n",
    "\n",
    "# classification report\n",
    "report = classification_report(y_test, y_pred_binary)\n",
    "\n",
    "# displaying the results\n",
    "print(report)"
   ]
  },
  {
   "cell_type": "markdown",
   "id": "bb7a062d-6777-4292-bdb6-c009b406c8d9",
   "metadata": {},
   "source": [
    "The model above gave an accuracy of 84% of training data showing a correct prediction of the target variable."
   ]
  },
  {
   "cell_type": "code",
   "execution_count": null,
   "id": "0abaae45-e122-42ed-9efb-99f9d940cb71",
   "metadata": {},
   "outputs": [],
   "source": [
    "# Ensure the save directory exists\n",
    "if not os.path.exists(\"models/\"):\n",
    "    os.makedirs(\"models/\")\n",
    "\n",
    "# Instantiate the model\n",
    "model = Sequential()\n",
    "\n",
    "# Add layers\n",
    "model.add(Dense(units=100, activation=\"relu\", input_shape=(214,)))\n",
    "model.add(Dense(units=64, activation=\"relu\"))\n",
    "model.add(Dense(units=32, activation=\"relu\"))\n",
    "model.add(Dense(units=1, activation=\"sigmoid\"))\n",
    "\n",
    "# Compile the model\n",
    "model.compile(optimizer=\"adam\", loss=\"binary_crossentropy\", metrics=[\"accuracy\"])\n",
    "\n",
    "# Save the model in the native Keras format\n",
    "model.save(\"models/keras_model.keras\")\n",
    "\n",
    "# Load the model\n",
    "loaded_model = keras.models.load_model(\"models/keras_model.keras\")\n",
    "\n",
    "# Compile metrics (optional)\n",
    "loaded_model.compile(optimizer=\"adam\", loss=\"binary_crossentropy\", metrics=[\"accuracy\"])\n",
    "\n",
    "# Check the summary\n",
    "loaded_model.summary()"
   ]
  },
  {
   "cell_type": "markdown",
   "id": "da3ce54e-f4a1-4549-9370-8463ed7ae52c",
   "metadata": {},
   "source": [
    "# 9. Evaluation"
   ]
  },
  {
   "cell_type": "markdown",
   "id": "96fc2fac-48ff-4fb9-8bd2-00e2f533590b",
   "metadata": {},
   "source": [
    "We chose to use the accuracy metric because it was the most stable.\n",
    "\n",
    "Ease of Interpretation: Accuracy is an intuitive and easily interpretable metric. It represents the percentage of correct predictions among all predictions made by the model. Users, including hotel staff, can readily understand and trust this metric.\n",
    "\n",
    "Clear Benchmark: Accuracy provides a clear benchmark for evaluating model performance. It answers the basic question: \"How often is the model correct?\" This simplicity can be advantageous for communication and decision-making.\n",
    "\n",
    "Balanced Classes: If the classes of interest (e.g., bookings and cancellations) are roughly balanced, accuracy can be an effective measure. It doesn't favor one class over another and provides a sense of overall correctness.\n",
    "\n",
    "Useful for Binary Classification: In many classification problems, such as predicting hotel booking outcomes (booking or cancellation), accuracy is a suitable choice. It effectively measures the model's ability to distinguish between two classes.\n",
    "\n",
    "We tested our models with different modelling tests and from that we choose the best 3 performing models , which are :\n",
    "* Gradient Boosting model\n",
    "* Random Forest model\n",
    "* Neural Networks Model\n"
   ]
  },
  {
   "cell_type": "markdown",
   "id": "8521682a-d92e-444a-bd7e-6024b025a0e1",
   "metadata": {},
   "source": [
    "# 10. Conclusions"
   ]
  },
  {
   "cell_type": "markdown",
   "id": "ba713fdb-13fc-4bb5-8b79-adeca1f459df",
   "metadata": {},
   "source": [
    "\n",
    "* Most of the reservations are received from Travel Agencies and Tour Operators however they also have a higher cancellation rate.\n",
    "\n",
    "* Most customers prefer booking with agents.\n",
    "\n",
    "* Meal Preferences: Guests prefer Bed and Breakfast (BB) over Full Board (FB) and other meal forms.\n",
    "\n",
    "* Higher rates of reservation bookings are through online platforms.\n",
    "* City hotels show a concentration of stays during weekends, suggesting a preference for weekend getaways, thus stays oriented for leisure.\n",
    "\n",
    "* resort hotels exhibit a more balanced distribution throughout the week yet it is noticeable that they have higher stays during the weekdays. attributed to the fact that resort hotels often cater to a mix of leisure and business travelers i.e. business conferences, events, and vacationers seeking a quieter environment.\n",
    "\n",
    "* Few repeated guests compared to not-repeated.\n",
    "* factors that influence hotel reservation cancellations and bookings:\n",
    "\n",
    "* a. The customer type i.e. transient, group, contract.\n",
    "\n",
    "* b. low staff on traffic days affecting operational efficiency and customer satisfaction."
   ]
  },
  {
   "cell_type": "markdown",
   "id": "aa76f2ea-e284-40e5-9e6c-bee0c6501e79",
   "metadata": {},
   "source": [
    "# 11. Recommendations"
   ]
  },
  {
   "cell_type": "markdown",
   "id": "3009cf20-ee96-4f82-b252-77a4e9b1a400",
   "metadata": {},
   "source": [
    "* Giving rewards and packages to repeated guests.\n",
    "\n",
    "* The staff should be well trained on how to handle guests.\n",
    "\n",
    "* Keep advertising through social media, billboards and television advertisements.\n",
    "\n",
    "* Have a webapp that the Guests can book and do inquiries directly to the hotel.\n",
    "\n",
    "* Giving discounts to the guests during certain times of the year.\n",
    "\n",
    "* Having a partnership with the companies where the agents work so that they can keep bringing clients to the hotel.\n",
    "\n",
    "* We could advice City hotel to improve on their facilities through adding plants and art to attract the passersby. They may also increase the floor space inorder to avoid public congestion."
   ]
  }
 ],
 "metadata": {
  "kernelspec": {
   "display_name": "Python (myenv)",
   "language": "python",
   "name": "myenv"
  },
  "language_info": {
   "codemirror_mode": {
    "name": "ipython",
    "version": 3
   },
   "file_extension": ".py",
   "mimetype": "text/x-python",
   "name": "python",
   "nbconvert_exporter": "python",
   "pygments_lexer": "ipython3",
   "version": "3.12.3"
  }
 },
 "nbformat": 4,
 "nbformat_minor": 5
}
